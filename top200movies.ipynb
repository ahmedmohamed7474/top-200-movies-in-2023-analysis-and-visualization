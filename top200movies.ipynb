{
 "cells": [
  {
   "cell_type": "code",
   "execution_count": 1,
   "metadata": {},
   "outputs": [],
   "source": [
    "import numpy as pd\n",
    "import pandas as pd\n",
    "import matplotlib as plt\n",
    "import seaborn as sns\n",
    "import plotly.express as px\n",
    "\n",
    "pd.options.display.float_format = '{:,.2f}'.format\n",
    "pd.options.display.max_rows = None\n",
    "pd.options.display.max_columns = None\n",
    "sns.set()"
   ]
  },
  {
   "cell_type": "code",
   "execution_count": 2,
   "metadata": {},
   "outputs": [],
   "source": [
    "df = pd.read_csv('Top_200_Movies_Dataset_2023.csv')"
   ]
  },
  {
   "cell_type": "code",
   "execution_count": 3,
   "metadata": {},
   "outputs": [],
   "source": [
    "#Strip and lowercase columns names\n",
    "df.columns = df.columns.str.strip().str.lower()\n",
    "#df.columns = df.columns.str.strip()\n",
    "#df.rename(columns=lambda x: x.strip(), inplace=True)\n",
    "df.columns = [col.strip() for col in df.columns]"
   ]
  },
  {
   "cell_type": "code",
   "execution_count": 4,
   "metadata": {},
   "outputs": [
    {
     "data": {
      "text/html": [
       "<div>\n",
       "<style scoped>\n",
       "    .dataframe tbody tr th:only-of-type {\n",
       "        vertical-align: middle;\n",
       "    }\n",
       "\n",
       "    .dataframe tbody tr th {\n",
       "        vertical-align: top;\n",
       "    }\n",
       "\n",
       "    .dataframe thead th {\n",
       "        text-align: right;\n",
       "    }\n",
       "</style>\n",
       "<table border=\"1\" class=\"dataframe\">\n",
       "  <thead>\n",
       "    <tr style=\"text-align: right;\">\n",
       "      <th></th>\n",
       "      <th>rank</th>\n",
       "      <th>title</th>\n",
       "      <th>theaters</th>\n",
       "      <th>total gross</th>\n",
       "      <th>release date</th>\n",
       "      <th>distributor</th>\n",
       "    </tr>\n",
       "  </thead>\n",
       "  <tbody>\n",
       "    <tr>\n",
       "      <th>0</th>\n",
       "      <td>1</td>\n",
       "      <td>Barbie</td>\n",
       "      <td>4,337</td>\n",
       "      <td>$594,254,460</td>\n",
       "      <td>7/21/2023 0:00</td>\n",
       "      <td>Warner Bros.</td>\n",
       "    </tr>\n",
       "    <tr>\n",
       "      <th>1</th>\n",
       "      <td>2</td>\n",
       "      <td>The Super Mario Bros. Movie</td>\n",
       "      <td>4,371</td>\n",
       "      <td>$574,759,600</td>\n",
       "      <td>4/5/2023 0:00</td>\n",
       "      <td>Universal Pictures</td>\n",
       "    </tr>\n",
       "    <tr>\n",
       "      <th>2</th>\n",
       "      <td>3</td>\n",
       "      <td>Spider-Man: Across the Spider-Verse</td>\n",
       "      <td>4,332</td>\n",
       "      <td>$381,178,195</td>\n",
       "      <td>6/2/2023 0:00</td>\n",
       "      <td>Columbia Pictures</td>\n",
       "    </tr>\n",
       "    <tr>\n",
       "      <th>3</th>\n",
       "      <td>4</td>\n",
       "      <td>Guardians of the Galaxy Vol. 3</td>\n",
       "      <td>4,450</td>\n",
       "      <td>$358,995,815</td>\n",
       "      <td>5/5/2023 0:00</td>\n",
       "      <td>Walt Disney Studios Motion Pictures</td>\n",
       "    </tr>\n",
       "    <tr>\n",
       "      <th>4</th>\n",
       "      <td>5</td>\n",
       "      <td>Oppenheimer</td>\n",
       "      <td>3,761</td>\n",
       "      <td>$300,144,670</td>\n",
       "      <td>7/21/2023 0:00</td>\n",
       "      <td>Universal Pictures</td>\n",
       "    </tr>\n",
       "  </tbody>\n",
       "</table>\n",
       "</div>"
      ],
      "text/plain": [
       "   rank                                title theaters    total gross  \\\n",
       "0     1                               Barbie    4,337  $594,254,460    \n",
       "1     2          The Super Mario Bros. Movie    4,371  $574,759,600    \n",
       "2     3  Spider-Man: Across the Spider-Verse    4,332  $381,178,195    \n",
       "3     4       Guardians of the Galaxy Vol. 3    4,450  $358,995,815    \n",
       "4     5                          Oppenheimer    3,761  $300,144,670    \n",
       "\n",
       "     release date                          distributor  \n",
       "0  7/21/2023 0:00                         Warner Bros.  \n",
       "1   4/5/2023 0:00                   Universal Pictures  \n",
       "2   6/2/2023 0:00                    Columbia Pictures  \n",
       "3   5/5/2023 0:00  Walt Disney Studios Motion Pictures  \n",
       "4  7/21/2023 0:00                   Universal Pictures  "
      ]
     },
     "execution_count": 4,
     "metadata": {},
     "output_type": "execute_result"
    }
   ],
   "source": [
    "df.head()"
   ]
  },
  {
   "cell_type": "code",
   "execution_count": 5,
   "metadata": {},
   "outputs": [
    {
     "name": "stdout",
     "output_type": "stream",
     "text": [
      "<class 'pandas.core.frame.DataFrame'>\n",
      "RangeIndex: 199 entries, 0 to 198\n",
      "Data columns (total 6 columns):\n",
      " #   Column        Non-Null Count  Dtype \n",
      "---  ------        --------------  ----- \n",
      " 0   rank          199 non-null    int64 \n",
      " 1   title         199 non-null    object\n",
      " 2   theaters      199 non-null    object\n",
      " 3   total gross   199 non-null    object\n",
      " 4   release date  199 non-null    object\n",
      " 5   distributor   199 non-null    object\n",
      "dtypes: int64(1), object(5)\n",
      "memory usage: 9.5+ KB\n"
     ]
    }
   ],
   "source": [
    "df.info()"
   ]
  },
  {
   "cell_type": "code",
   "execution_count": 6,
   "metadata": {},
   "outputs": [],
   "source": [
    "df['release date'] = df['release date'].astype('datetime64[ns]')\n",
    "df['total gross'] = df['total gross'].str.replace('$', '').str.replace(',', '').astype(float)\n",
    "\n"
   ]
  },
  {
   "cell_type": "code",
   "execution_count": 7,
   "metadata": {},
   "outputs": [],
   "source": [
    "df['release date'] = pd.to_datetime(df['release date'])\n",
    "\n",
    "# Extract only the date portion and replace the original column\n",
    "df['release date'] = df['release date'].dt.date\n"
   ]
  },
  {
   "cell_type": "code",
   "execution_count": 8,
   "metadata": {},
   "outputs": [],
   "source": [
    "#df['theaters'] = df['theaters'].str.replace(',', '').astype(float)\n",
    "df['theaters'] = pd.to_numeric(df['theaters'].str.replace(',', ''), errors='coerce')\n"
   ]
  },
  {
   "cell_type": "code",
   "execution_count": 9,
   "metadata": {},
   "outputs": [
    {
     "data": {
      "text/plain": [
       "0   594,254,460.00\n",
       "1   574,759,600.00\n",
       "2   381,178,195.00\n",
       "3   358,995,815.00\n",
       "4   300,144,670.00\n",
       "Name: total gross, dtype: float64"
      ]
     },
     "execution_count": 9,
     "metadata": {},
     "output_type": "execute_result"
    }
   ],
   "source": [
    "df['total gross'].head()"
   ]
  },
  {
   "cell_type": "code",
   "execution_count": 10,
   "metadata": {},
   "outputs": [
    {
     "name": "stdout",
     "output_type": "stream",
     "text": [
      "<class 'pandas.core.frame.DataFrame'>\n",
      "RangeIndex: 199 entries, 0 to 198\n",
      "Data columns (total 6 columns):\n",
      " #   Column        Non-Null Count  Dtype  \n",
      "---  ------        --------------  -----  \n",
      " 0   rank          199 non-null    int64  \n",
      " 1   title         199 non-null    object \n",
      " 2   theaters      198 non-null    float64\n",
      " 3   total gross   199 non-null    float64\n",
      " 4   release date  199 non-null    object \n",
      " 5   distributor   199 non-null    object \n",
      "dtypes: float64(2), int64(1), object(3)\n",
      "memory usage: 9.5+ KB\n"
     ]
    }
   ],
   "source": [
    "df.info()"
   ]
  },
  {
   "cell_type": "code",
   "execution_count": 11,
   "metadata": {},
   "outputs": [
    {
     "data": {
      "text/html": [
       "<div>\n",
       "<style scoped>\n",
       "    .dataframe tbody tr th:only-of-type {\n",
       "        vertical-align: middle;\n",
       "    }\n",
       "\n",
       "    .dataframe tbody tr th {\n",
       "        vertical-align: top;\n",
       "    }\n",
       "\n",
       "    .dataframe thead th {\n",
       "        text-align: right;\n",
       "    }\n",
       "</style>\n",
       "<table border=\"1\" class=\"dataframe\">\n",
       "  <thead>\n",
       "    <tr style=\"text-align: right;\">\n",
       "      <th></th>\n",
       "      <th>count</th>\n",
       "      <th>mean</th>\n",
       "      <th>std</th>\n",
       "      <th>min</th>\n",
       "      <th>25%</th>\n",
       "      <th>50%</th>\n",
       "      <th>75%</th>\n",
       "      <th>max</th>\n",
       "    </tr>\n",
       "  </thead>\n",
       "  <tbody>\n",
       "    <tr>\n",
       "      <th>total gross</th>\n",
       "      <td>199.00</td>\n",
       "      <td>38,925,729.32</td>\n",
       "      <td>98,850,112.22</td>\n",
       "      <td>161,222.00</td>\n",
       "      <td>686,234.50</td>\n",
       "      <td>3,541,159.00</td>\n",
       "      <td>20,442,172.00</td>\n",
       "      <td>684,075,767.00</td>\n",
       "    </tr>\n",
       "  </tbody>\n",
       "</table>\n",
       "</div>"
      ],
      "text/plain": [
       "             count          mean           std        min        25%  \\\n",
       "total gross 199.00 38,925,729.32 98,850,112.22 161,222.00 686,234.50   \n",
       "\n",
       "                     50%           75%            max  \n",
       "total gross 3,541,159.00 20,442,172.00 684,075,767.00  "
      ]
     },
     "execution_count": 11,
     "metadata": {},
     "output_type": "execute_result"
    }
   ],
   "source": [
    "df[['total gross']].describe().T"
   ]
  },
  {
   "cell_type": "code",
   "execution_count": 12,
   "metadata": {},
   "outputs": [
    {
     "name": "stdout",
     "output_type": "stream",
     "text": [
      "min = 161222.0 ,  q1 = 686234.5 ,  q2 = 3541159.0  , q3 = 20442172.0  , IQR = 19755937.5 ,  LB = -28947671.75 ,  UB = 50076078.25\n"
     ]
    }
   ],
   "source": [
    "min = df['total gross'].min()\n",
    "q1 =  df['total gross'].quantile(0.25)\n",
    "q2 =  df['total gross'].median()     # == quantile(0.5)\n",
    "q3 =  df['total gross'].quantile(0.75)\n",
    "IQR = q3 - q1\n",
    "LB = q1 - (1.5 * IQR)\n",
    "UB = q3 + (1.5 * IQR)\n",
    "\n",
    "print(f'min = {min} ,  q1 = {q1} ,  q2 = {q2}  , q3 = {q3}  , IQR = {IQR} ,  LB = {LB} ,  UB = {UB}')"
   ]
  },
  {
   "cell_type": "code",
   "execution_count": 13,
   "metadata": {},
   "outputs": [
    {
     "name": "stderr",
     "output_type": "stream",
     "text": [
      "c:\\Users\\pc\\AppData\\Local\\Programs\\Python\\Python311\\Lib\\site-packages\\seaborn\\_oldcore.py:1498: FutureWarning: is_categorical_dtype is deprecated and will be removed in a future version. Use isinstance(dtype, CategoricalDtype) instead\n",
      "  if pd.api.types.is_categorical_dtype(vector):\n",
      "c:\\Users\\pc\\AppData\\Local\\Programs\\Python\\Python311\\Lib\\site-packages\\seaborn\\categorical.py:1794: FutureWarning: use_inf_as_na option is deprecated and will be removed in a future version. Convert inf values to NaN before operating instead.\n",
      "  with pd.option_context('mode.use_inf_as_na', True):\n"
     ]
    },
    {
     "data": {
      "text/plain": [
       "<Axes: xlabel='total gross'>"
      ]
     },
     "execution_count": 13,
     "metadata": {},
     "output_type": "execute_result"
    },
    {
     "data": {
      "image/png": "[encoded data removed]",
      "text/plain": [
       "<Figure size 640x480 with 1 Axes>"
      ]
     },
     "metadata": {},
     "output_type": "display_data"
    }
   ],
   "source": [
    "sns.boxenplot(data=df , x='total gross')"
   ]
  },
  {
   "cell_type": "code",
   "execution_count": 14,
   "metadata": {},
   "outputs": [
    {
     "name": "stderr",
     "output_type": "stream",
     "text": [
      "c:\\Users\\pc\\AppData\\Local\\Programs\\Python\\Python311\\Lib\\site-packages\\seaborn\\_oldcore.py:1498: FutureWarning: is_categorical_dtype is deprecated and will be removed in a future version. Use isinstance(dtype, CategoricalDtype) instead\n",
      "  if pd.api.types.is_categorical_dtype(vector):\n",
      "c:\\Users\\pc\\AppData\\Local\\Programs\\Python\\Python311\\Lib\\site-packages\\seaborn\\_oldcore.py:1498: FutureWarning: is_categorical_dtype is deprecated and will be removed in a future version. Use isinstance(dtype, CategoricalDtype) instead\n",
      "  if pd.api.types.is_categorical_dtype(vector):\n",
      "c:\\Users\\pc\\AppData\\Local\\Programs\\Python\\Python311\\Lib\\site-packages\\seaborn\\_oldcore.py:1498: FutureWarning: is_categorical_dtype is deprecated and will be removed in a future version. Use isinstance(dtype, CategoricalDtype) instead\n",
      "  if pd.api.types.is_categorical_dtype(vector):\n",
      "c:\\Users\\pc\\AppData\\Local\\Programs\\Python\\Python311\\Lib\\site-packages\\seaborn\\_oldcore.py:1119: FutureWarning: use_inf_as_na option is deprecated and will be removed in a future version. Convert inf values to NaN before operating instead.\n",
      "  with pd.option_context('mode.use_inf_as_na', True):\n",
      "c:\\Users\\pc\\AppData\\Local\\Programs\\Python\\Python311\\Lib\\site-packages\\seaborn\\_oldcore.py:1119: FutureWarning: use_inf_as_na option is deprecated and will be removed in a future version. Convert inf values to NaN before operating instead.\n",
      "  with pd.option_context('mode.use_inf_as_na', True):\n"
     ]
    },
    {
     "data": {
      "text/plain": [
       "<Axes: xlabel='distributor', ylabel='total gross'>"
      ]
     },
     "execution_count": 14,
     "metadata": {},
     "output_type": "execute_result"
    },
    {
     "data": {
      "image/png": "[encoded data removed]",
      "text/plain": [
       "<Figure size 640x480 with 1 Axes>"
      ]
     },
     "metadata": {},
     "output_type": "display_data"
    }
   ],
   "source": [
    "sns.histplot(data=df, x='distributor', y='total gross',kde=True)\n",
    "\n",
    "#plt.title('Destribution of Total gross invoices')\n",
    "\n",
    "#plt.xlabel('Distributor')\n",
    "\n",
    "#plt.ylabel('Total Gross')\n",
    "\n",
    "#plt.axvline(df['total gross'].mean() , color='red')\n",
    "\n",
    "#plt.axvline(df['total gross'].median() , color='black')\n"
   ]
  },
  {
   "cell_type": "markdown",
   "metadata": {},
   "source": [
    "# chart 1 : Total revenue by distributor"
   ]
  },
  {
   "cell_type": "code",
   "execution_count": 15,
   "metadata": {},
   "outputs": [
    {
     "data": {
      "application/vnd.plotly.v1+json": {
       "config": {
        "plotlyServerURL": "https://plot.ly"
       },
       "data": [
        {
         "alignmentgroup": "True",
         "hovertemplate": "Distributor=%{x}<br>Total Revenue=%{y}<extra></extra>",
         "legendgroup": "Warner Bros.",
         "marker": {
          "color": "#636efa",
          "pattern": {
           "shape": ""
          }
         },
         "name": "Warner Bros.",
         "offsetgroup": "Warner Bros.",
         "orientation": "v",
         "showlegend": true,
         "textposition": "auto",
         "type": "bar",
         "x": [
          "Warner Bros.",
          "Warner Bros.",
          "Warner Bros.",
          "Warner Bros.",
          "Warner Bros.",
          "Warner Bros.",
          "Warner Bros.",
          "Warner Bros.",
          "Warner Bros."
         ],
         "xaxis": "x",
         "y": [
          594254460,
          108133313,
          74469810,
          67233054,
          57638006,
          46566539,
          26005156,
          9002247,
          4275970
         ],
         "yaxis": "y"
        },
        {
         "alignmentgroup": "True",
         "hovertemplate": "Distributor=%{x}<br>Total Revenue=%{y}<extra></extra>",
         "legendgroup": "Universal Pictures",
         "marker": {
          "color": "#EF553B",
          "pattern": {
           "shape": ""
          }
         },
         "name": "Universal Pictures",
         "offsetgroup": "Universal Pictures",
         "orientation": "v",
         "showlegend": true,
         "textposition": "auto",
         "type": "bar",
         "x": [
          "Universal Pictures",
          "Universal Pictures",
          "Universal Pictures",
          "Universal Pictures",
          "Universal Pictures",
          "Universal Pictures",
          "Universal Pictures",
          "Universal Pictures",
          "Universal Pictures",
          "Universal Pictures",
          "Universal Pictures",
          "Universal Pictures",
          "Universal Pictures"
         ],
         "xaxis": "x",
         "y": [
          574759600,
          300144670,
          145960660,
          185535345,
          95043350,
          64388510,
          35397980,
          17152625,
          16840900,
          13309285,
          17348945,
          50057405,
          1864240
         ],
         "yaxis": "y"
        },
        {
         "alignmentgroup": "True",
         "hovertemplate": "Distributor=%{x}<br>Total Revenue=%{y}<extra></extra>",
         "legendgroup": "Columbia Pictures",
         "marker": {
          "color": "#00cc96",
          "pattern": {
           "shape": ""
          }
         },
         "name": "Columbia Pictures",
         "offsetgroup": "Columbia Pictures",
         "orientation": "v",
         "showlegend": true,
         "textposition": "auto",
         "type": "bar",
         "x": [
          "Columbia Pictures",
          "Columbia Pictures",
          "Columbia Pictures"
         ],
         "xaxis": "x",
         "y": [
          381178195,
          64267657,
          20511938
         ],
         "yaxis": "y"
        },
        {
         "alignmentgroup": "True",
         "hovertemplate": "Distributor=%{x}<br>Total Revenue=%{y}<extra></extra>",
         "legendgroup": "Walt Disney Studios Motion Pictures",
         "marker": {
          "color": "#ab63fa",
          "pattern": {
           "shape": ""
          }
         },
         "name": "Walt Disney Studios Motion Pictures",
         "offsetgroup": "Walt Disney Studios Motion Pictures",
         "orientation": "v",
         "showlegend": true,
         "textposition": "auto",
         "type": "bar",
         "x": [
          "Walt Disney Studios Motion Pictures",
          "Walt Disney Studios Motion Pictures",
          "Walt Disney Studios Motion Pictures",
          "Walt Disney Studios Motion Pictures",
          "Walt Disney Studios Motion Pictures",
          "Walt Disney Studios Motion Pictures",
          "Walt Disney Studios Motion Pictures",
          "Walt Disney Studios Motion Pictures",
          "Walt Disney Studios Motion Pictures",
          "Walt Disney Studios Motion Pictures"
         ],
         "xaxis": "x",
         "y": [
          358995815,
          297895447,
          214504909,
          174116627,
          151692473,
          62291150,
          43244282,
          453829060,
          3541159,
          37968963
         ],
         "yaxis": "y"
        },
        {
         "alignmentgroup": "True",
         "hovertemplate": "Distributor=%{x}<br>Total Revenue=%{y}<extra></extra>",
         "legendgroup": "20th Century Studios",
         "marker": {
          "color": "#FFA15A",
          "pattern": {
           "shape": ""
          }
         },
         "name": "20th Century Studios",
         "offsetgroup": "20th Century Studios",
         "orientation": "v",
         "showlegend": true,
         "textposition": "auto",
         "type": "bar",
         "x": [
          "20th Century Studios"
         ],
         "xaxis": "x",
         "y": [
          684075767
         ],
         "yaxis": "y"
        },
        {
         "alignmentgroup": "True",
         "hovertemplate": "Distributor=%{x}<br>Total Revenue=%{y}<extra></extra>",
         "legendgroup": "Lionsgate",
         "marker": {
          "color": "#19d3f3",
          "pattern": {
           "shape": ""
          }
         },
         "name": "Lionsgate",
         "offsetgroup": "Lionsgate",
         "orientation": "v",
         "showlegend": true,
         "textposition": "auto",
         "type": "bar",
         "x": [
          "Lionsgate",
          "Lionsgate",
          "Lionsgate",
          "Lionsgate",
          "Lionsgate",
          "Lionsgate",
          "Lionsgate",
          "Lionsgate",
          "Lionsgate"
         ],
         "xaxis": "x",
         "y": [
          187131806,
          52102987,
          32111181,
          20372406,
          17707207,
          12897789,
          12089391,
          7265622,
          6496125
         ],
         "yaxis": "y"
        },
        {
         "alignmentgroup": "True",
         "hovertemplate": "Distributor=%{x}<br>Total Revenue=%{y}<extra></extra>",
         "legendgroup": "Angel Studios",
         "marker": {
          "color": "#FF6692",
          "pattern": {
           "shape": ""
          }
         },
         "name": "Angel Studios",
         "offsetgroup": "Angel Studios",
         "orientation": "v",
         "showlegend": true,
         "textposition": "auto",
         "type": "bar",
         "x": [
          "Angel Studios",
          "Angel Studios"
         ],
         "xaxis": "x",
         "y": [
          180587629,
          12084084
         ],
         "yaxis": "y"
        },
        {
         "alignmentgroup": "True",
         "hovertemplate": "Distributor=%{x}<br>Total Revenue=%{y}<extra></extra>",
         "legendgroup": "Paramount Pictures",
         "marker": {
          "color": "#B6E880",
          "pattern": {
           "shape": ""
          }
         },
         "name": "Paramount Pictures",
         "offsetgroup": "Paramount Pictures",
         "orientation": "v",
         "showlegend": true,
         "textposition": "auto",
         "type": "bar",
         "x": [
          "Paramount Pictures",
          "Paramount Pictures",
          "Paramount Pictures",
          "Paramount Pictures",
          "Paramount Pictures",
          "Paramount Pictures",
          "Paramount Pictures",
          "Paramount Pictures"
         ],
         "xaxis": "x",
         "y": [
          168248955,
          157066392,
          108161389,
          99847538,
          93277026,
          39330588,
          15033795,
          15351455
         ],
         "yaxis": "y"
        },
        {
         "alignmentgroup": "True",
         "hovertemplate": "Distributor=%{x}<br>Total Revenue=%{y}<extra></extra>",
         "legendgroup": "United Artists Releasing",
         "marker": {
          "color": "#FF97FF",
          "pattern": {
           "shape": ""
          }
         },
         "name": "United Artists Releasing",
         "offsetgroup": "United Artists Releasing",
         "orientation": "v",
         "showlegend": true,
         "textposition": "auto",
         "type": "bar",
         "x": [
          "United Artists Releasing",
          "United Artists Releasing",
          "United Artists Releasing"
         ],
         "xaxis": "x",
         "y": [
          156248615,
          5456531,
          2210465
         ],
         "yaxis": "y"
        },
        {
         "alignmentgroup": "True",
         "hovertemplate": "Distributor=%{x}<br>Total Revenue=%{y}<extra></extra>",
         "legendgroup": "Screen Gems",
         "marker": {
          "color": "#FECB52",
          "pattern": {
           "shape": ""
          }
         },
         "name": "Screen Gems",
         "offsetgroup": "Screen Gems",
         "orientation": "v",
         "showlegend": true,
         "textposition": "auto",
         "type": "bar",
         "x": [
          "Screen Gems",
          "Screen Gems",
          "Screen Gems"
         ],
         "xaxis": "x",
         "y": [
          82042800,
          20009380,
          6230837
         ],
         "yaxis": "y"
        },
        {
         "alignmentgroup": "True",
         "hovertemplate": "Distributor=%{x}<br>Total Revenue=%{y}<extra></extra>",
         "legendgroup": "-",
         "marker": {
          "color": "#636efa",
          "pattern": {
           "shape": ""
          }
         },
         "name": "-",
         "offsetgroup": "-",
         "orientation": "v",
         "showlegend": true,
         "textposition": "auto",
         "type": "bar",
         "x": [
          "-",
          "-"
         ],
         "xaxis": "x",
         "y": [
          52460106,
          535202
         ],
         "yaxis": "y"
        },
        {
         "alignmentgroup": "True",
         "hovertemplate": "Distributor=%{x}<br>Total Revenue=%{y}<extra></extra>",
         "legendgroup": "Sony Pictures Entertainment (SPE)",
         "marker": {
          "color": "#EF553B",
          "pattern": {
           "shape": ""
          }
         },
         "name": "Sony Pictures Entertainment (SPE)",
         "offsetgroup": "Sony Pictures Entertainment (SPE)",
         "orientation": "v",
         "showlegend": true,
         "textposition": "auto",
         "type": "bar",
         "x": [
          "Sony Pictures Entertainment (SPE)",
          "Sony Pictures Entertainment (SPE)",
          "Sony Pictures Entertainment (SPE)",
          "Sony Pictures Entertainment (SPE)",
          "Sony Pictures Entertainment (SPE)",
          "Sony Pictures Entertainment (SPE)",
          "Sony Pictures Entertainment (SPE)",
          "Sony Pictures Entertainment (SPE)",
          "Sony Pictures Entertainment (SPE)",
          "Sony Pictures Entertainment (SPE)",
          "Sony Pictures Entertainment (SPE)",
          "Sony Pictures Entertainment (SPE)"
         ],
         "xaxis": "x",
         "y": [
          50452282,
          32502025,
          32062904,
          18541753,
          10458331,
          5426772,
          2104152,
          705355,
          335417,
          214470,
          46888441,
          161222
         ],
         "yaxis": "y"
        },
        {
         "alignmentgroup": "True",
         "hovertemplate": "Distributor=%{x}<br>Total Revenue=%{y}<extra></extra>",
         "legendgroup": "A24",
         "marker": {
          "color": "#00cc96",
          "pattern": {
           "shape": ""
          }
         },
         "name": "A24",
         "offsetgroup": "A24",
         "orientation": "v",
         "showlegend": true,
         "textposition": "auto",
         "type": "bar",
         "x": [
          "A24",
          "A24",
          "A24",
          "A24",
          "A24",
          "A24",
          "A24",
          "A24",
          "A24",
          "A24"
         ],
         "xaxis": "x",
         "y": [
          41066389,
          17463630,
          10724951,
          77191785,
          8176562,
          4830788,
          1100113,
          754483,
          1658790,
          196920
         ],
         "yaxis": "y"
        },
        {
         "alignmentgroup": "True",
         "hovertemplate": "Distributor=%{x}<br>Total Revenue=%{y}<extra></extra>",
         "legendgroup": "Focus Features",
         "marker": {
          "color": "#ab63fa",
          "pattern": {
           "shape": ""
          }
         },
         "name": "Focus Features",
         "offsetgroup": "Focus Features",
         "orientation": "v",
         "showlegend": true,
         "textposition": "auto",
         "type": "bar",
         "x": [
          "Focus Features",
          "Focus Features",
          "Focus Features",
          "Focus Features",
          "Focus Features",
          "Focus Features",
          "Focus Features",
          "Focus Features",
          "Focus Features"
         ],
         "xaxis": "x",
         "y": [
          28049165,
          17556340,
          16271910,
          3400020,
          1545600,
          6773650,
          897190,
          556585,
          273860
         ],
         "yaxis": "y"
        },
        {
         "alignmentgroup": "True",
         "hovertemplate": "Distributor=%{x}<br>Total Revenue=%{y}<extra></extra>",
         "legendgroup": "Yash Raj Films USA Inc.",
         "marker": {
          "color": "#FFA15A",
          "pattern": {
           "shape": ""
          }
         },
         "name": "Yash Raj Films USA Inc.",
         "offsetgroup": "Yash Raj Films USA Inc.",
         "orientation": "v",
         "showlegend": true,
         "textposition": "auto",
         "type": "bar",
         "x": [
          "Yash Raj Films USA Inc.",
          "Yash Raj Films USA Inc."
         ],
         "xaxis": "x",
         "y": [
          17487476,
          2503604
         ],
         "yaxis": "y"
        },
        {
         "alignmentgroup": "True",
         "hovertemplate": "Distributor=%{x}<br>Total Revenue=%{y}<extra></extra>",
         "legendgroup": "Metro-Goldwyn-Mayer (MGM)",
         "marker": {
          "color": "#19d3f3",
          "pattern": {
           "shape": ""
          }
         },
         "name": "Metro-Goldwyn-Mayer (MGM)",
         "offsetgroup": "Metro-Goldwyn-Mayer (MGM)",
         "orientation": "v",
         "showlegend": true,
         "textposition": "auto",
         "type": "bar",
         "x": [
          "Metro-Goldwyn-Mayer (MGM)"
         ],
         "xaxis": "x",
         "y": [
          16938039
         ],
         "yaxis": "y"
        },
        {
         "alignmentgroup": "True",
         "hovertemplate": "Distributor=%{x}<br>Total Revenue=%{y}<extra></extra>",
         "legendgroup": "DreamWorks",
         "marker": {
          "color": "#FF6692",
          "pattern": {
           "shape": ""
          }
         },
         "name": "DreamWorks",
         "offsetgroup": "DreamWorks",
         "orientation": "v",
         "showlegend": true,
         "textposition": "auto",
         "type": "bar",
         "x": [
          "DreamWorks"
         ],
         "xaxis": "x",
         "y": [
          15753600
         ],
         "yaxis": "y"
        },
        {
         "alignmentgroup": "True",
         "hovertemplate": "Distributor=%{x}<br>Total Revenue=%{y}<extra></extra>",
         "legendgroup": "Crunchyroll",
         "marker": {
          "color": "#B6E880",
          "pattern": {
           "shape": ""
          }
         },
         "name": "Crunchyroll",
         "offsetgroup": "Crunchyroll",
         "orientation": "v",
         "showlegend": true,
         "textposition": "auto",
         "type": "bar",
         "x": [
          "Crunchyroll",
          "Crunchyroll",
          "Crunchyroll",
          "Crunchyroll"
         ],
         "xaxis": "x",
         "y": [
          10760901,
          10117806,
          1588491,
          309757
         ],
         "yaxis": "y"
        },
        {
         "alignmentgroup": "True",
         "hovertemplate": "Distributor=%{x}<br>Total Revenue=%{y}<extra></extra>",
         "legendgroup": "TriStar Pictures",
         "marker": {
          "color": "#FF97FF",
          "pattern": {
           "shape": ""
          }
         },
         "name": "TriStar Pictures",
         "offsetgroup": "TriStar Pictures",
         "orientation": "v",
         "showlegend": true,
         "textposition": "auto",
         "type": "bar",
         "x": [
          "TriStar Pictures"
         ],
         "xaxis": "x",
         "y": [
          23708080
         ],
         "yaxis": "y"
        },
        {
         "alignmentgroup": "True",
         "hovertemplate": "Distributor=%{x}<br>Total Revenue=%{y}<extra></extra>",
         "legendgroup": "'-",
         "marker": {
          "color": "#FECB52",
          "pattern": {
           "shape": ""
          }
         },
         "name": "'-",
         "offsetgroup": "'-",
         "orientation": "v",
         "showlegend": true,
         "textposition": "auto",
         "type": "bar",
         "x": [
          "'-",
          "'-",
          "'-",
          "'-",
          "'-",
          "'-",
          "'-",
          "'-",
          "'-",
          "'-",
          "'-",
          "'-",
          "'-",
          "'-",
          "'-",
          "'-"
         ],
         "xaxis": "x",
         "y": [
          7259924,
          1443314,
          1090155,
          765218,
          750010,
          339946,
          335775,
          325583,
          320000,
          310746,
          308825,
          293496,
          221738,
          500082,
          193829,
          189579
         ],
         "yaxis": "y"
        },
        {
         "alignmentgroup": "True",
         "hovertemplate": "Distributor=%{x}<br>Total Revenue=%{y}<extra></extra>",
         "legendgroup": "Trafalgar Releasing",
         "marker": {
          "color": "#636efa",
          "pattern": {
           "shape": ""
          }
         },
         "name": "Trafalgar Releasing",
         "offsetgroup": "Trafalgar Releasing",
         "orientation": "v",
         "showlegend": true,
         "textposition": "auto",
         "type": "bar",
         "x": [
          "Trafalgar Releasing",
          "Trafalgar Releasing"
         ],
         "xaxis": "x",
         "y": [
          8093270,
          1290000
         ],
         "yaxis": "y"
        },
        {
         "alignmentgroup": "True",
         "hovertemplate": "Distributor=%{x}<br>Total Revenue=%{y}<extra></extra>",
         "legendgroup": "Fathom Events",
         "marker": {
          "color": "#EF553B",
          "pattern": {
           "shape": ""
          }
         },
         "name": "Fathom Events",
         "offsetgroup": "Fathom Events",
         "orientation": "v",
         "showlegend": true,
         "textposition": "auto",
         "type": "bar",
         "x": [
          "Fathom Events",
          "Fathom Events",
          "Fathom Events",
          "Fathom Events",
          "Fathom Events",
          "Fathom Events",
          "Fathom Events",
          "Fathom Events",
          "Fathom Events",
          "Fathom Events",
          "Fathom Events",
          "Fathom Events",
          "Fathom Events",
          "Fathom Events"
         ],
         "xaxis": "x",
         "y": [
          5525069,
          3649422,
          3574915,
          2500574,
          1750639,
          1455081,
          1176085,
          757981,
          601490,
          577004,
          567448,
          447912,
          295539,
          197702
         ],
         "yaxis": "y"
        },
        {
         "alignmentgroup": "True",
         "hovertemplate": "Distributor=%{x}<br>Total Revenue=%{y}<extra></extra>",
         "legendgroup": "Soli Deo Gloria Releasing",
         "marker": {
          "color": "#00cc96",
          "pattern": {
           "shape": ""
          }
         },
         "name": "Soli Deo Gloria Releasing",
         "offsetgroup": "Soli Deo Gloria Releasing",
         "orientation": "v",
         "showlegend": true,
         "textposition": "auto",
         "type": "bar",
         "x": [
          "Soli Deo Gloria Releasing"
         ],
         "xaxis": "x",
         "y": [
          5433685
         ],
         "yaxis": "y"
        },
        {
         "alignmentgroup": "True",
         "hovertemplate": "Distributor=%{x}<br>Total Revenue=%{y}<extra></extra>",
         "legendgroup": "Neon",
         "marker": {
          "color": "#ab63fa",
          "pattern": {
           "shape": ""
          }
         },
         "name": "Neon",
         "offsetgroup": "Neon",
         "orientation": "v",
         "showlegend": true,
         "textposition": "auto",
         "type": "bar",
         "x": [
          "Neon",
          "Neon",
          "Neon",
          "Neon",
          "Neon"
         ],
         "xaxis": "x",
         "y": [
          5078400,
          1500014,
          1046899,
          4608096,
          213953
         ],
         "yaxis": "y"
        },
        {
         "alignmentgroup": "True",
         "hovertemplate": "Distributor=%{x}<br>Total Revenue=%{y}<extra></extra>",
         "legendgroup": "Open Road Films (II)",
         "marker": {
          "color": "#FFA15A",
          "pattern": {
           "shape": ""
          }
         },
         "name": "Open Road Films (II)",
         "offsetgroup": "Open Road Films (II)",
         "orientation": "v",
         "showlegend": true,
         "textposition": "auto",
         "type": "bar",
         "x": [
          "Open Road Films (II)",
          "Open Road Films (II)"
         ],
         "xaxis": "x",
         "y": [
          4813132,
          4350243
         ],
         "yaxis": "y"
        },
        {
         "alignmentgroup": "True",
         "hovertemplate": "Distributor=%{x}<br>Total Revenue=%{y}<extra></extra>",
         "legendgroup": "Ketchup Entertainment",
         "marker": {
          "color": "#19d3f3",
          "pattern": {
           "shape": ""
          }
         },
         "name": "Ketchup Entertainment",
         "offsetgroup": "Ketchup Entertainment",
         "orientation": "v",
         "showlegend": true,
         "textposition": "auto",
         "type": "bar",
         "x": [
          "Ketchup Entertainment"
         ],
         "xaxis": "x",
         "y": [
          4500169
         ],
         "yaxis": "y"
        },
        {
         "alignmentgroup": "True",
         "hovertemplate": "Distributor=%{x}<br>Total Revenue=%{y}<extra></extra>",
         "legendgroup": "Viva Pictures",
         "marker": {
          "color": "#FF6692",
          "pattern": {
           "shape": ""
          }
         },
         "name": "Viva Pictures",
         "offsetgroup": "Viva Pictures",
         "orientation": "v",
         "showlegend": true,
         "textposition": "auto",
         "type": "bar",
         "x": [
          "Viva Pictures",
          "Viva Pictures"
         ],
         "xaxis": "x",
         "y": [
          4303645,
          744169
         ],
         "yaxis": "y"
        },
        {
         "alignmentgroup": "True",
         "hovertemplate": "Distributor=%{x}<br>Total Revenue=%{y}<extra></extra>",
         "legendgroup": "Roadside Attractions",
         "marker": {
          "color": "#B6E880",
          "pattern": {
           "shape": ""
          }
         },
         "name": "Roadside Attractions",
         "offsetgroup": "Roadside Attractions",
         "orientation": "v",
         "showlegend": true,
         "textposition": "auto",
         "type": "bar",
         "x": [
          "Roadside Attractions",
          "Roadside Attractions",
          "Roadside Attractions",
          "Roadside Attractions",
          "Roadside Attractions"
         ],
         "xaxis": "x",
         "y": [
          3821285,
          2136832,
          1802442,
          855173,
          276672
         ],
         "yaxis": "y"
        },
        {
         "alignmentgroup": "True",
         "hovertemplate": "Distributor=%{x}<br>Total Revenue=%{y}<extra></extra>",
         "legendgroup": "Searchlight Pictures",
         "marker": {
          "color": "#FF97FF",
          "pattern": {
           "shape": ""
          }
         },
         "name": "Searchlight Pictures",
         "offsetgroup": "Searchlight Pictures",
         "orientation": "v",
         "showlegend": true,
         "textposition": "auto",
         "type": "bar",
         "x": [
          "Searchlight Pictures",
          "Searchlight Pictures",
          "Searchlight Pictures",
          "Searchlight Pictures"
         ],
         "xaxis": "x",
         "y": [
          3644801,
          38501125,
          10582266,
          1177577
         ],
         "yaxis": "y"
        },
        {
         "alignmentgroup": "True",
         "hovertemplate": "Distributor=%{x}<br>Total Revenue=%{y}<extra></extra>",
         "legendgroup": "Bleecker Street Media",
         "marker": {
          "color": "#FECB52",
          "pattern": {
           "shape": ""
          }
         },
         "name": "Bleecker Street Media",
         "offsetgroup": "Bleecker Street Media",
         "orientation": "v",
         "showlegend": true,
         "textposition": "auto",
         "type": "bar",
         "x": [
          "Bleecker Street Media",
          "Bleecker Street Media",
          "Bleecker Street Media",
          "Bleecker Street Media",
          "Bleecker Street Media"
         ],
         "xaxis": "x",
         "y": [
          3496761,
          1856809,
          1775876,
          1097067,
          161290
         ],
         "yaxis": "y"
        },
        {
         "alignmentgroup": "True",
         "hovertemplate": "Distributor=%{x}<br>Total Revenue=%{y}<extra></extra>",
         "legendgroup": "Well Go USA Entertainment",
         "marker": {
          "color": "#636efa",
          "pattern": {
           "shape": ""
          }
         },
         "name": "Well Go USA Entertainment",
         "offsetgroup": "Well Go USA Entertainment",
         "orientation": "v",
         "showlegend": true,
         "textposition": "auto",
         "type": "bar",
         "x": [
          "Well Go USA Entertainment",
          "Well Go USA Entertainment",
          "Well Go USA Entertainment"
         ],
         "xaxis": "x",
         "y": [
          5023132,
          803189,
          277011
         ],
         "yaxis": "y"
        },
        {
         "alignmentgroup": "True",
         "hovertemplate": "Distributor=%{x}<br>Total Revenue=%{y}<extra></extra>",
         "legendgroup": "ShortsTV",
         "marker": {
          "color": "#EF553B",
          "pattern": {
           "shape": ""
          }
         },
         "name": "ShortsTV",
         "offsetgroup": "ShortsTV",
         "orientation": "v",
         "showlegend": true,
         "textposition": "auto",
         "type": "bar",
         "x": [
          "ShortsTV"
         ],
         "xaxis": "x",
         "y": [
          3025631
         ],
         "yaxis": "y"
        },
        {
         "alignmentgroup": "True",
         "hovertemplate": "Distributor=%{x}<br>Total Revenue=%{y}<extra></extra>",
         "legendgroup": "Sony Pictures Classics",
         "marker": {
          "color": "#00cc96",
          "pattern": {
           "shape": ""
          }
         },
         "name": "Sony Pictures Classics",
         "offsetgroup": "Sony Pictures Classics",
         "orientation": "v",
         "showlegend": true,
         "textposition": "auto",
         "type": "bar",
         "x": [
          "Sony Pictures Classics",
          "Sony Pictures Classics",
          "Sony Pictures Classics",
          "Sony Pictures Classics",
          "Sony Pictures Classics"
         ],
         "xaxis": "x",
         "y": [
          3038113,
          798774,
          653780,
          451549,
          449650
         ],
         "yaxis": "y"
        },
        {
         "alignmentgroup": "True",
         "hovertemplate": "Distributor=%{x}<br>Total Revenue=%{y}<extra></extra>",
         "legendgroup": "Briarcliff Entertainment",
         "marker": {
          "color": "#ab63fa",
          "pattern": {
           "shape": ""
          }
         },
         "name": "Briarcliff Entertainment",
         "offsetgroup": "Briarcliff Entertainment",
         "orientation": "v",
         "showlegend": true,
         "textposition": "auto",
         "type": "bar",
         "x": [
          "Briarcliff Entertainment",
          "Briarcliff Entertainment"
         ],
         "xaxis": "x",
         "y": [
          2515612,
          541633
         ],
         "yaxis": "y"
        },
        {
         "alignmentgroup": "True",
         "hovertemplate": "Distributor=%{x}<br>Total Revenue=%{y}<extra></extra>",
         "legendgroup": "IFC Films",
         "marker": {
          "color": "#FFA15A",
          "pattern": {
           "shape": ""
          }
         },
         "name": "IFC Films",
         "offsetgroup": "IFC Films",
         "orientation": "v",
         "showlegend": true,
         "textposition": "auto",
         "type": "bar",
         "x": [
          "IFC Films",
          "IFC Films",
          "IFC Films",
          "IFC Films",
          "IFC Films",
          "IFC Films"
         ],
         "xaxis": "x",
         "y": [
          2052272,
          1476597,
          1188032,
          811739,
          705767,
          538551
         ],
         "yaxis": "y"
        },
        {
         "alignmentgroup": "True",
         "hovertemplate": "Distributor=%{x}<br>Total Revenue=%{y}<extra></extra>",
         "legendgroup": "Hidden Empire Film Group (HEFG)",
         "marker": {
          "color": "#19d3f3",
          "pattern": {
           "shape": ""
          }
         },
         "name": "Hidden Empire Film Group (HEFG)",
         "offsetgroup": "Hidden Empire Film Group (HEFG)",
         "orientation": "v",
         "showlegend": true,
         "textposition": "auto",
         "type": "bar",
         "x": [
          "Hidden Empire Film Group (HEFG)"
         ],
         "xaxis": "x",
         "y": [
          2090261
         ],
         "yaxis": "y"
        },
        {
         "alignmentgroup": "True",
         "hovertemplate": "Distributor=%{x}<br>Total Revenue=%{y}<extra></extra>",
         "legendgroup": "CMC Pictures",
         "marker": {
          "color": "#FF6692",
          "pattern": {
           "shape": ""
          }
         },
         "name": "CMC Pictures",
         "offsetgroup": "CMC Pictures",
         "orientation": "v",
         "showlegend": true,
         "textposition": "auto",
         "type": "bar",
         "x": [
          "CMC Pictures"
         ],
         "xaxis": "x",
         "y": [
          1721446
         ],
         "yaxis": "y"
        },
        {
         "alignmentgroup": "True",
         "hovertemplate": "Distributor=%{x}<br>Total Revenue=%{y}<extra></extra>",
         "legendgroup": "Vertical Entertainment",
         "marker": {
          "color": "#B6E880",
          "pattern": {
           "shape": ""
          }
         },
         "name": "Vertical Entertainment",
         "offsetgroup": "Vertical Entertainment",
         "orientation": "v",
         "showlegend": true,
         "textposition": "auto",
         "type": "bar",
         "x": [
          "Vertical Entertainment"
         ],
         "xaxis": "x",
         "y": [
          1293722
         ],
         "yaxis": "y"
        },
        {
         "alignmentgroup": "True",
         "hovertemplate": "Distributor=%{x}<br>Total Revenue=%{y}<extra></extra>",
         "legendgroup": "GKIDS",
         "marker": {
          "color": "#FF97FF",
          "pattern": {
           "shape": ""
          }
         },
         "name": "GKIDS",
         "offsetgroup": "GKIDS",
         "orientation": "v",
         "showlegend": true,
         "textposition": "auto",
         "type": "bar",
         "x": [
          "GKIDS"
         ],
         "xaxis": "x",
         "y": [
          1256517
         ],
         "yaxis": "y"
        },
        {
         "alignmentgroup": "True",
         "hovertemplate": "Distributor=%{x}<br>Total Revenue=%{y}<extra></extra>",
         "legendgroup": "Capelight Pictures",
         "marker": {
          "color": "#FECB52",
          "pattern": {
           "shape": ""
          }
         },
         "name": "Capelight Pictures",
         "offsetgroup": "Capelight Pictures",
         "orientation": "v",
         "showlegend": true,
         "textposition": "auto",
         "type": "bar",
         "x": [
          "Capelight Pictures"
         ],
         "xaxis": "x",
         "y": [
          909411
         ],
         "yaxis": "y"
        },
        {
         "alignmentgroup": "True",
         "hovertemplate": "Distributor=%{x}<br>Total Revenue=%{y}<extra></extra>",
         "legendgroup": "Magnolia Pictures",
         "marker": {
          "color": "#636efa",
          "pattern": {
           "shape": ""
          }
         },
         "name": "Magnolia Pictures",
         "offsetgroup": "Magnolia Pictures",
         "orientation": "v",
         "showlegend": true,
         "textposition": "auto",
         "type": "bar",
         "x": [
          "Magnolia Pictures"
         ],
         "xaxis": "x",
         "y": [
          667114
         ],
         "yaxis": "y"
        },
        {
         "alignmentgroup": "True",
         "hovertemplate": "Distributor=%{x}<br>Total Revenue=%{y}<extra></extra>",
         "legendgroup": "Sideshow Releasing",
         "marker": {
          "color": "#EF553B",
          "pattern": {
           "shape": ""
          }
         },
         "name": "Sideshow Releasing",
         "offsetgroup": "Sideshow Releasing",
         "orientation": "v",
         "showlegend": true,
         "textposition": "auto",
         "type": "bar",
         "x": [
          "Sideshow Releasing",
          "Sideshow Releasing"
         ],
         "xaxis": "x",
         "y": [
          1068782,
          204620
         ],
         "yaxis": "y"
        },
        {
         "alignmentgroup": "True",
         "hovertemplate": "Distributor=%{x}<br>Total Revenue=%{y}<extra></extra>",
         "legendgroup": "Orion Pictures",
         "marker": {
          "color": "#00cc96",
          "pattern": {
           "shape": ""
          }
         },
         "name": "Orion Pictures",
         "offsetgroup": "Orion Pictures",
         "orientation": "v",
         "showlegend": true,
         "textposition": "auto",
         "type": "bar",
         "x": [
          "Orion Pictures"
         ],
         "xaxis": "x",
         "y": [
          533978
         ],
         "yaxis": "y"
        },
        {
         "alignmentgroup": "True",
         "hovertemplate": "Distributor=%{x}<br>Total Revenue=%{y}<extra></extra>",
         "legendgroup": "Atlas Distribution Company",
         "marker": {
          "color": "#ab63fa",
          "pattern": {
           "shape": ""
          }
         },
         "name": "Atlas Distribution Company",
         "offsetgroup": "Atlas Distribution Company",
         "orientation": "v",
         "showlegend": true,
         "textposition": "auto",
         "type": "bar",
         "x": [
          "Atlas Distribution Company"
         ],
         "xaxis": "x",
         "y": [
          412550
         ],
         "yaxis": "y"
        },
        {
         "alignmentgroup": "True",
         "hovertemplate": "Distributor=%{x}<br>Total Revenue=%{y}<extra></extra>",
         "legendgroup": "Blue Fox Entertainment",
         "marker": {
          "color": "#FFA15A",
          "pattern": {
           "shape": ""
          }
         },
         "name": "Blue Fox Entertainment",
         "offsetgroup": "Blue Fox Entertainment",
         "orientation": "v",
         "showlegend": true,
         "textposition": "auto",
         "type": "bar",
         "x": [
          "Blue Fox Entertainment",
          "Blue Fox Entertainment"
         ],
         "xaxis": "x",
         "y": [
          379890,
          288414
         ],
         "yaxis": "y"
        },
        {
         "alignmentgroup": "True",
         "hovertemplate": "Distributor=%{x}<br>Total Revenue=%{y}<extra></extra>",
         "legendgroup": "Oscilloscope",
         "marker": {
          "color": "#19d3f3",
          "pattern": {
           "shape": ""
          }
         },
         "name": "Oscilloscope",
         "offsetgroup": "Oscilloscope",
         "orientation": "v",
         "showlegend": true,
         "textposition": "auto",
         "type": "bar",
         "x": [
          "Oscilloscope",
          "Oscilloscope"
         ],
         "xaxis": "x",
         "y": [
          327584,
          302550
         ],
         "yaxis": "y"
        },
        {
         "alignmentgroup": "True",
         "hovertemplate": "Distributor=%{x}<br>Total Revenue=%{y}<extra></extra>",
         "legendgroup": "Purdie Distribution",
         "marker": {
          "color": "#FF6692",
          "pattern": {
           "shape": ""
          }
         },
         "name": "Purdie Distribution",
         "offsetgroup": "Purdie Distribution",
         "orientation": "v",
         "showlegend": true,
         "textposition": "auto",
         "type": "bar",
         "x": [
          "Purdie Distribution"
         ],
         "xaxis": "x",
         "y": [
          340017
         ],
         "yaxis": "y"
        },
        {
         "alignmentgroup": "True",
         "hovertemplate": "Distributor=%{x}<br>Total Revenue=%{y}<extra></extra>",
         "legendgroup": "Picturehouse",
         "marker": {
          "color": "#B6E880",
          "pattern": {
           "shape": ""
          }
         },
         "name": "Picturehouse",
         "offsetgroup": "Picturehouse",
         "orientation": "v",
         "showlegend": true,
         "textposition": "auto",
         "type": "bar",
         "x": [
          "Picturehouse"
         ],
         "xaxis": "x",
         "y": [
          326184
         ],
         "yaxis": "y"
        },
        {
         "alignmentgroup": "True",
         "hovertemplate": "Distributor=%{x}<br>Total Revenue=%{y}<extra></extra>",
         "legendgroup": "MUBI",
         "marker": {
          "color": "#FF97FF",
          "pattern": {
           "shape": ""
          }
         },
         "name": "MUBI",
         "offsetgroup": "MUBI",
         "orientation": "v",
         "showlegend": true,
         "textposition": "auto",
         "type": "bar",
         "x": [
          "MUBI"
         ],
         "xaxis": "x",
         "y": [
          415827
         ],
         "yaxis": "y"
        },
        {
         "alignmentgroup": "True",
         "hovertemplate": "Distributor=%{x}<br>Total Revenue=%{y}<extra></extra>",
         "legendgroup": "Variance Films",
         "marker": {
          "color": "#FECB52",
          "pattern": {
           "shape": ""
          }
         },
         "name": "Variance Films",
         "offsetgroup": "Variance Films",
         "orientation": "v",
         "showlegend": true,
         "textposition": "auto",
         "type": "bar",
         "x": [
          "Variance Films",
          "Variance Films"
         ],
         "xaxis": "x",
         "y": [
          302456,
          256566
         ],
         "yaxis": "y"
        },
        {
         "alignmentgroup": "True",
         "hovertemplate": "Distributor=%{x}<br>Total Revenue=%{y}<extra></extra>",
         "legendgroup": "Kino Lorber",
         "marker": {
          "color": "#636efa",
          "pattern": {
           "shape": ""
          }
         },
         "name": "Kino Lorber",
         "offsetgroup": "Kino Lorber",
         "orientation": "v",
         "showlegend": true,
         "textposition": "auto",
         "type": "bar",
         "x": [
          "Kino Lorber"
         ],
         "xaxis": "x",
         "y": [
          180135
         ],
         "yaxis": "y"
        },
        {
         "alignmentgroup": "True",
         "hovertemplate": "Distributor=%{x}<br>Total Revenue=%{y}<extra></extra>",
         "legendgroup": "Rialto Pictures",
         "marker": {
          "color": "#EF553B",
          "pattern": {
           "shape": ""
          }
         },
         "name": "Rialto Pictures",
         "offsetgroup": "Rialto Pictures",
         "orientation": "v",
         "showlegend": true,
         "textposition": "auto",
         "type": "bar",
         "x": [
          "Rialto Pictures"
         ],
         "xaxis": "x",
         "y": [
          173816
         ],
         "yaxis": "y"
        },
        {
         "alignmentgroup": "True",
         "hovertemplate": "Distributor=%{x}<br>Total Revenue=%{y}<extra></extra>",
         "legendgroup": "Quiver Distribution",
         "marker": {
          "color": "#00cc96",
          "pattern": {
           "shape": ""
          }
         },
         "name": "Quiver Distribution",
         "offsetgroup": "Quiver Distribution",
         "orientation": "v",
         "showlegend": true,
         "textposition": "auto",
         "type": "bar",
         "x": [
          "Quiver Distribution"
         ],
         "xaxis": "x",
         "y": [
          168109
         ],
         "yaxis": "y"
        }
       ],
       "layout": {
        "autosize": true,
        "barmode": "relative",
        "height": 750,
        "legend": {
         "title": {
          "text": "Distributor"
         },
         "tracegroupgap": 0
        },
        "template": {
         "data": {
          "bar": [
           {
            "error_x": {
             "color": "#2a3f5f"
            },
            "error_y": {
             "color": "#2a3f5f"
            },
            "marker": {
             "line": {
              "color": "#E5ECF6",
              "width": 0.5
             },
             "pattern": {
              "fillmode": "overlay",
              "size": 10,
              "solidity": 0.2
             }
            },
            "type": "bar"
           }
          ],
          "barpolar": [
           {
            "marker": {
             "line": {
              "color": "#E5ECF6",
              "width": 0.5
             },
             "pattern": {
              "fillmode": "overlay",
              "size": 10,
              "solidity": 0.2
             }
            },
            "type": "barpolar"
           }
          ],
          "carpet": [
           {
            "aaxis": {
             "endlinecolor": "#2a3f5f",
             "gridcolor": "white",
             "linecolor": "white",
             "minorgridcolor": "white",
             "startlinecolor": "#2a3f5f"
            },
            "baxis": {
             "endlinecolor": "#2a3f5f",
             "gridcolor": "white",
             "linecolor": "white",
             "minorgridcolor": "white",
             "startlinecolor": "#2a3f5f"
            },
            "type": "carpet"
           }
          ],
          "choropleth": [
           {
            "colorbar": {
             "outlinewidth": 0,
             "ticks": ""
            },
            "type": "choropleth"
           }
          ],
          "contour": [
           {
            "colorbar": {
             "outlinewidth": 0,
             "ticks": ""
            },
            "colorscale": [
             [
              0,
              "#0d0887"
             ],
             [
              0.1111111111111111,
              "#46039f"
             ],
             [
              0.2222222222222222,
              "#7201a8"
             ],
             [
              0.3333333333333333,
              "#9c179e"
             ],
             [
              0.4444444444444444,
              "#bd3786"
             ],
             [
              0.5555555555555556,
              "#d8576b"
             ],
             [
              0.6666666666666666,
              "#ed7953"
             ],
             [
              0.7777777777777778,
              "#fb9f3a"
             ],
             [
              0.8888888888888888,
              "#fdca26"
             ],
             [
              1,
              "#f0f921"
             ]
            ],
            "type": "contour"
           }
          ],
          "contourcarpet": [
           {
            "colorbar": {
             "outlinewidth": 0,
             "ticks": ""
            },
            "type": "contourcarpet"
           }
          ],
          "heatmap": [
           {
            "colorbar": {
             "outlinewidth": 0,
             "ticks": ""
            },
            "colorscale": [
             [
              0,
              "#0d0887"
             ],
             [
              0.1111111111111111,
              "#46039f"
             ],
             [
              0.2222222222222222,
              "#7201a8"
             ],
             [
              0.3333333333333333,
              "#9c179e"
             ],
             [
              0.4444444444444444,
              "#bd3786"
             ],
             [
              0.5555555555555556,
              "#d8576b"
             ],
             [
              0.6666666666666666,
              "#ed7953"
             ],
             [
              0.7777777777777778,
              "#fb9f3a"
             ],
             [
              0.8888888888888888,
              "#fdca26"
             ],
             [
              1,
              "#f0f921"
             ]
            ],
            "type": "heatmap"
           }
          ],
          "heatmapgl": [
           {
            "colorbar": {
             "outlinewidth": 0,
             "ticks": ""
            },
            "colorscale": [
             [
              0,
              "#0d0887"
             ],
             [
              0.1111111111111111,
              "#46039f"
             ],
             [
              0.2222222222222222,
              "#7201a8"
             ],
             [
              0.3333333333333333,
              "#9c179e"
             ],
             [
              0.4444444444444444,
              "#bd3786"
             ],
             [
              0.5555555555555556,
              "#d8576b"
             ],
             [
              0.6666666666666666,
              "#ed7953"
             ],
             [
              0.7777777777777778,
              "#fb9f3a"
             ],
             [
              0.8888888888888888,
              "#fdca26"
             ],
             [
              1,
              "#f0f921"
             ]
            ],
            "type": "heatmapgl"
           }
          ],
          "histogram": [
           {
            "marker": {
             "pattern": {
              "fillmode": "overlay",
              "size": 10,
              "solidity": 0.2
             }
            },
            "type": "histogram"
           }
          ],
          "histogram2d": [
           {
            "colorbar": {
             "outlinewidth": 0,
             "ticks": ""
            },
            "colorscale": [
             [
              0,
              "#0d0887"
             ],
             [
              0.1111111111111111,
              "#46039f"
             ],
             [
              0.2222222222222222,
              "#7201a8"
             ],
             [
              0.3333333333333333,
              "#9c179e"
             ],
             [
              0.4444444444444444,
              "#bd3786"
             ],
             [
              0.5555555555555556,
              "#d8576b"
             ],
             [
              0.6666666666666666,
              "#ed7953"
             ],
             [
              0.7777777777777778,
              "#fb9f3a"
             ],
             [
              0.8888888888888888,
              "#fdca26"
             ],
             [
              1,
              "#f0f921"
             ]
            ],
            "type": "histogram2d"
           }
          ],
          "histogram2dcontour": [
           {
            "colorbar": {
             "outlinewidth": 0,
             "ticks": ""
            },
            "colorscale": [
             [
              0,
              "#0d0887"
             ],
             [
              0.1111111111111111,
              "#46039f"
             ],
             [
              0.2222222222222222,
              "#7201a8"
             ],
             [
              0.3333333333333333,
              "#9c179e"
             ],
             [
              0.4444444444444444,
              "#bd3786"
             ],
             [
              0.5555555555555556,
              "#d8576b"
             ],
             [
              0.6666666666666666,
              "#ed7953"
             ],
             [
              0.7777777777777778,
              "#fb9f3a"
             ],
             [
              0.8888888888888888,
              "#fdca26"
             ],
             [
              1,
              "#f0f921"
             ]
            ],
            "type": "histogram2dcontour"
           }
          ],
          "mesh3d": [
           {
            "colorbar": {
             "outlinewidth": 0,
             "ticks": ""
            },
            "type": "mesh3d"
           }
          ],
          "parcoords": [
           {
            "line": {
             "colorbar": {
              "outlinewidth": 0,
              "ticks": ""
             }
            },
            "type": "parcoords"
           }
          ],
          "pie": [
           {
            "automargin": true,
            "type": "pie"
           }
          ],
          "scatter": [
           {
            "fillpattern": {
             "fillmode": "overlay",
             "size": 10,
             "solidity": 0.2
            },
            "type": "scatter"
           }
          ],
          "scatter3d": [
           {
            "line": {
             "colorbar": {
              "outlinewidth": 0,
              "ticks": ""
             }
            },
            "marker": {
             "colorbar": {
              "outlinewidth": 0,
              "ticks": ""
             }
            },
            "type": "scatter3d"
           }
          ],
          "scattercarpet": [
           {
            "marker": {
             "colorbar": {
              "outlinewidth": 0,
              "ticks": ""
             }
            },
            "type": "scattercarpet"
           }
          ],
          "scattergeo": [
           {
            "marker": {
             "colorbar": {
              "outlinewidth": 0,
              "ticks": ""
             }
            },
            "type": "scattergeo"
           }
          ],
          "scattergl": [
           {
            "marker": {
             "colorbar": {
              "outlinewidth": 0,
              "ticks": ""
             }
            },
            "type": "scattergl"
           }
          ],
          "scattermapbox": [
           {
            "marker": {
             "colorbar": {
              "outlinewidth": 0,
              "ticks": ""
             }
            },
            "type": "scattermapbox"
           }
          ],
          "scatterpolar": [
           {
            "marker": {
             "colorbar": {
              "outlinewidth": 0,
              "ticks": ""
             }
            },
            "type": "scatterpolar"
           }
          ],
          "scatterpolargl": [
           {
            "marker": {
             "colorbar": {
              "outlinewidth": 0,
              "ticks": ""
             }
            },
            "type": "scatterpolargl"
           }
          ],
          "scatterternary": [
           {
            "marker": {
             "colorbar": {
              "outlinewidth": 0,
              "ticks": ""
             }
            },
            "type": "scatterternary"
           }
          ],
          "surface": [
           {
            "colorbar": {
             "outlinewidth": 0,
             "ticks": ""
            },
            "colorscale": [
             [
              0,
              "#0d0887"
             ],
             [
              0.1111111111111111,
              "#46039f"
             ],
             [
              0.2222222222222222,
              "#7201a8"
             ],
             [
              0.3333333333333333,
              "#9c179e"
             ],
             [
              0.4444444444444444,
              "#bd3786"
             ],
             [
              0.5555555555555556,
              "#d8576b"
             ],
             [
              0.6666666666666666,
              "#ed7953"
             ],
             [
              0.7777777777777778,
              "#fb9f3a"
             ],
             [
              0.8888888888888888,
              "#fdca26"
             ],
             [
              1,
              "#f0f921"
             ]
            ],
            "type": "surface"
           }
          ],
          "table": [
           {
            "cells": {
             "fill": {
              "color": "#EBF0F8"
             },
             "line": {
              "color": "white"
             }
            },
            "header": {
             "fill": {
              "color": "#C8D4E3"
             },
             "line": {
              "color": "white"
             }
            },
            "type": "table"
           }
          ]
         },
         "layout": {
          "annotationdefaults": {
           "arrowcolor": "#2a3f5f",
           "arrowhead": 0,
           "arrowwidth": 1
          },
          "autotypenumbers": "strict",
          "coloraxis": {
           "colorbar": {
            "outlinewidth": 0,
            "ticks": ""
           }
          },
          "colorscale": {
           "diverging": [
            [
             0,
             "#8e0152"
            ],
            [
             0.1,
             "#c51b7d"
            ],
            [
             0.2,
             "#de77ae"
            ],
            [
             0.3,
             "#f1b6da"
            ],
            [
             0.4,
             "#fde0ef"
            ],
            [
             0.5,
             "#f7f7f7"
            ],
            [
             0.6,
             "#e6f5d0"
            ],
            [
             0.7,
             "#b8e186"
            ],
            [
             0.8,
             "#7fbc41"
            ],
            [
             0.9,
             "#4d9221"
            ],
            [
             1,
             "#276419"
            ]
           ],
           "sequential": [
            [
             0,
             "#0d0887"
            ],
            [
             0.1111111111111111,
             "#46039f"
            ],
            [
             0.2222222222222222,
             "#7201a8"
            ],
            [
             0.3333333333333333,
             "#9c179e"
            ],
            [
             0.4444444444444444,
             "#bd3786"
            ],
            [
             0.5555555555555556,
             "#d8576b"
            ],
            [
             0.6666666666666666,
             "#ed7953"
            ],
            [
             0.7777777777777778,
             "#fb9f3a"
            ],
            [
             0.8888888888888888,
             "#fdca26"
            ],
            [
             1,
             "#f0f921"
            ]
           ],
           "sequentialminus": [
            [
             0,
             "#0d0887"
            ],
            [
             0.1111111111111111,
             "#46039f"
            ],
            [
             0.2222222222222222,
             "#7201a8"
            ],
            [
             0.3333333333333333,
             "#9c179e"
            ],
            [
             0.4444444444444444,
             "#bd3786"
            ],
            [
             0.5555555555555556,
             "#d8576b"
            ],
            [
             0.6666666666666666,
             "#ed7953"
            ],
            [
             0.7777777777777778,
             "#fb9f3a"
            ],
            [
             0.8888888888888888,
             "#fdca26"
            ],
            [
             1,
             "#f0f921"
            ]
           ]
          },
          "colorway": [
           "#636efa",
           "#EF553B",
           "#00cc96",
           "#ab63fa",
           "#FFA15A",
           "#19d3f3",
           "#FF6692",
           "#B6E880",
           "#FF97FF",
           "#FECB52"
          ],
          "font": {
           "color": "#2a3f5f"
          },
          "geo": {
           "bgcolor": "white",
           "lakecolor": "white",
           "landcolor": "#E5ECF6",
           "showlakes": true,
           "showland": true,
           "subunitcolor": "white"
          },
          "hoverlabel": {
           "align": "left"
          },
          "hovermode": "closest",
          "mapbox": {
           "style": "light"
          },
          "paper_bgcolor": "white",
          "plot_bgcolor": "#E5ECF6",
          "polar": {
           "angularaxis": {
            "gridcolor": "white",
            "linecolor": "white",
            "ticks": ""
           },
           "bgcolor": "#E5ECF6",
           "radialaxis": {
            "gridcolor": "white",
            "linecolor": "white",
            "ticks": ""
           }
          },
          "scene": {
           "xaxis": {
            "backgroundcolor": "#E5ECF6",
            "gridcolor": "white",
            "gridwidth": 2,
            "linecolor": "white",
            "showbackground": true,
            "ticks": "",
            "zerolinecolor": "white"
           },
           "yaxis": {
            "backgroundcolor": "#E5ECF6",
            "gridcolor": "white",
            "gridwidth": 2,
            "linecolor": "white",
            "showbackground": true,
            "ticks": "",
            "zerolinecolor": "white"
           },
           "zaxis": {
            "backgroundcolor": "#E5ECF6",
            "gridcolor": "white",
            "gridwidth": 2,
            "linecolor": "white",
            "showbackground": true,
            "ticks": "",
            "zerolinecolor": "white"
           }
          },
          "shapedefaults": {
           "line": {
            "color": "#2a3f5f"
           }
          },
          "ternary": {
           "aaxis": {
            "gridcolor": "white",
            "linecolor": "white",
            "ticks": ""
           },
           "baxis": {
            "gridcolor": "white",
            "linecolor": "white",
            "ticks": ""
           },
           "bgcolor": "#E5ECF6",
           "caxis": {
            "gridcolor": "white",
            "linecolor": "white",
            "ticks": ""
           }
          },
          "title": {
           "x": 0.05
          },
          "xaxis": {
           "automargin": true,
           "gridcolor": "white",
           "linecolor": "white",
           "ticks": "",
           "title": {
            "standoff": 15
           },
           "zerolinecolor": "white",
           "zerolinewidth": 2
          },
          "yaxis": {
           "automargin": true,
           "gridcolor": "white",
           "linecolor": "white",
           "ticks": "",
           "title": {
            "standoff": 15
           },
           "zerolinecolor": "white",
           "zerolinewidth": 2
          }
         }
        },
        "title": {
         "text": "Total Revenue by Distributor",
         "x": 0.5
        },
        "width": 750,
        "xaxis": {
         "anchor": "y",
         "categoryarray": [
          "Warner Bros.",
          "Universal Pictures",
          "Columbia Pictures",
          "Walt Disney Studios Motion Pictures",
          "20th Century Studios",
          "Lionsgate",
          "Angel Studios",
          "Paramount Pictures",
          "United Artists Releasing",
          "Screen Gems",
          "-",
          "Sony Pictures Entertainment (SPE)",
          "A24",
          "Focus Features",
          "Yash Raj Films USA Inc.",
          "Metro-Goldwyn-Mayer (MGM)",
          "DreamWorks",
          "Crunchyroll",
          "TriStar Pictures",
          "'-",
          "Trafalgar Releasing",
          "Fathom Events",
          "Soli Deo Gloria Releasing",
          "Neon",
          "Open Road Films (II)",
          "Ketchup Entertainment",
          "Viva Pictures",
          "Roadside Attractions",
          "Searchlight Pictures",
          "Bleecker Street Media",
          "Well Go USA Entertainment",
          "ShortsTV",
          "Sony Pictures Classics",
          "Briarcliff Entertainment",
          "IFC Films",
          "Hidden Empire Film Group (HEFG)",
          "CMC Pictures",
          "Vertical Entertainment",
          "GKIDS",
          "Capelight Pictures",
          "Magnolia Pictures",
          "Sideshow Releasing",
          "Orion Pictures",
          "Atlas Distribution Company",
          "Blue Fox Entertainment",
          "Oscilloscope",
          "Purdie Distribution",
          "Picturehouse",
          "MUBI",
          "Variance Films",
          "Kino Lorber",
          "Rialto Pictures",
          "Quiver Distribution"
         ],
         "categoryorder": "array",
         "domain": [
          0,
          1
         ],
         "title": {
          "text": "Distributor"
         }
        },
        "yaxis": {
         "anchor": "x",
         "domain": [
          0,
          1
         ],
         "title": {
          "text": "Total Revenue"
         }
        }
       }
      }
     },
     "metadata": {},
     "output_type": "display_data"
    }
   ],
   "source": [
    "#fig = px.bar(data_frame=df , x= 'distributor' , y='total gross' , title='Total revenue by Distributor',labels={'distributor' : 'Distributor' , \n",
    "#'totalgross' : 'Total Revenue'})\n",
    "#fig.update_layout(title_x=0.5)\n",
    "fig = px.bar(data_frame=df, x='distributor', y='total gross', title='Total Revenue by Distributor',\n",
    "            labels={'distributor': 'Distributor', 'total gross': 'Total Revenue'} ,color='distributor')\n",
    "fig.update_layout(title_x=0.5)\n",
    "fig.update_layout(\n",
    "    autosize=True,\n",
    "    width=750,\n",
    "    height=750,\n",
    ")\n",
    "\n",
    "\n",
    "\n"
   ]
  },
  {
   "cell_type": "markdown",
   "metadata": {},
   "source": [
    "# Chart 2: Total Revenue by Distributor by Pie chart"
   ]
  },
  {
   "cell_type": "code",
   "execution_count": 16,
   "metadata": {},
   "outputs": [
    {
     "data": {
      "application/vnd.plotly.v1+json": {
       "config": {
        "plotlyServerURL": "https://plot.ly"
       },
       "data": [
        {
         "domain": {
          "x": [
           0,
           1
          ],
          "y": [
           0,
           1
          ]
         },
         "hovertemplate": "distributor=%{label}<br>total gross=%{value}<extra></extra>",
         "labels": [
          "20th Century Studios",
          "Warner Bros.",
          "Universal Pictures",
          "Walt Disney Studios Motion Pictures",
          "Columbia Pictures",
          "Walt Disney Studios Motion Pictures",
          "Universal Pictures",
          "Walt Disney Studios Motion Pictures",
          "Walt Disney Studios Motion Pictures",
          "Lionsgate"
         ],
         "legendgroup": "",
         "name": "",
         "showlegend": true,
         "type": "pie",
         "values": [
          684075767,
          594254460,
          574759600,
          453829060,
          381178195,
          358995815,
          300144670,
          297895447,
          214504909,
          187131806
         ]
        }
       ],
       "layout": {
        "legend": {
         "tracegroupgap": 0
        },
        "template": {
         "data": {
          "bar": [
           {
            "error_x": {
             "color": "#2a3f5f"
            },
            "error_y": {
             "color": "#2a3f5f"
            },
            "marker": {
             "line": {
              "color": "#E5ECF6",
              "width": 0.5
             },
             "pattern": {
              "fillmode": "overlay",
              "size": 10,
              "solidity": 0.2
             }
            },
            "type": "bar"
           }
          ],
          "barpolar": [
           {
            "marker": {
             "line": {
              "color": "#E5ECF6",
              "width": 0.5
             },
             "pattern": {
              "fillmode": "overlay",
              "size": 10,
              "solidity": 0.2
             }
            },
            "type": "barpolar"
           }
          ],
          "carpet": [
           {
            "aaxis": {
             "endlinecolor": "#2a3f5f",
             "gridcolor": "white",
             "linecolor": "white",
             "minorgridcolor": "white",
             "startlinecolor": "#2a3f5f"
            },
            "baxis": {
             "endlinecolor": "#2a3f5f",
             "gridcolor": "white",
             "linecolor": "white",
             "minorgridcolor": "white",
             "startlinecolor": "#2a3f5f"
            },
            "type": "carpet"
           }
          ],
          "choropleth": [
           {
            "colorbar": {
             "outlinewidth": 0,
             "ticks": ""
            },
            "type": "choropleth"
           }
          ],
          "contour": [
           {
            "colorbar": {
             "outlinewidth": 0,
             "ticks": ""
            },
            "colorscale": [
             [
              0,
              "#0d0887"
             ],
             [
              0.1111111111111111,
              "#46039f"
             ],
             [
              0.2222222222222222,
              "#7201a8"
             ],
             [
              0.3333333333333333,
              "#9c179e"
             ],
             [
              0.4444444444444444,
              "#bd3786"
             ],
             [
              0.5555555555555556,
              "#d8576b"
             ],
             [
              0.6666666666666666,
              "#ed7953"
             ],
             [
              0.7777777777777778,
              "#fb9f3a"
             ],
             [
              0.8888888888888888,
              "#fdca26"
             ],
             [
              1,
              "#f0f921"
             ]
            ],
            "type": "contour"
           }
          ],
          "contourcarpet": [
           {
            "colorbar": {
             "outlinewidth": 0,
             "ticks": ""
            },
            "type": "contourcarpet"
           }
          ],
          "heatmap": [
           {
            "colorbar": {
             "outlinewidth": 0,
             "ticks": ""
            },
            "colorscale": [
             [
              0,
              "#0d0887"
             ],
             [
              0.1111111111111111,
              "#46039f"
             ],
             [
              0.2222222222222222,
              "#7201a8"
             ],
             [
              0.3333333333333333,
              "#9c179e"
             ],
             [
              0.4444444444444444,
              "#bd3786"
             ],
             [
              0.5555555555555556,
              "#d8576b"
             ],
             [
              0.6666666666666666,
              "#ed7953"
             ],
             [
              0.7777777777777778,
              "#fb9f3a"
             ],
             [
              0.8888888888888888,
              "#fdca26"
             ],
             [
              1,
              "#f0f921"
             ]
            ],
            "type": "heatmap"
           }
          ],
          "heatmapgl": [
           {
            "colorbar": {
             "outlinewidth": 0,
             "ticks": ""
            },
            "colorscale": [
             [
              0,
              "#0d0887"
             ],
             [
              0.1111111111111111,
              "#46039f"
             ],
             [
              0.2222222222222222,
              "#7201a8"
             ],
             [
              0.3333333333333333,
              "#9c179e"
             ],
             [
              0.4444444444444444,
              "#bd3786"
             ],
             [
              0.5555555555555556,
              "#d8576b"
             ],
             [
              0.6666666666666666,
              "#ed7953"
             ],
             [
              0.7777777777777778,
              "#fb9f3a"
             ],
             [
              0.8888888888888888,
              "#fdca26"
             ],
             [
              1,
              "#f0f921"
             ]
            ],
            "type": "heatmapgl"
           }
          ],
          "histogram": [
           {
            "marker": {
             "pattern": {
              "fillmode": "overlay",
              "size": 10,
              "solidity": 0.2
             }
            },
            "type": "histogram"
           }
          ],
          "histogram2d": [
           {
            "colorbar": {
             "outlinewidth": 0,
             "ticks": ""
            },
            "colorscale": [
             [
              0,
              "#0d0887"
             ],
             [
              0.1111111111111111,
              "#46039f"
             ],
             [
              0.2222222222222222,
              "#7201a8"
             ],
             [
              0.3333333333333333,
              "#9c179e"
             ],
             [
              0.4444444444444444,
              "#bd3786"
             ],
             [
              0.5555555555555556,
              "#d8576b"
             ],
             [
              0.6666666666666666,
              "#ed7953"
             ],
             [
              0.7777777777777778,
              "#fb9f3a"
             ],
             [
              0.8888888888888888,
              "#fdca26"
             ],
             [
              1,
              "#f0f921"
             ]
            ],
            "type": "histogram2d"
           }
          ],
          "histogram2dcontour": [
           {
            "colorbar": {
             "outlinewidth": 0,
             "ticks": ""
            },
            "colorscale": [
             [
              0,
              "#0d0887"
             ],
             [
              0.1111111111111111,
              "#46039f"
             ],
             [
              0.2222222222222222,
              "#7201a8"
             ],
             [
              0.3333333333333333,
              "#9c179e"
             ],
             [
              0.4444444444444444,
              "#bd3786"
             ],
             [
              0.5555555555555556,
              "#d8576b"
             ],
             [
              0.6666666666666666,
              "#ed7953"
             ],
             [
              0.7777777777777778,
              "#fb9f3a"
             ],
             [
              0.8888888888888888,
              "#fdca26"
             ],
             [
              1,
              "#f0f921"
             ]
            ],
            "type": "histogram2dcontour"
           }
          ],
          "mesh3d": [
           {
            "colorbar": {
             "outlinewidth": 0,
             "ticks": ""
            },
            "type": "mesh3d"
           }
          ],
          "parcoords": [
           {
            "line": {
             "colorbar": {
              "outlinewidth": 0,
              "ticks": ""
             }
            },
            "type": "parcoords"
           }
          ],
          "pie": [
           {
            "automargin": true,
            "type": "pie"
           }
          ],
          "scatter": [
           {
            "fillpattern": {
             "fillmode": "overlay",
             "size": 10,
             "solidity": 0.2
            },
            "type": "scatter"
           }
          ],
          "scatter3d": [
           {
            "line": {
             "colorbar": {
              "outlinewidth": 0,
              "ticks": ""
             }
            },
            "marker": {
             "colorbar": {
              "outlinewidth": 0,
              "ticks": ""
             }
            },
            "type": "scatter3d"
           }
          ],
          "scattercarpet": [
           {
            "marker": {
             "colorbar": {
              "outlinewidth": 0,
              "ticks": ""
             }
            },
            "type": "scattercarpet"
           }
          ],
          "scattergeo": [
           {
            "marker": {
             "colorbar": {
              "outlinewidth": 0,
              "ticks": ""
             }
            },
            "type": "scattergeo"
           }
          ],
          "scattergl": [
           {
            "marker": {
             "colorbar": {
              "outlinewidth": 0,
              "ticks": ""
             }
            },
            "type": "scattergl"
           }
          ],
          "scattermapbox": [
           {
            "marker": {
             "colorbar": {
              "outlinewidth": 0,
              "ticks": ""
             }
            },
            "type": "scattermapbox"
           }
          ],
          "scatterpolar": [
           {
            "marker": {
             "colorbar": {
              "outlinewidth": 0,
              "ticks": ""
             }
            },
            "type": "scatterpolar"
           }
          ],
          "scatterpolargl": [
           {
            "marker": {
             "colorbar": {
              "outlinewidth": 0,
              "ticks": ""
             }
            },
            "type": "scatterpolargl"
           }
          ],
          "scatterternary": [
           {
            "marker": {
             "colorbar": {
              "outlinewidth": 0,
              "ticks": ""
             }
            },
            "type": "scatterternary"
           }
          ],
          "surface": [
           {
            "colorbar": {
             "outlinewidth": 0,
             "ticks": ""
            },
            "colorscale": [
             [
              0,
              "#0d0887"
             ],
             [
              0.1111111111111111,
              "#46039f"
             ],
             [
              0.2222222222222222,
              "#7201a8"
             ],
             [
              0.3333333333333333,
              "#9c179e"
             ],
             [
              0.4444444444444444,
              "#bd3786"
             ],
             [
              0.5555555555555556,
              "#d8576b"
             ],
             [
              0.6666666666666666,
              "#ed7953"
             ],
             [
              0.7777777777777778,
              "#fb9f3a"
             ],
             [
              0.8888888888888888,
              "#fdca26"
             ],
             [
              1,
              "#f0f921"
             ]
            ],
            "type": "surface"
           }
          ],
          "table": [
           {
            "cells": {
             "fill": {
              "color": "#EBF0F8"
             },
             "line": {
              "color": "white"
             }
            },
            "header": {
             "fill": {
              "color": "#C8D4E3"
             },
             "line": {
              "color": "white"
             }
            },
            "type": "table"
           }
          ]
         },
         "layout": {
          "annotationdefaults": {
           "arrowcolor": "#2a3f5f",
           "arrowhead": 0,
           "arrowwidth": 1
          },
          "autotypenumbers": "strict",
          "coloraxis": {
           "colorbar": {
            "outlinewidth": 0,
            "ticks": ""
           }
          },
          "colorscale": {
           "diverging": [
            [
             0,
             "#8e0152"
            ],
            [
             0.1,
             "#c51b7d"
            ],
            [
             0.2,
             "#de77ae"
            ],
            [
             0.3,
             "#f1b6da"
            ],
            [
             0.4,
             "#fde0ef"
            ],
            [
             0.5,
             "#f7f7f7"
            ],
            [
             0.6,
             "#e6f5d0"
            ],
            [
             0.7,
             "#b8e186"
            ],
            [
             0.8,
             "#7fbc41"
            ],
            [
             0.9,
             "#4d9221"
            ],
            [
             1,
             "#276419"
            ]
           ],
           "sequential": [
            [
             0,
             "#0d0887"
            ],
            [
             0.1111111111111111,
             "#46039f"
            ],
            [
             0.2222222222222222,
             "#7201a8"
            ],
            [
             0.3333333333333333,
             "#9c179e"
            ],
            [
             0.4444444444444444,
             "#bd3786"
            ],
            [
             0.5555555555555556,
             "#d8576b"
            ],
            [
             0.6666666666666666,
             "#ed7953"
            ],
            [
             0.7777777777777778,
             "#fb9f3a"
            ],
            [
             0.8888888888888888,
             "#fdca26"
            ],
            [
             1,
             "#f0f921"
            ]
           ],
           "sequentialminus": [
            [
             0,
             "#0d0887"
            ],
            [
             0.1111111111111111,
             "#46039f"
            ],
            [
             0.2222222222222222,
             "#7201a8"
            ],
            [
             0.3333333333333333,
             "#9c179e"
            ],
            [
             0.4444444444444444,
             "#bd3786"
            ],
            [
             0.5555555555555556,
             "#d8576b"
            ],
            [
             0.6666666666666666,
             "#ed7953"
            ],
            [
             0.7777777777777778,
             "#fb9f3a"
            ],
            [
             0.8888888888888888,
             "#fdca26"
            ],
            [
             1,
             "#f0f921"
            ]
           ]
          },
          "colorway": [
           "#636efa",
           "#EF553B",
           "#00cc96",
           "#ab63fa",
           "#FFA15A",
           "#19d3f3",
           "#FF6692",
           "#B6E880",
           "#FF97FF",
           "#FECB52"
          ],
          "font": {
           "color": "#2a3f5f"
          },
          "geo": {
           "bgcolor": "white",
           "lakecolor": "white",
           "landcolor": "#E5ECF6",
           "showlakes": true,
           "showland": true,
           "subunitcolor": "white"
          },
          "hoverlabel": {
           "align": "left"
          },
          "hovermode": "closest",
          "mapbox": {
           "style": "light"
          },
          "paper_bgcolor": "white",
          "plot_bgcolor": "#E5ECF6",
          "polar": {
           "angularaxis": {
            "gridcolor": "white",
            "linecolor": "white",
            "ticks": ""
           },
           "bgcolor": "#E5ECF6",
           "radialaxis": {
            "gridcolor": "white",
            "linecolor": "white",
            "ticks": ""
           }
          },
          "scene": {
           "xaxis": {
            "backgroundcolor": "#E5ECF6",
            "gridcolor": "white",
            "gridwidth": 2,
            "linecolor": "white",
            "showbackground": true,
            "ticks": "",
            "zerolinecolor": "white"
           },
           "yaxis": {
            "backgroundcolor": "#E5ECF6",
            "gridcolor": "white",
            "gridwidth": 2,
            "linecolor": "white",
            "showbackground": true,
            "ticks": "",
            "zerolinecolor": "white"
           },
           "zaxis": {
            "backgroundcolor": "#E5ECF6",
            "gridcolor": "white",
            "gridwidth": 2,
            "linecolor": "white",
            "showbackground": true,
            "ticks": "",
            "zerolinecolor": "white"
           }
          },
          "shapedefaults": {
           "line": {
            "color": "#2a3f5f"
           }
          },
          "ternary": {
           "aaxis": {
            "gridcolor": "white",
            "linecolor": "white",
            "ticks": ""
           },
           "baxis": {
            "gridcolor": "white",
            "linecolor": "white",
            "ticks": ""
           },
           "bgcolor": "#E5ECF6",
           "caxis": {
            "gridcolor": "white",
            "linecolor": "white",
            "ticks": ""
           }
          },
          "title": {
           "x": 0.05
          },
          "xaxis": {
           "automargin": true,
           "gridcolor": "white",
           "linecolor": "white",
           "ticks": "",
           "title": {
            "standoff": 15
           },
           "zerolinecolor": "white",
           "zerolinewidth": 2
          },
          "yaxis": {
           "automargin": true,
           "gridcolor": "white",
           "linecolor": "white",
           "ticks": "",
           "title": {
            "standoff": 15
           },
           "zerolinecolor": "white",
           "zerolinewidth": 2
          }
         }
        },
        "title": {
         "text": "Top 10 Distributors by Total Gross",
         "x": 0.4
        }
       }
      }
     },
     "metadata": {},
     "output_type": "display_data"
    }
   ],
   "source": [
    "df_sorted = df.sort_values(by='total gross', ascending=False)\n",
    "df_top10 = df_sorted.head(10)\n",
    "fig = px.pie(data_frame=df_top10, names='distributor', values='total gross', title='Top 10 Distributors by Total Gross')\n",
    "fig.update_layout(title_x=0.4)\n",
    "fig.show()"
   ]
  },
  {
   "cell_type": "code",
   "execution_count": 17,
   "metadata": {},
   "outputs": [],
   "source": [
    "#fig=px.bar(data_frame=df.distributor.value_counts() )  \n",
    "#fig.update_layout(\n",
    " #   autosize=True,\n",
    "  #  width=750,\n",
    "   # height=750,\n",
    "#)"
   ]
  },
  {
   "cell_type": "markdown",
   "metadata": {},
   "source": [
    "# Chart 3: NO.of movies produced by Distributors per year"
   ]
  },
  {
   "cell_type": "code",
   "execution_count": 18,
   "metadata": {},
   "outputs": [
    {
     "data": {
      "application/vnd.plotly.v1+json": {
       "config": {
        "plotlyServerURL": "https://plot.ly"
       },
       "data": [
        {
         "alignmentgroup": "True",
         "hovertemplate": "distributor=%{x}<br>count=%{y}<extra></extra>",
         "legendgroup": "'-",
         "marker": {
          "color": "#636efa",
          "pattern": {
           "shape": ""
          }
         },
         "name": "'-",
         "offsetgroup": "'-",
         "orientation": "v",
         "showlegend": true,
         "textposition": "auto",
         "type": "bar",
         "x": [
          "'-"
         ],
         "xaxis": "x",
         "y": [
          16
         ],
         "yaxis": "y"
        },
        {
         "alignmentgroup": "True",
         "hovertemplate": "distributor=%{x}<br>count=%{y}<extra></extra>",
         "legendgroup": "Fathom Events",
         "marker": {
          "color": "#EF553B",
          "pattern": {
           "shape": ""
          }
         },
         "name": "Fathom Events",
         "offsetgroup": "Fathom Events",
         "orientation": "v",
         "showlegend": true,
         "textposition": "auto",
         "type": "bar",
         "x": [
          "Fathom Events"
         ],
         "xaxis": "x",
         "y": [
          14
         ],
         "yaxis": "y"
        },
        {
         "alignmentgroup": "True",
         "hovertemplate": "distributor=%{x}<br>count=%{y}<extra></extra>",
         "legendgroup": "Universal Pictures",
         "marker": {
          "color": "#00cc96",
          "pattern": {
           "shape": ""
          }
         },
         "name": "Universal Pictures",
         "offsetgroup": "Universal Pictures",
         "orientation": "v",
         "showlegend": true,
         "textposition": "auto",
         "type": "bar",
         "x": [
          "Universal Pictures"
         ],
         "xaxis": "x",
         "y": [
          13
         ],
         "yaxis": "y"
        },
        {
         "alignmentgroup": "True",
         "hovertemplate": "distributor=%{x}<br>count=%{y}<extra></extra>",
         "legendgroup": "Sony Pictures Entertainment (SPE)",
         "marker": {
          "color": "#ab63fa",
          "pattern": {
           "shape": ""
          }
         },
         "name": "Sony Pictures Entertainment (SPE)",
         "offsetgroup": "Sony Pictures Entertainment (SPE)",
         "orientation": "v",
         "showlegend": true,
         "textposition": "auto",
         "type": "bar",
         "x": [
          "Sony Pictures Entertainment (SPE)"
         ],
         "xaxis": "x",
         "y": [
          12
         ],
         "yaxis": "y"
        },
        {
         "alignmentgroup": "True",
         "hovertemplate": "distributor=%{x}<br>count=%{y}<extra></extra>",
         "legendgroup": "Walt Disney Studios Motion Pictures",
         "marker": {
          "color": "#FFA15A",
          "pattern": {
           "shape": ""
          }
         },
         "name": "Walt Disney Studios Motion Pictures",
         "offsetgroup": "Walt Disney Studios Motion Pictures",
         "orientation": "v",
         "showlegend": true,
         "textposition": "auto",
         "type": "bar",
         "x": [
          "Walt Disney Studios Motion Pictures"
         ],
         "xaxis": "x",
         "y": [
          10
         ],
         "yaxis": "y"
        },
        {
         "alignmentgroup": "True",
         "hovertemplate": "distributor=%{x}<br>count=%{y}<extra></extra>",
         "legendgroup": "A24",
         "marker": {
          "color": "#19d3f3",
          "pattern": {
           "shape": ""
          }
         },
         "name": "A24",
         "offsetgroup": "A24",
         "orientation": "v",
         "showlegend": true,
         "textposition": "auto",
         "type": "bar",
         "x": [
          "A24"
         ],
         "xaxis": "x",
         "y": [
          10
         ],
         "yaxis": "y"
        },
        {
         "alignmentgroup": "True",
         "hovertemplate": "distributor=%{x}<br>count=%{y}<extra></extra>",
         "legendgroup": "Warner Bros.",
         "marker": {
          "color": "#FF6692",
          "pattern": {
           "shape": ""
          }
         },
         "name": "Warner Bros.",
         "offsetgroup": "Warner Bros.",
         "orientation": "v",
         "showlegend": true,
         "textposition": "auto",
         "type": "bar",
         "x": [
          "Warner Bros."
         ],
         "xaxis": "x",
         "y": [
          9
         ],
         "yaxis": "y"
        },
        {
         "alignmentgroup": "True",
         "hovertemplate": "distributor=%{x}<br>count=%{y}<extra></extra>",
         "legendgroup": "Focus Features",
         "marker": {
          "color": "#B6E880",
          "pattern": {
           "shape": ""
          }
         },
         "name": "Focus Features",
         "offsetgroup": "Focus Features",
         "orientation": "v",
         "showlegend": true,
         "textposition": "auto",
         "type": "bar",
         "x": [
          "Focus Features"
         ],
         "xaxis": "x",
         "y": [
          9
         ],
         "yaxis": "y"
        },
        {
         "alignmentgroup": "True",
         "hovertemplate": "distributor=%{x}<br>count=%{y}<extra></extra>",
         "legendgroup": "Lionsgate",
         "marker": {
          "color": "#FF97FF",
          "pattern": {
           "shape": ""
          }
         },
         "name": "Lionsgate",
         "offsetgroup": "Lionsgate",
         "orientation": "v",
         "showlegend": true,
         "textposition": "auto",
         "type": "bar",
         "x": [
          "Lionsgate"
         ],
         "xaxis": "x",
         "y": [
          9
         ],
         "yaxis": "y"
        },
        {
         "alignmentgroup": "True",
         "hovertemplate": "distributor=%{x}<br>count=%{y}<extra></extra>",
         "legendgroup": "Paramount Pictures",
         "marker": {
          "color": "#FECB52",
          "pattern": {
           "shape": ""
          }
         },
         "name": "Paramount Pictures",
         "offsetgroup": "Paramount Pictures",
         "orientation": "v",
         "showlegend": true,
         "textposition": "auto",
         "type": "bar",
         "x": [
          "Paramount Pictures"
         ],
         "xaxis": "x",
         "y": [
          8
         ],
         "yaxis": "y"
        },
        {
         "alignmentgroup": "True",
         "hovertemplate": "distributor=%{x}<br>count=%{y}<extra></extra>",
         "legendgroup": "IFC Films",
         "marker": {
          "color": "#636efa",
          "pattern": {
           "shape": ""
          }
         },
         "name": "IFC Films",
         "offsetgroup": "IFC Films",
         "orientation": "v",
         "showlegend": true,
         "textposition": "auto",
         "type": "bar",
         "x": [
          "IFC Films"
         ],
         "xaxis": "x",
         "y": [
          6
         ],
         "yaxis": "y"
        },
        {
         "alignmentgroup": "True",
         "hovertemplate": "distributor=%{x}<br>count=%{y}<extra></extra>",
         "legendgroup": "Roadside Attractions",
         "marker": {
          "color": "#EF553B",
          "pattern": {
           "shape": ""
          }
         },
         "name": "Roadside Attractions",
         "offsetgroup": "Roadside Attractions",
         "orientation": "v",
         "showlegend": true,
         "textposition": "auto",
         "type": "bar",
         "x": [
          "Roadside Attractions"
         ],
         "xaxis": "x",
         "y": [
          5
         ],
         "yaxis": "y"
        },
        {
         "alignmentgroup": "True",
         "hovertemplate": "distributor=%{x}<br>count=%{y}<extra></extra>",
         "legendgroup": "Sony Pictures Classics",
         "marker": {
          "color": "#00cc96",
          "pattern": {
           "shape": ""
          }
         },
         "name": "Sony Pictures Classics",
         "offsetgroup": "Sony Pictures Classics",
         "orientation": "v",
         "showlegend": true,
         "textposition": "auto",
         "type": "bar",
         "x": [
          "Sony Pictures Classics"
         ],
         "xaxis": "x",
         "y": [
          5
         ],
         "yaxis": "y"
        },
        {
         "alignmentgroup": "True",
         "hovertemplate": "distributor=%{x}<br>count=%{y}<extra></extra>",
         "legendgroup": "Neon",
         "marker": {
          "color": "#ab63fa",
          "pattern": {
           "shape": ""
          }
         },
         "name": "Neon",
         "offsetgroup": "Neon",
         "orientation": "v",
         "showlegend": true,
         "textposition": "auto",
         "type": "bar",
         "x": [
          "Neon"
         ],
         "xaxis": "x",
         "y": [
          5
         ],
         "yaxis": "y"
        },
        {
         "alignmentgroup": "True",
         "hovertemplate": "distributor=%{x}<br>count=%{y}<extra></extra>",
         "legendgroup": "Bleecker Street Media",
         "marker": {
          "color": "#FFA15A",
          "pattern": {
           "shape": ""
          }
         },
         "name": "Bleecker Street Media",
         "offsetgroup": "Bleecker Street Media",
         "orientation": "v",
         "showlegend": true,
         "textposition": "auto",
         "type": "bar",
         "x": [
          "Bleecker Street Media"
         ],
         "xaxis": "x",
         "y": [
          5
         ],
         "yaxis": "y"
        },
        {
         "alignmentgroup": "True",
         "hovertemplate": "distributor=%{x}<br>count=%{y}<extra></extra>",
         "legendgroup": "Searchlight Pictures",
         "marker": {
          "color": "#19d3f3",
          "pattern": {
           "shape": ""
          }
         },
         "name": "Searchlight Pictures",
         "offsetgroup": "Searchlight Pictures",
         "orientation": "v",
         "showlegend": true,
         "textposition": "auto",
         "type": "bar",
         "x": [
          "Searchlight Pictures"
         ],
         "xaxis": "x",
         "y": [
          4
         ],
         "yaxis": "y"
        },
        {
         "alignmentgroup": "True",
         "hovertemplate": "distributor=%{x}<br>count=%{y}<extra></extra>",
         "legendgroup": "Crunchyroll",
         "marker": {
          "color": "#FF6692",
          "pattern": {
           "shape": ""
          }
         },
         "name": "Crunchyroll",
         "offsetgroup": "Crunchyroll",
         "orientation": "v",
         "showlegend": true,
         "textposition": "auto",
         "type": "bar",
         "x": [
          "Crunchyroll"
         ],
         "xaxis": "x",
         "y": [
          4
         ],
         "yaxis": "y"
        },
        {
         "alignmentgroup": "True",
         "hovertemplate": "distributor=%{x}<br>count=%{y}<extra></extra>",
         "legendgroup": "Screen Gems",
         "marker": {
          "color": "#B6E880",
          "pattern": {
           "shape": ""
          }
         },
         "name": "Screen Gems",
         "offsetgroup": "Screen Gems",
         "orientation": "v",
         "showlegend": true,
         "textposition": "auto",
         "type": "bar",
         "x": [
          "Screen Gems"
         ],
         "xaxis": "x",
         "y": [
          3
         ],
         "yaxis": "y"
        },
        {
         "alignmentgroup": "True",
         "hovertemplate": "distributor=%{x}<br>count=%{y}<extra></extra>",
         "legendgroup": "Well Go USA Entertainment",
         "marker": {
          "color": "#FF97FF",
          "pattern": {
           "shape": ""
          }
         },
         "name": "Well Go USA Entertainment",
         "offsetgroup": "Well Go USA Entertainment",
         "orientation": "v",
         "showlegend": true,
         "textposition": "auto",
         "type": "bar",
         "x": [
          "Well Go USA Entertainment"
         ],
         "xaxis": "x",
         "y": [
          3
         ],
         "yaxis": "y"
        },
        {
         "alignmentgroup": "True",
         "hovertemplate": "distributor=%{x}<br>count=%{y}<extra></extra>",
         "legendgroup": "Columbia Pictures",
         "marker": {
          "color": "#FECB52",
          "pattern": {
           "shape": ""
          }
         },
         "name": "Columbia Pictures",
         "offsetgroup": "Columbia Pictures",
         "orientation": "v",
         "showlegend": true,
         "textposition": "auto",
         "type": "bar",
         "x": [
          "Columbia Pictures"
         ],
         "xaxis": "x",
         "y": [
          3
         ],
         "yaxis": "y"
        },
        {
         "alignmentgroup": "True",
         "hovertemplate": "distributor=%{x}<br>count=%{y}<extra></extra>",
         "legendgroup": "United Artists Releasing",
         "marker": {
          "color": "#636efa",
          "pattern": {
           "shape": ""
          }
         },
         "name": "United Artists Releasing",
         "offsetgroup": "United Artists Releasing",
         "orientation": "v",
         "showlegend": true,
         "textposition": "auto",
         "type": "bar",
         "x": [
          "United Artists Releasing"
         ],
         "xaxis": "x",
         "y": [
          3
         ],
         "yaxis": "y"
        },
        {
         "alignmentgroup": "True",
         "hovertemplate": "distributor=%{x}<br>count=%{y}<extra></extra>",
         "legendgroup": "Briarcliff Entertainment",
         "marker": {
          "color": "#EF553B",
          "pattern": {
           "shape": ""
          }
         },
         "name": "Briarcliff Entertainment",
         "offsetgroup": "Briarcliff Entertainment",
         "orientation": "v",
         "showlegend": true,
         "textposition": "auto",
         "type": "bar",
         "x": [
          "Briarcliff Entertainment"
         ],
         "xaxis": "x",
         "y": [
          2
         ],
         "yaxis": "y"
        },
        {
         "alignmentgroup": "True",
         "hovertemplate": "distributor=%{x}<br>count=%{y}<extra></extra>",
         "legendgroup": "Variance Films",
         "marker": {
          "color": "#00cc96",
          "pattern": {
           "shape": ""
          }
         },
         "name": "Variance Films",
         "offsetgroup": "Variance Films",
         "orientation": "v",
         "showlegend": true,
         "textposition": "auto",
         "type": "bar",
         "x": [
          "Variance Films"
         ],
         "xaxis": "x",
         "y": [
          2
         ],
         "yaxis": "y"
        },
        {
         "alignmentgroup": "True",
         "hovertemplate": "distributor=%{x}<br>count=%{y}<extra></extra>",
         "legendgroup": "Sideshow Releasing",
         "marker": {
          "color": "#ab63fa",
          "pattern": {
           "shape": ""
          }
         },
         "name": "Sideshow Releasing",
         "offsetgroup": "Sideshow Releasing",
         "orientation": "v",
         "showlegend": true,
         "textposition": "auto",
         "type": "bar",
         "x": [
          "Sideshow Releasing"
         ],
         "xaxis": "x",
         "y": [
          2
         ],
         "yaxis": "y"
        },
        {
         "alignmentgroup": "True",
         "hovertemplate": "distributor=%{x}<br>count=%{y}<extra></extra>",
         "legendgroup": "Oscilloscope",
         "marker": {
          "color": "#FFA15A",
          "pattern": {
           "shape": ""
          }
         },
         "name": "Oscilloscope",
         "offsetgroup": "Oscilloscope",
         "orientation": "v",
         "showlegend": true,
         "textposition": "auto",
         "type": "bar",
         "x": [
          "Oscilloscope"
         ],
         "xaxis": "x",
         "y": [
          2
         ],
         "yaxis": "y"
        },
        {
         "alignmentgroup": "True",
         "hovertemplate": "distributor=%{x}<br>count=%{y}<extra></extra>",
         "legendgroup": "Blue Fox Entertainment",
         "marker": {
          "color": "#19d3f3",
          "pattern": {
           "shape": ""
          }
         },
         "name": "Blue Fox Entertainment",
         "offsetgroup": "Blue Fox Entertainment",
         "orientation": "v",
         "showlegend": true,
         "textposition": "auto",
         "type": "bar",
         "x": [
          "Blue Fox Entertainment"
         ],
         "xaxis": "x",
         "y": [
          2
         ],
         "yaxis": "y"
        },
        {
         "alignmentgroup": "True",
         "hovertemplate": "distributor=%{x}<br>count=%{y}<extra></extra>",
         "legendgroup": "Viva Pictures",
         "marker": {
          "color": "#FF6692",
          "pattern": {
           "shape": ""
          }
         },
         "name": "Viva Pictures",
         "offsetgroup": "Viva Pictures",
         "orientation": "v",
         "showlegend": true,
         "textposition": "auto",
         "type": "bar",
         "x": [
          "Viva Pictures"
         ],
         "xaxis": "x",
         "y": [
          2
         ],
         "yaxis": "y"
        },
        {
         "alignmentgroup": "True",
         "hovertemplate": "distributor=%{x}<br>count=%{y}<extra></extra>",
         "legendgroup": "Yash Raj Films USA Inc.",
         "marker": {
          "color": "#B6E880",
          "pattern": {
           "shape": ""
          }
         },
         "name": "Yash Raj Films USA Inc.",
         "offsetgroup": "Yash Raj Films USA Inc.",
         "orientation": "v",
         "showlegend": true,
         "textposition": "auto",
         "type": "bar",
         "x": [
          "Yash Raj Films USA Inc."
         ],
         "xaxis": "x",
         "y": [
          2
         ],
         "yaxis": "y"
        },
        {
         "alignmentgroup": "True",
         "hovertemplate": "distributor=%{x}<br>count=%{y}<extra></extra>",
         "legendgroup": "Trafalgar Releasing",
         "marker": {
          "color": "#FF97FF",
          "pattern": {
           "shape": ""
          }
         },
         "name": "Trafalgar Releasing",
         "offsetgroup": "Trafalgar Releasing",
         "orientation": "v",
         "showlegend": true,
         "textposition": "auto",
         "type": "bar",
         "x": [
          "Trafalgar Releasing"
         ],
         "xaxis": "x",
         "y": [
          2
         ],
         "yaxis": "y"
        },
        {
         "alignmentgroup": "True",
         "hovertemplate": "distributor=%{x}<br>count=%{y}<extra></extra>",
         "legendgroup": "Angel Studios",
         "marker": {
          "color": "#FECB52",
          "pattern": {
           "shape": ""
          }
         },
         "name": "Angel Studios",
         "offsetgroup": "Angel Studios",
         "orientation": "v",
         "showlegend": true,
         "textposition": "auto",
         "type": "bar",
         "x": [
          "Angel Studios"
         ],
         "xaxis": "x",
         "y": [
          2
         ],
         "yaxis": "y"
        },
        {
         "alignmentgroup": "True",
         "hovertemplate": "distributor=%{x}<br>count=%{y}<extra></extra>",
         "legendgroup": "-",
         "marker": {
          "color": "#636efa",
          "pattern": {
           "shape": ""
          }
         },
         "name": "-",
         "offsetgroup": "-",
         "orientation": "v",
         "showlegend": true,
         "textposition": "auto",
         "type": "bar",
         "x": [
          "-"
         ],
         "xaxis": "x",
         "y": [
          2
         ],
         "yaxis": "y"
        },
        {
         "alignmentgroup": "True",
         "hovertemplate": "distributor=%{x}<br>count=%{y}<extra></extra>",
         "legendgroup": "Open Road Films (II)",
         "marker": {
          "color": "#EF553B",
          "pattern": {
           "shape": ""
          }
         },
         "name": "Open Road Films (II)",
         "offsetgroup": "Open Road Films (II)",
         "orientation": "v",
         "showlegend": true,
         "textposition": "auto",
         "type": "bar",
         "x": [
          "Open Road Films (II)"
         ],
         "xaxis": "x",
         "y": [
          2
         ],
         "yaxis": "y"
        },
        {
         "alignmentgroup": "True",
         "hovertemplate": "distributor=%{x}<br>count=%{y}<extra></extra>",
         "legendgroup": "Ketchup Entertainment",
         "marker": {
          "color": "#00cc96",
          "pattern": {
           "shape": ""
          }
         },
         "name": "Ketchup Entertainment",
         "offsetgroup": "Ketchup Entertainment",
         "orientation": "v",
         "showlegend": true,
         "textposition": "auto",
         "type": "bar",
         "x": [
          "Ketchup Entertainment"
         ],
         "xaxis": "x",
         "y": [
          1
         ],
         "yaxis": "y"
        },
        {
         "alignmentgroup": "True",
         "hovertemplate": "distributor=%{x}<br>count=%{y}<extra></extra>",
         "legendgroup": "Rialto Pictures",
         "marker": {
          "color": "#ab63fa",
          "pattern": {
           "shape": ""
          }
         },
         "name": "Rialto Pictures",
         "offsetgroup": "Rialto Pictures",
         "orientation": "v",
         "showlegend": true,
         "textposition": "auto",
         "type": "bar",
         "x": [
          "Rialto Pictures"
         ],
         "xaxis": "x",
         "y": [
          1
         ],
         "yaxis": "y"
        },
        {
         "alignmentgroup": "True",
         "hovertemplate": "distributor=%{x}<br>count=%{y}<extra></extra>",
         "legendgroup": "Kino Lorber",
         "marker": {
          "color": "#FFA15A",
          "pattern": {
           "shape": ""
          }
         },
         "name": "Kino Lorber",
         "offsetgroup": "Kino Lorber",
         "orientation": "v",
         "showlegend": true,
         "textposition": "auto",
         "type": "bar",
         "x": [
          "Kino Lorber"
         ],
         "xaxis": "x",
         "y": [
          1
         ],
         "yaxis": "y"
        },
        {
         "alignmentgroup": "True",
         "hovertemplate": "distributor=%{x}<br>count=%{y}<extra></extra>",
         "legendgroup": "20th Century Studios",
         "marker": {
          "color": "#19d3f3",
          "pattern": {
           "shape": ""
          }
         },
         "name": "20th Century Studios",
         "offsetgroup": "20th Century Studios",
         "orientation": "v",
         "showlegend": true,
         "textposition": "auto",
         "type": "bar",
         "x": [
          "20th Century Studios"
         ],
         "xaxis": "x",
         "y": [
          1
         ],
         "yaxis": "y"
        },
        {
         "alignmentgroup": "True",
         "hovertemplate": "distributor=%{x}<br>count=%{y}<extra></extra>",
         "legendgroup": "MUBI",
         "marker": {
          "color": "#FF6692",
          "pattern": {
           "shape": ""
          }
         },
         "name": "MUBI",
         "offsetgroup": "MUBI",
         "orientation": "v",
         "showlegend": true,
         "textposition": "auto",
         "type": "bar",
         "x": [
          "MUBI"
         ],
         "xaxis": "x",
         "y": [
          1
         ],
         "yaxis": "y"
        },
        {
         "alignmentgroup": "True",
         "hovertemplate": "distributor=%{x}<br>count=%{y}<extra></extra>",
         "legendgroup": "Picturehouse",
         "marker": {
          "color": "#B6E880",
          "pattern": {
           "shape": ""
          }
         },
         "name": "Picturehouse",
         "offsetgroup": "Picturehouse",
         "orientation": "v",
         "showlegend": true,
         "textposition": "auto",
         "type": "bar",
         "x": [
          "Picturehouse"
         ],
         "xaxis": "x",
         "y": [
          1
         ],
         "yaxis": "y"
        },
        {
         "alignmentgroup": "True",
         "hovertemplate": "distributor=%{x}<br>count=%{y}<extra></extra>",
         "legendgroup": "Purdie Distribution",
         "marker": {
          "color": "#FF97FF",
          "pattern": {
           "shape": ""
          }
         },
         "name": "Purdie Distribution",
         "offsetgroup": "Purdie Distribution",
         "orientation": "v",
         "showlegend": true,
         "textposition": "auto",
         "type": "bar",
         "x": [
          "Purdie Distribution"
         ],
         "xaxis": "x",
         "y": [
          1
         ],
         "yaxis": "y"
        },
        {
         "alignmentgroup": "True",
         "hovertemplate": "distributor=%{x}<br>count=%{y}<extra></extra>",
         "legendgroup": "Atlas Distribution Company",
         "marker": {
          "color": "#FECB52",
          "pattern": {
           "shape": ""
          }
         },
         "name": "Atlas Distribution Company",
         "offsetgroup": "Atlas Distribution Company",
         "orientation": "v",
         "showlegend": true,
         "textposition": "auto",
         "type": "bar",
         "x": [
          "Atlas Distribution Company"
         ],
         "xaxis": "x",
         "y": [
          1
         ],
         "yaxis": "y"
        },
        {
         "alignmentgroup": "True",
         "hovertemplate": "distributor=%{x}<br>count=%{y}<extra></extra>",
         "legendgroup": "Orion Pictures",
         "marker": {
          "color": "#636efa",
          "pattern": {
           "shape": ""
          }
         },
         "name": "Orion Pictures",
         "offsetgroup": "Orion Pictures",
         "orientation": "v",
         "showlegend": true,
         "textposition": "auto",
         "type": "bar",
         "x": [
          "Orion Pictures"
         ],
         "xaxis": "x",
         "y": [
          1
         ],
         "yaxis": "y"
        },
        {
         "alignmentgroup": "True",
         "hovertemplate": "distributor=%{x}<br>count=%{y}<extra></extra>",
         "legendgroup": "Magnolia Pictures",
         "marker": {
          "color": "#EF553B",
          "pattern": {
           "shape": ""
          }
         },
         "name": "Magnolia Pictures",
         "offsetgroup": "Magnolia Pictures",
         "orientation": "v",
         "showlegend": true,
         "textposition": "auto",
         "type": "bar",
         "x": [
          "Magnolia Pictures"
         ],
         "xaxis": "x",
         "y": [
          1
         ],
         "yaxis": "y"
        },
        {
         "alignmentgroup": "True",
         "hovertemplate": "distributor=%{x}<br>count=%{y}<extra></extra>",
         "legendgroup": "Capelight Pictures",
         "marker": {
          "color": "#00cc96",
          "pattern": {
           "shape": ""
          }
         },
         "name": "Capelight Pictures",
         "offsetgroup": "Capelight Pictures",
         "orientation": "v",
         "showlegend": true,
         "textposition": "auto",
         "type": "bar",
         "x": [
          "Capelight Pictures"
         ],
         "xaxis": "x",
         "y": [
          1
         ],
         "yaxis": "y"
        },
        {
         "alignmentgroup": "True",
         "hovertemplate": "distributor=%{x}<br>count=%{y}<extra></extra>",
         "legendgroup": "GKIDS",
         "marker": {
          "color": "#ab63fa",
          "pattern": {
           "shape": ""
          }
         },
         "name": "GKIDS",
         "offsetgroup": "GKIDS",
         "orientation": "v",
         "showlegend": true,
         "textposition": "auto",
         "type": "bar",
         "x": [
          "GKIDS"
         ],
         "xaxis": "x",
         "y": [
          1
         ],
         "yaxis": "y"
        },
        {
         "alignmentgroup": "True",
         "hovertemplate": "distributor=%{x}<br>count=%{y}<extra></extra>",
         "legendgroup": "Vertical Entertainment",
         "marker": {
          "color": "#FFA15A",
          "pattern": {
           "shape": ""
          }
         },
         "name": "Vertical Entertainment",
         "offsetgroup": "Vertical Entertainment",
         "orientation": "v",
         "showlegend": true,
         "textposition": "auto",
         "type": "bar",
         "x": [
          "Vertical Entertainment"
         ],
         "xaxis": "x",
         "y": [
          1
         ],
         "yaxis": "y"
        },
        {
         "alignmentgroup": "True",
         "hovertemplate": "distributor=%{x}<br>count=%{y}<extra></extra>",
         "legendgroup": "CMC Pictures",
         "marker": {
          "color": "#19d3f3",
          "pattern": {
           "shape": ""
          }
         },
         "name": "CMC Pictures",
         "offsetgroup": "CMC Pictures",
         "orientation": "v",
         "showlegend": true,
         "textposition": "auto",
         "type": "bar",
         "x": [
          "CMC Pictures"
         ],
         "xaxis": "x",
         "y": [
          1
         ],
         "yaxis": "y"
        },
        {
         "alignmentgroup": "True",
         "hovertemplate": "distributor=%{x}<br>count=%{y}<extra></extra>",
         "legendgroup": "Hidden Empire Film Group (HEFG)",
         "marker": {
          "color": "#FF6692",
          "pattern": {
           "shape": ""
          }
         },
         "name": "Hidden Empire Film Group (HEFG)",
         "offsetgroup": "Hidden Empire Film Group (HEFG)",
         "orientation": "v",
         "showlegend": true,
         "textposition": "auto",
         "type": "bar",
         "x": [
          "Hidden Empire Film Group (HEFG)"
         ],
         "xaxis": "x",
         "y": [
          1
         ],
         "yaxis": "y"
        },
        {
         "alignmentgroup": "True",
         "hovertemplate": "distributor=%{x}<br>count=%{y}<extra></extra>",
         "legendgroup": "Metro-Goldwyn-Mayer (MGM)",
         "marker": {
          "color": "#B6E880",
          "pattern": {
           "shape": ""
          }
         },
         "name": "Metro-Goldwyn-Mayer (MGM)",
         "offsetgroup": "Metro-Goldwyn-Mayer (MGM)",
         "orientation": "v",
         "showlegend": true,
         "textposition": "auto",
         "type": "bar",
         "x": [
          "Metro-Goldwyn-Mayer (MGM)"
         ],
         "xaxis": "x",
         "y": [
          1
         ],
         "yaxis": "y"
        },
        {
         "alignmentgroup": "True",
         "hovertemplate": "distributor=%{x}<br>count=%{y}<extra></extra>",
         "legendgroup": "DreamWorks",
         "marker": {
          "color": "#FF97FF",
          "pattern": {
           "shape": ""
          }
         },
         "name": "DreamWorks",
         "offsetgroup": "DreamWorks",
         "orientation": "v",
         "showlegend": true,
         "textposition": "auto",
         "type": "bar",
         "x": [
          "DreamWorks"
         ],
         "xaxis": "x",
         "y": [
          1
         ],
         "yaxis": "y"
        },
        {
         "alignmentgroup": "True",
         "hovertemplate": "distributor=%{x}<br>count=%{y}<extra></extra>",
         "legendgroup": "TriStar Pictures",
         "marker": {
          "color": "#FECB52",
          "pattern": {
           "shape": ""
          }
         },
         "name": "TriStar Pictures",
         "offsetgroup": "TriStar Pictures",
         "orientation": "v",
         "showlegend": true,
         "textposition": "auto",
         "type": "bar",
         "x": [
          "TriStar Pictures"
         ],
         "xaxis": "x",
         "y": [
          1
         ],
         "yaxis": "y"
        },
        {
         "alignmentgroup": "True",
         "hovertemplate": "distributor=%{x}<br>count=%{y}<extra></extra>",
         "legendgroup": "ShortsTV",
         "marker": {
          "color": "#636efa",
          "pattern": {
           "shape": ""
          }
         },
         "name": "ShortsTV",
         "offsetgroup": "ShortsTV",
         "orientation": "v",
         "showlegend": true,
         "textposition": "auto",
         "type": "bar",
         "x": [
          "ShortsTV"
         ],
         "xaxis": "x",
         "y": [
          1
         ],
         "yaxis": "y"
        },
        {
         "alignmentgroup": "True",
         "hovertemplate": "distributor=%{x}<br>count=%{y}<extra></extra>",
         "legendgroup": "Soli Deo Gloria Releasing",
         "marker": {
          "color": "#EF553B",
          "pattern": {
           "shape": ""
          }
         },
         "name": "Soli Deo Gloria Releasing",
         "offsetgroup": "Soli Deo Gloria Releasing",
         "orientation": "v",
         "showlegend": true,
         "textposition": "auto",
         "type": "bar",
         "x": [
          "Soli Deo Gloria Releasing"
         ],
         "xaxis": "x",
         "y": [
          1
         ],
         "yaxis": "y"
        },
        {
         "alignmentgroup": "True",
         "hovertemplate": "distributor=%{x}<br>count=%{y}<extra></extra>",
         "legendgroup": "Quiver Distribution",
         "marker": {
          "color": "#00cc96",
          "pattern": {
           "shape": ""
          }
         },
         "name": "Quiver Distribution",
         "offsetgroup": "Quiver Distribution",
         "orientation": "v",
         "showlegend": true,
         "textposition": "auto",
         "type": "bar",
         "x": [
          "Quiver Distribution"
         ],
         "xaxis": "x",
         "y": [
          1
         ],
         "yaxis": "y"
        }
       ],
       "layout": {
        "autosize": true,
        "barmode": "relative",
        "height": 800,
        "legend": {
         "title": {
          "text": "distributor"
         },
         "tracegroupgap": 0
        },
        "margin": {
         "t": 60
        },
        "template": {
         "data": {
          "bar": [
           {
            "error_x": {
             "color": "#2a3f5f"
            },
            "error_y": {
             "color": "#2a3f5f"
            },
            "marker": {
             "line": {
              "color": "#E5ECF6",
              "width": 0.5
             },
             "pattern": {
              "fillmode": "overlay",
              "size": 10,
              "solidity": 0.2
             }
            },
            "type": "bar"
           }
          ],
          "barpolar": [
           {
            "marker": {
             "line": {
              "color": "#E5ECF6",
              "width": 0.5
             },
             "pattern": {
              "fillmode": "overlay",
              "size": 10,
              "solidity": 0.2
             }
            },
            "type": "barpolar"
           }
          ],
          "carpet": [
           {
            "aaxis": {
             "endlinecolor": "#2a3f5f",
             "gridcolor": "white",
             "linecolor": "white",
             "minorgridcolor": "white",
             "startlinecolor": "#2a3f5f"
            },
            "baxis": {
             "endlinecolor": "#2a3f5f",
             "gridcolor": "white",
             "linecolor": "white",
             "minorgridcolor": "white",
             "startlinecolor": "#2a3f5f"
            },
            "type": "carpet"
           }
          ],
          "choropleth": [
           {
            "colorbar": {
             "outlinewidth": 0,
             "ticks": ""
            },
            "type": "choropleth"
           }
          ],
          "contour": [
           {
            "colorbar": {
             "outlinewidth": 0,
             "ticks": ""
            },
            "colorscale": [
             [
              0,
              "#0d0887"
             ],
             [
              0.1111111111111111,
              "#46039f"
             ],
             [
              0.2222222222222222,
              "#7201a8"
             ],
             [
              0.3333333333333333,
              "#9c179e"
             ],
             [
              0.4444444444444444,
              "#bd3786"
             ],
             [
              0.5555555555555556,
              "#d8576b"
             ],
             [
              0.6666666666666666,
              "#ed7953"
             ],
             [
              0.7777777777777778,
              "#fb9f3a"
             ],
             [
              0.8888888888888888,
              "#fdca26"
             ],
             [
              1,
              "#f0f921"
             ]
            ],
            "type": "contour"
           }
          ],
          "contourcarpet": [
           {
            "colorbar": {
             "outlinewidth": 0,
             "ticks": ""
            },
            "type": "contourcarpet"
           }
          ],
          "heatmap": [
           {
            "colorbar": {
             "outlinewidth": 0,
             "ticks": ""
            },
            "colorscale": [
             [
              0,
              "#0d0887"
             ],
             [
              0.1111111111111111,
              "#46039f"
             ],
             [
              0.2222222222222222,
              "#7201a8"
             ],
             [
              0.3333333333333333,
              "#9c179e"
             ],
             [
              0.4444444444444444,
              "#bd3786"
             ],
             [
              0.5555555555555556,
              "#d8576b"
             ],
             [
              0.6666666666666666,
              "#ed7953"
             ],
             [
              0.7777777777777778,
              "#fb9f3a"
             ],
             [
              0.8888888888888888,
              "#fdca26"
             ],
             [
              1,
              "#f0f921"
             ]
            ],
            "type": "heatmap"
           }
          ],
          "heatmapgl": [
           {
            "colorbar": {
             "outlinewidth": 0,
             "ticks": ""
            },
            "colorscale": [
             [
              0,
              "#0d0887"
             ],
             [
              0.1111111111111111,
              "#46039f"
             ],
             [
              0.2222222222222222,
              "#7201a8"
             ],
             [
              0.3333333333333333,
              "#9c179e"
             ],
             [
              0.4444444444444444,
              "#bd3786"
             ],
             [
              0.5555555555555556,
              "#d8576b"
             ],
             [
              0.6666666666666666,
              "#ed7953"
             ],
             [
              0.7777777777777778,
              "#fb9f3a"
             ],
             [
              0.8888888888888888,
              "#fdca26"
             ],
             [
              1,
              "#f0f921"
             ]
            ],
            "type": "heatmapgl"
           }
          ],
          "histogram": [
           {
            "marker": {
             "pattern": {
              "fillmode": "overlay",
              "size": 10,
              "solidity": 0.2
             }
            },
            "type": "histogram"
           }
          ],
          "histogram2d": [
           {
            "colorbar": {
             "outlinewidth": 0,
             "ticks": ""
            },
            "colorscale": [
             [
              0,
              "#0d0887"
             ],
             [
              0.1111111111111111,
              "#46039f"
             ],
             [
              0.2222222222222222,
              "#7201a8"
             ],
             [
              0.3333333333333333,
              "#9c179e"
             ],
             [
              0.4444444444444444,
              "#bd3786"
             ],
             [
              0.5555555555555556,
              "#d8576b"
             ],
             [
              0.6666666666666666,
              "#ed7953"
             ],
             [
              0.7777777777777778,
              "#fb9f3a"
             ],
             [
              0.8888888888888888,
              "#fdca26"
             ],
             [
              1,
              "#f0f921"
             ]
            ],
            "type": "histogram2d"
           }
          ],
          "histogram2dcontour": [
           {
            "colorbar": {
             "outlinewidth": 0,
             "ticks": ""
            },
            "colorscale": [
             [
              0,
              "#0d0887"
             ],
             [
              0.1111111111111111,
              "#46039f"
             ],
             [
              0.2222222222222222,
              "#7201a8"
             ],
             [
              0.3333333333333333,
              "#9c179e"
             ],
             [
              0.4444444444444444,
              "#bd3786"
             ],
             [
              0.5555555555555556,
              "#d8576b"
             ],
             [
              0.6666666666666666,
              "#ed7953"
             ],
             [
              0.7777777777777778,
              "#fb9f3a"
             ],
             [
              0.8888888888888888,
              "#fdca26"
             ],
             [
              1,
              "#f0f921"
             ]
            ],
            "type": "histogram2dcontour"
           }
          ],
          "mesh3d": [
           {
            "colorbar": {
             "outlinewidth": 0,
             "ticks": ""
            },
            "type": "mesh3d"
           }
          ],
          "parcoords": [
           {
            "line": {
             "colorbar": {
              "outlinewidth": 0,
              "ticks": ""
             }
            },
            "type": "parcoords"
           }
          ],
          "pie": [
           {
            "automargin": true,
            "type": "pie"
           }
          ],
          "scatter": [
           {
            "fillpattern": {
             "fillmode": "overlay",
             "size": 10,
             "solidity": 0.2
            },
            "type": "scatter"
           }
          ],
          "scatter3d": [
           {
            "line": {
             "colorbar": {
              "outlinewidth": 0,
              "ticks": ""
             }
            },
            "marker": {
             "colorbar": {
              "outlinewidth": 0,
              "ticks": ""
             }
            },
            "type": "scatter3d"
           }
          ],
          "scattercarpet": [
           {
            "marker": {
             "colorbar": {
              "outlinewidth": 0,
              "ticks": ""
             }
            },
            "type": "scattercarpet"
           }
          ],
          "scattergeo": [
           {
            "marker": {
             "colorbar": {
              "outlinewidth": 0,
              "ticks": ""
             }
            },
            "type": "scattergeo"
           }
          ],
          "scattergl": [
           {
            "marker": {
             "colorbar": {
              "outlinewidth": 0,
              "ticks": ""
             }
            },
            "type": "scattergl"
           }
          ],
          "scattermapbox": [
           {
            "marker": {
             "colorbar": {
              "outlinewidth": 0,
              "ticks": ""
             }
            },
            "type": "scattermapbox"
           }
          ],
          "scatterpolar": [
           {
            "marker": {
             "colorbar": {
              "outlinewidth": 0,
              "ticks": ""
             }
            },
            "type": "scatterpolar"
           }
          ],
          "scatterpolargl": [
           {
            "marker": {
             "colorbar": {
              "outlinewidth": 0,
              "ticks": ""
             }
            },
            "type": "scatterpolargl"
           }
          ],
          "scatterternary": [
           {
            "marker": {
             "colorbar": {
              "outlinewidth": 0,
              "ticks": ""
             }
            },
            "type": "scatterternary"
           }
          ],
          "surface": [
           {
            "colorbar": {
             "outlinewidth": 0,
             "ticks": ""
            },
            "colorscale": [
             [
              0,
              "#0d0887"
             ],
             [
              0.1111111111111111,
              "#46039f"
             ],
             [
              0.2222222222222222,
              "#7201a8"
             ],
             [
              0.3333333333333333,
              "#9c179e"
             ],
             [
              0.4444444444444444,
              "#bd3786"
             ],
             [
              0.5555555555555556,
              "#d8576b"
             ],
             [
              0.6666666666666666,
              "#ed7953"
             ],
             [
              0.7777777777777778,
              "#fb9f3a"
             ],
             [
              0.8888888888888888,
              "#fdca26"
             ],
             [
              1,
              "#f0f921"
             ]
            ],
            "type": "surface"
           }
          ],
          "table": [
           {
            "cells": {
             "fill": {
              "color": "#EBF0F8"
             },
             "line": {
              "color": "white"
             }
            },
            "header": {
             "fill": {
              "color": "#C8D4E3"
             },
             "line": {
              "color": "white"
             }
            },
            "type": "table"
           }
          ]
         },
         "layout": {
          "annotationdefaults": {
           "arrowcolor": "#2a3f5f",
           "arrowhead": 0,
           "arrowwidth": 1
          },
          "autotypenumbers": "strict",
          "coloraxis": {
           "colorbar": {
            "outlinewidth": 0,
            "ticks": ""
           }
          },
          "colorscale": {
           "diverging": [
            [
             0,
             "#8e0152"
            ],
            [
             0.1,
             "#c51b7d"
            ],
            [
             0.2,
             "#de77ae"
            ],
            [
             0.3,
             "#f1b6da"
            ],
            [
             0.4,
             "#fde0ef"
            ],
            [
             0.5,
             "#f7f7f7"
            ],
            [
             0.6,
             "#e6f5d0"
            ],
            [
             0.7,
             "#b8e186"
            ],
            [
             0.8,
             "#7fbc41"
            ],
            [
             0.9,
             "#4d9221"
            ],
            [
             1,
             "#276419"
            ]
           ],
           "sequential": [
            [
             0,
             "#0d0887"
            ],
            [
             0.1111111111111111,
             "#46039f"
            ],
            [
             0.2222222222222222,
             "#7201a8"
            ],
            [
             0.3333333333333333,
             "#9c179e"
            ],
            [
             0.4444444444444444,
             "#bd3786"
            ],
            [
             0.5555555555555556,
             "#d8576b"
            ],
            [
             0.6666666666666666,
             "#ed7953"
            ],
            [
             0.7777777777777778,
             "#fb9f3a"
            ],
            [
             0.8888888888888888,
             "#fdca26"
            ],
            [
             1,
             "#f0f921"
            ]
           ],
           "sequentialminus": [
            [
             0,
             "#0d0887"
            ],
            [
             0.1111111111111111,
             "#46039f"
            ],
            [
             0.2222222222222222,
             "#7201a8"
            ],
            [
             0.3333333333333333,
             "#9c179e"
            ],
            [
             0.4444444444444444,
             "#bd3786"
            ],
            [
             0.5555555555555556,
             "#d8576b"
            ],
            [
             0.6666666666666666,
             "#ed7953"
            ],
            [
             0.7777777777777778,
             "#fb9f3a"
            ],
            [
             0.8888888888888888,
             "#fdca26"
            ],
            [
             1,
             "#f0f921"
            ]
           ]
          },
          "colorway": [
           "#636efa",
           "#EF553B",
           "#00cc96",
           "#ab63fa",
           "#FFA15A",
           "#19d3f3",
           "#FF6692",
           "#B6E880",
           "#FF97FF",
           "#FECB52"
          ],
          "font": {
           "color": "#2a3f5f"
          },
          "geo": {
           "bgcolor": "white",
           "lakecolor": "white",
           "landcolor": "#E5ECF6",
           "showlakes": true,
           "showland": true,
           "subunitcolor": "white"
          },
          "hoverlabel": {
           "align": "left"
          },
          "hovermode": "closest",
          "mapbox": {
           "style": "light"
          },
          "paper_bgcolor": "white",
          "plot_bgcolor": "#E5ECF6",
          "polar": {
           "angularaxis": {
            "gridcolor": "white",
            "linecolor": "white",
            "ticks": ""
           },
           "bgcolor": "#E5ECF6",
           "radialaxis": {
            "gridcolor": "white",
            "linecolor": "white",
            "ticks": ""
           }
          },
          "scene": {
           "xaxis": {
            "backgroundcolor": "#E5ECF6",
            "gridcolor": "white",
            "gridwidth": 2,
            "linecolor": "white",
            "showbackground": true,
            "ticks": "",
            "zerolinecolor": "white"
           },
           "yaxis": {
            "backgroundcolor": "#E5ECF6",
            "gridcolor": "white",
            "gridwidth": 2,
            "linecolor": "white",
            "showbackground": true,
            "ticks": "",
            "zerolinecolor": "white"
           },
           "zaxis": {
            "backgroundcolor": "#E5ECF6",
            "gridcolor": "white",
            "gridwidth": 2,
            "linecolor": "white",
            "showbackground": true,
            "ticks": "",
            "zerolinecolor": "white"
           }
          },
          "shapedefaults": {
           "line": {
            "color": "#2a3f5f"
           }
          },
          "ternary": {
           "aaxis": {
            "gridcolor": "white",
            "linecolor": "white",
            "ticks": ""
           },
           "baxis": {
            "gridcolor": "white",
            "linecolor": "white",
            "ticks": ""
           },
           "bgcolor": "#E5ECF6",
           "caxis": {
            "gridcolor": "white",
            "linecolor": "white",
            "ticks": ""
           }
          },
          "title": {
           "x": 0.05
          },
          "xaxis": {
           "automargin": true,
           "gridcolor": "white",
           "linecolor": "white",
           "ticks": "",
           "title": {
            "standoff": 15
           },
           "zerolinecolor": "white",
           "zerolinewidth": 2
          },
          "yaxis": {
           "automargin": true,
           "gridcolor": "white",
           "linecolor": "white",
           "ticks": "",
           "title": {
            "standoff": 15
           },
           "zerolinecolor": "white",
           "zerolinewidth": 2
          }
         }
        },
        "title": {
         "text": "Distribution of Movies by Distributor",
         "x": 0.5
        },
        "width": 800,
        "xaxis": {
         "anchor": "y",
         "categoryarray": [
          "'-",
          "Fathom Events",
          "Universal Pictures",
          "Sony Pictures Entertainment (SPE)",
          "Walt Disney Studios Motion Pictures",
          "A24",
          "Warner Bros.",
          "Focus Features",
          "Lionsgate",
          "Paramount Pictures",
          "IFC Films",
          "Roadside Attractions",
          "Sony Pictures Classics",
          "Neon",
          "Bleecker Street Media",
          "Searchlight Pictures",
          "Crunchyroll",
          "Screen Gems",
          "Well Go USA Entertainment",
          "Columbia Pictures",
          "United Artists Releasing",
          "Briarcliff Entertainment",
          "Variance Films",
          "Sideshow Releasing",
          "Oscilloscope",
          "Blue Fox Entertainment",
          "Viva Pictures",
          "Yash Raj Films USA Inc.",
          "Trafalgar Releasing",
          "Angel Studios",
          "-",
          "Open Road Films (II)",
          "Ketchup Entertainment",
          "Rialto Pictures",
          "Kino Lorber",
          "20th Century Studios",
          "MUBI",
          "Picturehouse",
          "Purdie Distribution",
          "Atlas Distribution Company",
          "Orion Pictures",
          "Magnolia Pictures",
          "Capelight Pictures",
          "GKIDS",
          "Vertical Entertainment",
          "CMC Pictures",
          "Hidden Empire Film Group (HEFG)",
          "Metro-Goldwyn-Mayer (MGM)",
          "DreamWorks",
          "TriStar Pictures",
          "ShortsTV",
          "Soli Deo Gloria Releasing",
          "Quiver Distribution"
         ],
         "categoryorder": "array",
         "domain": [
          0,
          1
         ],
         "title": {
          "text": "Distributor"
         }
        },
        "yaxis": {
         "anchor": "x",
         "domain": [
          0,
          1
         ],
         "title": {
          "text": "Frequency"
         }
        }
       }
      }
     },
     "metadata": {},
     "output_type": "display_data"
    }
   ],
   "source": [
    "distributor_counts = df['distributor'].value_counts().reset_index()\n",
    "distributor_counts.columns = ['distributor', 'count']\n",
    "\n",
    "# Create the bar chart using Plotly Express\n",
    "fig = px.bar(data_frame=distributor_counts, x='distributor', y='count',  color='distributor')\n",
    "\n",
    "fig.update_layout(\n",
    "    autosize=True,\n",
    "    width=800,\n",
    "    height=800,\n",
    "    xaxis_title='Distributor',\n",
    "    yaxis_title='Frequency',\n",
    "    title='Distribution of Movies by Distributor',\n",
    "    title_x=0.5\n",
    ")\n",
    "\n",
    "fig.show()\n",
    "\n",
    "\n",
    "\n",
    "\n",
    "\n",
    "\n"
   ]
  },
  {
   "cell_type": "markdown",
   "metadata": {},
   "source": [
    "# Chart 4: Total Revenue by Release Month "
   ]
  },
  {
   "cell_type": "code",
   "execution_count": 19,
   "metadata": {},
   "outputs": [
    {
     "data": {
      "text/html": [
       "<div>\n",
       "<style scoped>\n",
       "    .dataframe tbody tr th:only-of-type {\n",
       "        vertical-align: middle;\n",
       "    }\n",
       "\n",
       "    .dataframe tbody tr th {\n",
       "        vertical-align: top;\n",
       "    }\n",
       "\n",
       "    .dataframe thead th {\n",
       "        text-align: right;\n",
       "    }\n",
       "</style>\n",
       "<table border=\"1\" class=\"dataframe\">\n",
       "  <thead>\n",
       "    <tr style=\"text-align: right;\">\n",
       "      <th></th>\n",
       "      <th>release date</th>\n",
       "      <th>distributor</th>\n",
       "      <th>total gross</th>\n",
       "    </tr>\n",
       "  </thead>\n",
       "  <tbody>\n",
       "    <tr>\n",
       "      <th>0</th>\n",
       "      <td>2023-07-21</td>\n",
       "      <td>Warner Bros.</td>\n",
       "      <td>594,254,460.00</td>\n",
       "    </tr>\n",
       "    <tr>\n",
       "      <th>1</th>\n",
       "      <td>2023-04-05</td>\n",
       "      <td>Universal Pictures</td>\n",
       "      <td>574,759,600.00</td>\n",
       "    </tr>\n",
       "    <tr>\n",
       "      <th>2</th>\n",
       "      <td>2023-06-02</td>\n",
       "      <td>Columbia Pictures</td>\n",
       "      <td>381,178,195.00</td>\n",
       "    </tr>\n",
       "    <tr>\n",
       "      <th>3</th>\n",
       "      <td>2023-05-05</td>\n",
       "      <td>Walt Disney Studios Motion Pictures</td>\n",
       "      <td>358,995,815.00</td>\n",
       "    </tr>\n",
       "    <tr>\n",
       "      <th>4</th>\n",
       "      <td>2023-07-21</td>\n",
       "      <td>Universal Pictures</td>\n",
       "      <td>300,144,670.00</td>\n",
       "    </tr>\n",
       "  </tbody>\n",
       "</table>\n",
       "</div>"
      ],
      "text/plain": [
       "  release date                          distributor    total gross\n",
       "0   2023-07-21                         Warner Bros. 594,254,460.00\n",
       "1   2023-04-05                   Universal Pictures 574,759,600.00\n",
       "2   2023-06-02                    Columbia Pictures 381,178,195.00\n",
       "3   2023-05-05  Walt Disney Studios Motion Pictures 358,995,815.00\n",
       "4   2023-07-21                   Universal Pictures 300,144,670.00"
      ]
     },
     "execution_count": 19,
     "metadata": {},
     "output_type": "execute_result"
    }
   ],
   "source": [
    "multivar = df[[\"release date\" , \"distributor\" , \"total gross\"]]\n",
    "multivar.head()"
   ]
  },
  {
   "cell_type": "code",
   "execution_count": 20,
   "metadata": {},
   "outputs": [
    {
     "name": "stdout",
     "output_type": "stream",
     "text": [
      "<class 'pandas.core.frame.DataFrame'>\n",
      "RangeIndex: 199 entries, 0 to 198\n",
      "Data columns (total 3 columns):\n",
      " #   Column        Non-Null Count  Dtype  \n",
      "---  ------        --------------  -----  \n",
      " 0   release date  199 non-null    object \n",
      " 1   distributor   199 non-null    object \n",
      " 2   total gross   199 non-null    float64\n",
      "dtypes: float64(1), object(2)\n",
      "memory usage: 4.8+ KB\n"
     ]
    }
   ],
   "source": [
    "multivar.info()"
   ]
  },
  {
   "cell_type": "code",
   "execution_count": 21,
   "metadata": {},
   "outputs": [
    {
     "name": "stderr",
     "output_type": "stream",
     "text": [
      "C:\\Users\\pc\\AppData\\Local\\Temp\\ipykernel_16904\\3433004278.py:1: SettingWithCopyWarning:\n",
      "\n",
      "\n",
      "A value is trying to be set on a copy of a slice from a DataFrame.\n",
      "Try using .loc[row_indexer,col_indexer] = value instead\n",
      "\n",
      "See the caveats in the documentation: https://pandas.pydata.org/pandas-docs/stable/user_guide/indexing.html#returning-a-view-versus-a-copy\n",
      "\n"
     ]
    }
   ],
   "source": [
    "multivar['release date'] = multivar['release date'].astype('datetime64[ns]')"
   ]
  },
  {
   "cell_type": "code",
   "execution_count": 22,
   "metadata": {},
   "outputs": [
    {
     "name": "stdout",
     "output_type": "stream",
     "text": [
      "<class 'pandas.core.frame.DataFrame'>\n",
      "RangeIndex: 199 entries, 0 to 198\n",
      "Data columns (total 3 columns):\n",
      " #   Column        Non-Null Count  Dtype         \n",
      "---  ------        --------------  -----         \n",
      " 0   release date  199 non-null    datetime64[ns]\n",
      " 1   distributor   199 non-null    object        \n",
      " 2   total gross   199 non-null    float64       \n",
      "dtypes: datetime64[ns](1), float64(1), object(1)\n",
      "memory usage: 4.8+ KB\n"
     ]
    }
   ],
   "source": [
    "multivar.info()"
   ]
  },
  {
   "cell_type": "code",
   "execution_count": 23,
   "metadata": {},
   "outputs": [
    {
     "name": "stderr",
     "output_type": "stream",
     "text": [
      "C:\\Users\\pc\\AppData\\Local\\Temp\\ipykernel_16904\\3979480530.py:1: SettingWithCopyWarning:\n",
      "\n",
      "\n",
      "A value is trying to be set on a copy of a slice from a DataFrame.\n",
      "Try using .loc[row_indexer,col_indexer] = value instead\n",
      "\n",
      "See the caveats in the documentation: https://pandas.pydata.org/pandas-docs/stable/user_guide/indexing.html#returning-a-view-versus-a-copy\n",
      "\n"
     ]
    }
   ],
   "source": [
    "multivar['release date'] = multivar['release date'].dt.to_period('M')"
   ]
  },
  {
   "cell_type": "code",
   "execution_count": 24,
   "metadata": {},
   "outputs": [
    {
     "data": {
      "text/html": [
       "<div>\n",
       "<style scoped>\n",
       "    .dataframe tbody tr th:only-of-type {\n",
       "        vertical-align: middle;\n",
       "    }\n",
       "\n",
       "    .dataframe tbody tr th {\n",
       "        vertical-align: top;\n",
       "    }\n",
       "\n",
       "    .dataframe thead th {\n",
       "        text-align: right;\n",
       "    }\n",
       "</style>\n",
       "<table border=\"1\" class=\"dataframe\">\n",
       "  <thead>\n",
       "    <tr style=\"text-align: right;\">\n",
       "      <th></th>\n",
       "      <th>release date</th>\n",
       "      <th>distributor</th>\n",
       "      <th>total gross</th>\n",
       "    </tr>\n",
       "  </thead>\n",
       "  <tbody>\n",
       "    <tr>\n",
       "      <th>0</th>\n",
       "      <td>2023-07</td>\n",
       "      <td>Warner Bros.</td>\n",
       "      <td>594,254,460.00</td>\n",
       "    </tr>\n",
       "    <tr>\n",
       "      <th>1</th>\n",
       "      <td>2023-04</td>\n",
       "      <td>Universal Pictures</td>\n",
       "      <td>574,759,600.00</td>\n",
       "    </tr>\n",
       "    <tr>\n",
       "      <th>2</th>\n",
       "      <td>2023-06</td>\n",
       "      <td>Columbia Pictures</td>\n",
       "      <td>381,178,195.00</td>\n",
       "    </tr>\n",
       "    <tr>\n",
       "      <th>3</th>\n",
       "      <td>2023-05</td>\n",
       "      <td>Walt Disney Studios Motion Pictures</td>\n",
       "      <td>358,995,815.00</td>\n",
       "    </tr>\n",
       "    <tr>\n",
       "      <th>4</th>\n",
       "      <td>2023-07</td>\n",
       "      <td>Universal Pictures</td>\n",
       "      <td>300,144,670.00</td>\n",
       "    </tr>\n",
       "  </tbody>\n",
       "</table>\n",
       "</div>"
      ],
      "text/plain": [
       "  release date                          distributor    total gross\n",
       "0      2023-07                         Warner Bros. 594,254,460.00\n",
       "1      2023-04                   Universal Pictures 574,759,600.00\n",
       "2      2023-06                    Columbia Pictures 381,178,195.00\n",
       "3      2023-05  Walt Disney Studios Motion Pictures 358,995,815.00\n",
       "4      2023-07                   Universal Pictures 300,144,670.00"
      ]
     },
     "execution_count": 24,
     "metadata": {},
     "output_type": "execute_result"
    }
   ],
   "source": [
    "multivar.groupby(['release date' , 'distributor'] , as_index=False)['total gross'].sum().sort_values(by='total gross' , ascending=False)\n",
    "multivar.head()"
   ]
  },
  {
   "cell_type": "code",
   "execution_count": 25,
   "metadata": {},
   "outputs": [
    {
     "name": "stdout",
     "output_type": "stream",
     "text": [
      "<class 'pandas.core.frame.DataFrame'>\n",
      "RangeIndex: 199 entries, 0 to 198\n",
      "Data columns (total 3 columns):\n",
      " #   Column        Non-Null Count  Dtype    \n",
      "---  ------        --------------  -----    \n",
      " 0   release date  199 non-null    period[M]\n",
      " 1   distributor   199 non-null    object   \n",
      " 2   total gross   199 non-null    float64  \n",
      "dtypes: float64(1), object(1), period[M](1)\n",
      "memory usage: 4.8+ KB\n"
     ]
    }
   ],
   "source": [
    "multivar.info()"
   ]
  },
  {
   "cell_type": "code",
   "execution_count": 26,
   "metadata": {},
   "outputs": [
    {
     "name": "stderr",
     "output_type": "stream",
     "text": [
      "C:\\Users\\pc\\AppData\\Local\\Temp\\ipykernel_16904\\1489807587.py:1: SettingWithCopyWarning:\n",
      "\n",
      "\n",
      "A value is trying to be set on a copy of a slice from a DataFrame.\n",
      "Try using .loc[row_indexer,col_indexer] = value instead\n",
      "\n",
      "See the caveats in the documentation: https://pandas.pydata.org/pandas-docs/stable/user_guide/indexing.html#returning-a-view-versus-a-copy\n",
      "\n"
     ]
    }
   ],
   "source": [
    "multivar['release date'] = multivar['release date'].dt.to_timestamp()"
   ]
  },
  {
   "cell_type": "code",
   "execution_count": 27,
   "metadata": {},
   "outputs": [
    {
     "name": "stderr",
     "output_type": "stream",
     "text": [
      "c:\\Users\\pc\\AppData\\Local\\Programs\\Python\\Python311\\Lib\\site-packages\\_plotly_utils\\basevalidators.py:105: FutureWarning:\n",
      "\n",
      "The behavior of DatetimeProperties.to_pydatetime is deprecated, in a future version this will return a Series containing python datetime objects instead of an ndarray. To retain the old behavior, call `np.array` on the result\n",
      "\n"
     ]
    },
    {
     "data": {
      "application/vnd.plotly.v1+json": {
       "config": {
        "plotlyServerURL": "https://plot.ly"
       },
       "data": [
        {
         "alignmentgroup": "True",
         "hovertemplate": "Release Date=%{x}<br>Total Gross=%{y}<extra></extra>",
         "legendgroup": "",
         "marker": {
          "color": "#636efa",
          "pattern": {
           "shape": ""
          }
         },
         "name": "",
         "offsetgroup": "",
         "orientation": "v",
         "showlegend": false,
         "textposition": "auto",
         "type": "bar",
         "x": [
          "2023-07-01T00:00:00",
          "2023-04-01T00:00:00",
          "2023-06-01T00:00:00",
          "2023-05-01T00:00:00",
          "2023-07-01T00:00:00",
          "2023-05-01T00:00:00",
          "2023-12-01T00:00:00",
          "2023-02-01T00:00:00",
          "2023-03-01T00:00:00",
          "2023-07-01T00:00:00",
          "2023-06-01T00:00:00",
          "2023-07-01T00:00:00",
          "2023-06-01T00:00:00",
          "2023-03-01T00:00:00",
          "2023-06-01T00:00:00",
          "2023-05-01T00:00:00",
          "2023-12-01T00:00:00",
          "2023-03-01T00:00:00",
          "2023-06-01T00:00:00",
          "2023-08-01T00:00:00",
          "2023-01-01T00:00:00",
          "2023-03-01T00:00:00",
          "2023-07-01T00:00:00",
          "2023-08-01T00:00:00",
          "2023-04-01T00:00:00",
          "2023-02-01T00:00:00",
          "2023-12-01T00:00:00",
          "2023-07-01T00:00:00",
          "2023-03-01T00:00:00",
          "2023-04-01T00:00:00",
          "2023-02-01T00:00:00",
          "2023-06-01T00:00:00",
          "2023-08-01T00:00:00",
          "2023-06-01T00:00:00",
          "2023-07-01T00:00:00",
          "2023-02-01T00:00:00",
          "2023-02-01T00:00:00",
          "2023-01-01T00:00:00",
          "2023-01-01T00:00:00",
          "2023-03-01T00:00:00",
          "2023-06-01T00:00:00",
          "2023-02-01T00:00:00",
          "2023-04-01T00:00:00",
          "2023-04-01T00:00:00",
          "2023-08-01T00:00:00",
          "2023-06-01T00:00:00",
          "2023-05-01T00:00:00",
          "2023-01-01T00:00:00",
          "2023-11-01T00:00:00",
          "2023-04-01T00:00:00",
          "2023-04-01T00:00:00",
          "2023-08-01T00:00:00",
          "2023-03-01T00:00:00",
          "2023-06-01T00:00:00",
          "2023-02-01T00:00:00",
          "2023-08-01T00:00:00",
          "2023-07-01T00:00:00",
          "2023-12-01T00:00:00",
          "2023-05-01T00:00:00",
          "2023-03-01T00:00:00",
          "2023-04-01T00:00:00",
          "2023-06-01T00:00:00",
          "2023-05-01T00:00:00",
          "2023-12-01T00:00:00",
          "2023-03-01T00:00:00",
          "2023-01-01T00:00:00",
          "2023-03-01T00:00:00",
          "2023-04-01T00:00:00",
          "2023-04-01T00:00:00",
          "2023-04-01T00:00:00",
          "2023-03-01T00:00:00",
          "2023-02-01T00:00:00",
          "2023-12-01T00:00:00",
          "2023-05-01T00:00:00",
          "2023-11-01T00:00:00",
          "2023-02-01T00:00:00",
          "2023-04-01T00:00:00",
          "2023-04-01T00:00:00",
          "2023-12-01T00:00:00",
          "2023-01-01T00:00:00",
          "2023-05-01T00:00:00",
          "2023-05-01T00:00:00",
          "2023-05-01T00:00:00",
          "2023-02-01T00:00:00",
          "2023-02-01T00:00:00",
          "2023-02-01T00:00:00",
          "2023-08-01T00:00:00",
          "2023-01-01T00:00:00",
          "2023-07-01T00:00:00",
          "2023-04-01T00:00:00",
          "2023-04-01T00:00:00",
          "2023-04-01T00:00:00",
          "2023-01-01T00:00:00",
          "2023-03-01T00:00:00",
          "2023-12-01T00:00:00",
          "2023-02-01T00:00:00",
          "2023-12-01T00:00:00",
          "2023-11-01T00:00:00",
          "2023-08-01T00:00:00",
          "2023-03-01T00:00:00",
          "2023-03-01T00:00:00",
          "2023-03-01T00:00:00",
          "2023-03-01T00:00:00",
          "2023-07-01T00:00:00",
          "2023-01-01T00:00:00",
          "2023-08-01T00:00:00",
          "2023-08-01T00:00:00",
          "2023-04-01T00:00:00",
          "2023-08-01T00:00:00",
          "2023-02-01T00:00:00",
          "2023-01-01T00:00:00",
          "2023-07-01T00:00:00",
          "2023-01-01T00:00:00",
          "2023-10-01T00:00:00",
          "2023-04-01T00:00:00",
          "2023-02-01T00:00:00",
          "2023-05-01T00:00:00",
          "2023-04-01T00:00:00",
          "2023-08-01T00:00:00",
          "2023-01-01T00:00:00",
          "2023-01-01T00:00:00",
          "2023-07-01T00:00:00",
          "2023-10-01T00:00:00",
          "2023-03-01T00:00:00",
          "2023-04-01T00:00:00",
          "2023-11-01T00:00:00",
          "2023-01-01T00:00:00",
          "2023-02-01T00:00:00",
          "2023-05-01T00:00:00",
          "2023-12-01T00:00:00",
          "2023-04-01T00:00:00",
          "2023-06-01T00:00:00",
          "2023-03-01T00:00:00",
          "2023-05-01T00:00:00",
          "2023-04-01T00:00:00",
          "2023-02-01T00:00:00",
          "2023-02-01T00:00:00",
          "2023-01-01T00:00:00",
          "2023-05-01T00:00:00",
          "2023-04-01T00:00:00",
          "2023-05-01T00:00:00",
          "2023-05-01T00:00:00",
          "2023-11-01T00:00:00",
          "2023-05-01T00:00:00",
          "2023-08-01T00:00:00",
          "2023-12-01T00:00:00",
          "2023-11-01T00:00:00",
          "2023-01-01T00:00:00",
          "2023-03-01T00:00:00",
          "2023-05-01T00:00:00",
          "2023-02-01T00:00:00",
          "2023-04-01T00:00:00",
          "2023-10-01T00:00:00",
          "2023-02-01T00:00:00",
          "2023-05-01T00:00:00",
          "2023-08-01T00:00:00",
          "2023-10-01T00:00:00",
          "2023-02-01T00:00:00",
          "2023-05-01T00:00:00",
          "2023-01-01T00:00:00",
          "2023-07-01T00:00:00",
          "2023-06-01T00:00:00",
          "2023-08-01T00:00:00",
          "2023-07-01T00:00:00",
          "2023-07-01T00:00:00",
          "2023-02-01T00:00:00",
          "2023-12-01T00:00:00",
          "2023-04-01T00:00:00",
          "2023-03-01T00:00:00",
          "2023-01-01T00:00:00",
          "2023-07-01T00:00:00",
          "2023-07-01T00:00:00",
          "2023-07-01T00:00:00",
          "2023-04-01T00:00:00",
          "2023-04-01T00:00:00",
          "2023-08-01T00:00:00",
          "2023-03-01T00:00:00",
          "2023-03-01T00:00:00",
          "2023-08-01T00:00:00",
          "2023-04-01T00:00:00",
          "2023-06-01T00:00:00",
          "2023-12-01T00:00:00",
          "2023-04-01T00:00:00",
          "2023-03-01T00:00:00",
          "2023-03-01T00:00:00",
          "2023-11-01T00:00:00",
          "2023-01-01T00:00:00",
          "2023-07-01T00:00:00",
          "2023-01-01T00:00:00",
          "2023-02-01T00:00:00",
          "2023-01-01T00:00:00",
          "2023-08-01T00:00:00",
          "2023-10-01T00:00:00",
          "2023-01-01T00:00:00",
          "2023-06-01T00:00:00",
          "2023-05-01T00:00:00",
          "2023-05-01T00:00:00",
          "2023-03-01T00:00:00",
          "2023-03-01T00:00:00"
         ],
         "xaxis": "x",
         "y": [
          594254460,
          574759600,
          381178195,
          358995815,
          300144670,
          297895447,
          684075767,
          214504909,
          187131806,
          180587629,
          174116627,
          168248955,
          157066392,
          156248615,
          151692473,
          145960660,
          185535345,
          108161389,
          108133313,
          99847538,
          95043350,
          93277026,
          82042800,
          74469810,
          67233054,
          64388510,
          64267657,
          62291150,
          57638006,
          52460106,
          52102987,
          50452282,
          46566539,
          43244282,
          41066389,
          39330588,
          35397980,
          32502025,
          32111181,
          32062904,
          28049165,
          26005156,
          20372406,
          20009380,
          18541753,
          17707207,
          17556340,
          17487476,
          453829060,
          17152625,
          16938039,
          16840900,
          16271910,
          15753600,
          15033795,
          13309285,
          12897789,
          17463630,
          12089391,
          12084084,
          10760901,
          10724951,
          10458331,
          23708080,
          10117806,
          9002247,
          77191785,
          8176562,
          7265622,
          7259924,
          6496125,
          8093270,
          15351455,
          6230837,
          17348945,
          5525069,
          5433685,
          5426772,
          5456531,
          5078400,
          4830788,
          4813132,
          4500169,
          4350243,
          4303645,
          4275970,
          3821285,
          3649422,
          3644801,
          3574915,
          3541159,
          3496761,
          5023132,
          3400020,
          50057405,
          3025631,
          3038113,
          38501125,
          2515612,
          2503604,
          2500574,
          2210465,
          2136832,
          2104152,
          2052272,
          1864240,
          1856809,
          1802442,
          1775876,
          1750639,
          2090261,
          1721446,
          1588491,
          10582266,
          1545600,
          1500014,
          1476597,
          1455081,
          1443314,
          1293722,
          1290000,
          1256517,
          6773650,
          1188032,
          1176085,
          37968963,
          1100113,
          1097067,
          1090155,
          1046899,
          754483,
          909411,
          897190,
          855173,
          811739,
          798774,
          803189,
          765218,
          757981,
          750010,
          744169,
          705355,
          20511938,
          667114,
          653780,
          705767,
          1068782,
          601490,
          577004,
          567448,
          556585,
          541633,
          1658790,
          538551,
          535202,
          533978,
          4608096,
          451549,
          447912,
          449650,
          412550,
          379890,
          327584,
          340017,
          339946,
          335775,
          335417,
          326184,
          325583,
          320000,
          310746,
          309757,
          308825,
          295539,
          302550,
          415827,
          293496,
          288414,
          276672,
          302456,
          273860,
          1177577,
          277011,
          256566,
          221738,
          500082,
          213953,
          204620,
          214470,
          197702,
          196920,
          193829,
          46888441,
          180135,
          173816,
          168109,
          161290,
          161222,
          189579
         ],
         "yaxis": "y"
        }
       ],
       "layout": {
        "barmode": "relative",
        "legend": {
         "tracegroupgap": 0
        },
        "template": {
         "data": {
          "bar": [
           {
            "error_x": {
             "color": "#2a3f5f"
            },
            "error_y": {
             "color": "#2a3f5f"
            },
            "marker": {
             "line": {
              "color": "#E5ECF6",
              "width": 0.5
             },
             "pattern": {
              "fillmode": "overlay",
              "size": 10,
              "solidity": 0.2
             }
            },
            "type": "bar"
           }
          ],
          "barpolar": [
           {
            "marker": {
             "line": {
              "color": "#E5ECF6",
              "width": 0.5
             },
             "pattern": {
              "fillmode": "overlay",
              "size": 10,
              "solidity": 0.2
             }
            },
            "type": "barpolar"
           }
          ],
          "carpet": [
           {
            "aaxis": {
             "endlinecolor": "#2a3f5f",
             "gridcolor": "white",
             "linecolor": "white",
             "minorgridcolor": "white",
             "startlinecolor": "#2a3f5f"
            },
            "baxis": {
             "endlinecolor": "#2a3f5f",
             "gridcolor": "white",
             "linecolor": "white",
             "minorgridcolor": "white",
             "startlinecolor": "#2a3f5f"
            },
            "type": "carpet"
           }
          ],
          "choropleth": [
           {
            "colorbar": {
             "outlinewidth": 0,
             "ticks": ""
            },
            "type": "choropleth"
           }
          ],
          "contour": [
           {
            "colorbar": {
             "outlinewidth": 0,
             "ticks": ""
            },
            "colorscale": [
             [
              0,
              "#0d0887"
             ],
             [
              0.1111111111111111,
              "#46039f"
             ],
             [
              0.2222222222222222,
              "#7201a8"
             ],
             [
              0.3333333333333333,
              "#9c179e"
             ],
             [
              0.4444444444444444,
              "#bd3786"
             ],
             [
              0.5555555555555556,
              "#d8576b"
             ],
             [
              0.6666666666666666,
              "#ed7953"
             ],
             [
              0.7777777777777778,
              "#fb9f3a"
             ],
             [
              0.8888888888888888,
              "#fdca26"
             ],
             [
              1,
              "#f0f921"
             ]
            ],
            "type": "contour"
           }
          ],
          "contourcarpet": [
           {
            "colorbar": {
             "outlinewidth": 0,
             "ticks": ""
            },
            "type": "contourcarpet"
           }
          ],
          "heatmap": [
           {
            "colorbar": {
             "outlinewidth": 0,
             "ticks": ""
            },
            "colorscale": [
             [
              0,
              "#0d0887"
             ],
             [
              0.1111111111111111,
              "#46039f"
             ],
             [
              0.2222222222222222,
              "#7201a8"
             ],
             [
              0.3333333333333333,
              "#9c179e"
             ],
             [
              0.4444444444444444,
              "#bd3786"
             ],
             [
              0.5555555555555556,
              "#d8576b"
             ],
             [
              0.6666666666666666,
              "#ed7953"
             ],
             [
              0.7777777777777778,
              "#fb9f3a"
             ],
             [
              0.8888888888888888,
              "#fdca26"
             ],
             [
              1,
              "#f0f921"
             ]
            ],
            "type": "heatmap"
           }
          ],
          "heatmapgl": [
           {
            "colorbar": {
             "outlinewidth": 0,
             "ticks": ""
            },
            "colorscale": [
             [
              0,
              "#0d0887"
             ],
             [
              0.1111111111111111,
              "#46039f"
             ],
             [
              0.2222222222222222,
              "#7201a8"
             ],
             [
              0.3333333333333333,
              "#9c179e"
             ],
             [
              0.4444444444444444,
              "#bd3786"
             ],
             [
              0.5555555555555556,
              "#d8576b"
             ],
             [
              0.6666666666666666,
              "#ed7953"
             ],
             [
              0.7777777777777778,
              "#fb9f3a"
             ],
             [
              0.8888888888888888,
              "#fdca26"
             ],
             [
              1,
              "#f0f921"
             ]
            ],
            "type": "heatmapgl"
           }
          ],
          "histogram": [
           {
            "marker": {
             "pattern": {
              "fillmode": "overlay",
              "size": 10,
              "solidity": 0.2
             }
            },
            "type": "histogram"
           }
          ],
          "histogram2d": [
           {
            "colorbar": {
             "outlinewidth": 0,
             "ticks": ""
            },
            "colorscale": [
             [
              0,
              "#0d0887"
             ],
             [
              0.1111111111111111,
              "#46039f"
             ],
             [
              0.2222222222222222,
              "#7201a8"
             ],
             [
              0.3333333333333333,
              "#9c179e"
             ],
             [
              0.4444444444444444,
              "#bd3786"
             ],
             [
              0.5555555555555556,
              "#d8576b"
             ],
             [
              0.6666666666666666,
              "#ed7953"
             ],
             [
              0.7777777777777778,
              "#fb9f3a"
             ],
             [
              0.8888888888888888,
              "#fdca26"
             ],
             [
              1,
              "#f0f921"
             ]
            ],
            "type": "histogram2d"
           }
          ],
          "histogram2dcontour": [
           {
            "colorbar": {
             "outlinewidth": 0,
             "ticks": ""
            },
            "colorscale": [
             [
              0,
              "#0d0887"
             ],
             [
              0.1111111111111111,
              "#46039f"
             ],
             [
              0.2222222222222222,
              "#7201a8"
             ],
             [
              0.3333333333333333,
              "#9c179e"
             ],
             [
              0.4444444444444444,
              "#bd3786"
             ],
             [
              0.5555555555555556,
              "#d8576b"
             ],
             [
              0.6666666666666666,
              "#ed7953"
             ],
             [
              0.7777777777777778,
              "#fb9f3a"
             ],
             [
              0.8888888888888888,
              "#fdca26"
             ],
             [
              1,
              "#f0f921"
             ]
            ],
            "type": "histogram2dcontour"
           }
          ],
          "mesh3d": [
           {
            "colorbar": {
             "outlinewidth": 0,
             "ticks": ""
            },
            "type": "mesh3d"
           }
          ],
          "parcoords": [
           {
            "line": {
             "colorbar": {
              "outlinewidth": 0,
              "ticks": ""
             }
            },
            "type": "parcoords"
           }
          ],
          "pie": [
           {
            "automargin": true,
            "type": "pie"
           }
          ],
          "scatter": [
           {
            "fillpattern": {
             "fillmode": "overlay",
             "size": 10,
             "solidity": 0.2
            },
            "type": "scatter"
           }
          ],
          "scatter3d": [
           {
            "line": {
             "colorbar": {
              "outlinewidth": 0,
              "ticks": ""
             }
            },
            "marker": {
             "colorbar": {
              "outlinewidth": 0,
              "ticks": ""
             }
            },
            "type": "scatter3d"
           }
          ],
          "scattercarpet": [
           {
            "marker": {
             "colorbar": {
              "outlinewidth": 0,
              "ticks": ""
             }
            },
            "type": "scattercarpet"
           }
          ],
          "scattergeo": [
           {
            "marker": {
             "colorbar": {
              "outlinewidth": 0,
              "ticks": ""
             }
            },
            "type": "scattergeo"
           }
          ],
          "scattergl": [
           {
            "marker": {
             "colorbar": {
              "outlinewidth": 0,
              "ticks": ""
             }
            },
            "type": "scattergl"
           }
          ],
          "scattermapbox": [
           {
            "marker": {
             "colorbar": {
              "outlinewidth": 0,
              "ticks": ""
             }
            },
            "type": "scattermapbox"
           }
          ],
          "scatterpolar": [
           {
            "marker": {
             "colorbar": {
              "outlinewidth": 0,
              "ticks": ""
             }
            },
            "type": "scatterpolar"
           }
          ],
          "scatterpolargl": [
           {
            "marker": {
             "colorbar": {
              "outlinewidth": 0,
              "ticks": ""
             }
            },
            "type": "scatterpolargl"
           }
          ],
          "scatterternary": [
           {
            "marker": {
             "colorbar": {
              "outlinewidth": 0,
              "ticks": ""
             }
            },
            "type": "scatterternary"
           }
          ],
          "surface": [
           {
            "colorbar": {
             "outlinewidth": 0,
             "ticks": ""
            },
            "colorscale": [
             [
              0,
              "#0d0887"
             ],
             [
              0.1111111111111111,
              "#46039f"
             ],
             [
              0.2222222222222222,
              "#7201a8"
             ],
             [
              0.3333333333333333,
              "#9c179e"
             ],
             [
              0.4444444444444444,
              "#bd3786"
             ],
             [
              0.5555555555555556,
              "#d8576b"
             ],
             [
              0.6666666666666666,
              "#ed7953"
             ],
             [
              0.7777777777777778,
              "#fb9f3a"
             ],
             [
              0.8888888888888888,
              "#fdca26"
             ],
             [
              1,
              "#f0f921"
             ]
            ],
            "type": "surface"
           }
          ],
          "table": [
           {
            "cells": {
             "fill": {
              "color": "#EBF0F8"
             },
             "line": {
              "color": "white"
             }
            },
            "header": {
             "fill": {
              "color": "#C8D4E3"
             },
             "line": {
              "color": "white"
             }
            },
            "type": "table"
           }
          ]
         },
         "layout": {
          "annotationdefaults": {
           "arrowcolor": "#2a3f5f",
           "arrowhead": 0,
           "arrowwidth": 1
          },
          "autotypenumbers": "strict",
          "coloraxis": {
           "colorbar": {
            "outlinewidth": 0,
            "ticks": ""
           }
          },
          "colorscale": {
           "diverging": [
            [
             0,
             "#8e0152"
            ],
            [
             0.1,
             "#c51b7d"
            ],
            [
             0.2,
             "#de77ae"
            ],
            [
             0.3,
             "#f1b6da"
            ],
            [
             0.4,
             "#fde0ef"
            ],
            [
             0.5,
             "#f7f7f7"
            ],
            [
             0.6,
             "#e6f5d0"
            ],
            [
             0.7,
             "#b8e186"
            ],
            [
             0.8,
             "#7fbc41"
            ],
            [
             0.9,
             "#4d9221"
            ],
            [
             1,
             "#276419"
            ]
           ],
           "sequential": [
            [
             0,
             "#0d0887"
            ],
            [
             0.1111111111111111,
             "#46039f"
            ],
            [
             0.2222222222222222,
             "#7201a8"
            ],
            [
             0.3333333333333333,
             "#9c179e"
            ],
            [
             0.4444444444444444,
             "#bd3786"
            ],
            [
             0.5555555555555556,
             "#d8576b"
            ],
            [
             0.6666666666666666,
             "#ed7953"
            ],
            [
             0.7777777777777778,
             "#fb9f3a"
            ],
            [
             0.8888888888888888,
             "#fdca26"
            ],
            [
             1,
             "#f0f921"
            ]
           ],
           "sequentialminus": [
            [
             0,
             "#0d0887"
            ],
            [
             0.1111111111111111,
             "#46039f"
            ],
            [
             0.2222222222222222,
             "#7201a8"
            ],
            [
             0.3333333333333333,
             "#9c179e"
            ],
            [
             0.4444444444444444,
             "#bd3786"
            ],
            [
             0.5555555555555556,
             "#d8576b"
            ],
            [
             0.6666666666666666,
             "#ed7953"
            ],
            [
             0.7777777777777778,
             "#fb9f3a"
            ],
            [
             0.8888888888888888,
             "#fdca26"
            ],
            [
             1,
             "#f0f921"
            ]
           ]
          },
          "colorway": [
           "#636efa",
           "#EF553B",
           "#00cc96",
           "#ab63fa",
           "#FFA15A",
           "#19d3f3",
           "#FF6692",
           "#B6E880",
           "#FF97FF",
           "#FECB52"
          ],
          "font": {
           "color": "#2a3f5f"
          },
          "geo": {
           "bgcolor": "white",
           "lakecolor": "white",
           "landcolor": "#E5ECF6",
           "showlakes": true,
           "showland": true,
           "subunitcolor": "white"
          },
          "hoverlabel": {
           "align": "left"
          },
          "hovermode": "closest",
          "mapbox": {
           "style": "light"
          },
          "paper_bgcolor": "white",
          "plot_bgcolor": "#E5ECF6",
          "polar": {
           "angularaxis": {
            "gridcolor": "white",
            "linecolor": "white",
            "ticks": ""
           },
           "bgcolor": "#E5ECF6",
           "radialaxis": {
            "gridcolor": "white",
            "linecolor": "white",
            "ticks": ""
           }
          },
          "scene": {
           "xaxis": {
            "backgroundcolor": "#E5ECF6",
            "gridcolor": "white",
            "gridwidth": 2,
            "linecolor": "white",
            "showbackground": true,
            "ticks": "",
            "zerolinecolor": "white"
           },
           "yaxis": {
            "backgroundcolor": "#E5ECF6",
            "gridcolor": "white",
            "gridwidth": 2,
            "linecolor": "white",
            "showbackground": true,
            "ticks": "",
            "zerolinecolor": "white"
           },
           "zaxis": {
            "backgroundcolor": "#E5ECF6",
            "gridcolor": "white",
            "gridwidth": 2,
            "linecolor": "white",
            "showbackground": true,
            "ticks": "",
            "zerolinecolor": "white"
           }
          },
          "shapedefaults": {
           "line": {
            "color": "#2a3f5f"
           }
          },
          "ternary": {
           "aaxis": {
            "gridcolor": "white",
            "linecolor": "white",
            "ticks": ""
           },
           "baxis": {
            "gridcolor": "white",
            "linecolor": "white",
            "ticks": ""
           },
           "bgcolor": "#E5ECF6",
           "caxis": {
            "gridcolor": "white",
            "linecolor": "white",
            "ticks": ""
           }
          },
          "title": {
           "x": 0.05
          },
          "xaxis": {
           "automargin": true,
           "gridcolor": "white",
           "linecolor": "white",
           "ticks": "",
           "title": {
            "standoff": 15
           },
           "zerolinecolor": "white",
           "zerolinewidth": 2
          },
          "yaxis": {
           "automargin": true,
           "gridcolor": "white",
           "linecolor": "white",
           "ticks": "",
           "title": {
            "standoff": 15
           },
           "zerolinecolor": "white",
           "zerolinewidth": 2
          }
         }
        },
        "title": {
         "text": "Total Revenue by Release Month",
         "x": 0.5
        },
        "xaxis": {
         "anchor": "y",
         "domain": [
          0,
          1
         ],
         "title": {
          "text": "Release Date"
         }
        },
        "yaxis": {
         "anchor": "x",
         "domain": [
          0,
          1
         ],
         "title": {
          "text": "Total Gross"
         }
        }
       }
      }
     },
     "metadata": {},
     "output_type": "display_data"
    }
   ],
   "source": [
    "fig = px.bar(data_frame=multivar , x='release date' , y='total gross' , \n",
    "            #color='distributor' \n",
    "                title='Total Revenue by Release Month',\n",
    "labels={'release date' : 'Release Date' , 'distributor' : 'Distributor' , 'total gross' : 'Total Gross'})\n",
    "\n",
    "fig.update_layout(title_x=0.5)\n",
    "fig.show()"
   ]
  },
  {
   "cell_type": "markdown",
   "metadata": {},
   "source": [
    "# chart 5: Total Revenue for each distributor per month"
   ]
  },
  {
   "cell_type": "code",
   "execution_count": 28,
   "metadata": {},
   "outputs": [
    {
     "name": "stderr",
     "output_type": "stream",
     "text": [
      "c:\\Users\\pc\\AppData\\Local\\Programs\\Python\\Python311\\Lib\\site-packages\\_plotly_utils\\basevalidators.py:105: FutureWarning:\n",
      "\n",
      "The behavior of DatetimeProperties.to_pydatetime is deprecated, in a future version this will return a Series containing python datetime objects instead of an ndarray. To retain the old behavior, call `np.array` on the result\n",
      "\n"
     ]
    },
    {
     "data": {
      "application/vnd.plotly.v1+json": {
       "config": {
        "plotlyServerURL": "https://plot.ly"
       },
       "data": [
        {
         "hovertemplate": "Distributor=Warner Bros.<br>Release Date=%{x}<br>Total Gross=%{marker.size}<extra></extra>",
         "legendgroup": "Warner Bros.",
         "marker": {
          "color": "#636efa",
          "size": [
           594254460,
           108133313,
           74469810,
           67233054,
           57638006,
           46566539,
           26005156,
           9002247,
           4275970
          ],
          "sizemode": "area",
          "sizeref": 1710189.4175,
          "symbol": "circle"
         },
         "mode": "markers",
         "name": "Warner Bros.",
         "orientation": "v",
         "showlegend": true,
         "type": "scatter",
         "x": [
          "2023-07-01T00:00:00",
          "2023-06-01T00:00:00",
          "2023-08-01T00:00:00",
          "2023-04-01T00:00:00",
          "2023-03-01T00:00:00",
          "2023-08-01T00:00:00",
          "2023-02-01T00:00:00",
          "2023-01-01T00:00:00",
          "2023-02-01T00:00:00"
         ],
         "xaxis": "x",
         "y": [
          594254460,
          108133313,
          74469810,
          67233054,
          57638006,
          46566539,
          26005156,
          9002247,
          4275970
         ],
         "yaxis": "y"
        },
        {
         "hovertemplate": "Distributor=Universal Pictures<br>Release Date=%{x}<br>Total Gross=%{marker.size}<extra></extra>",
         "legendgroup": "Universal Pictures",
         "marker": {
          "color": "#EF553B",
          "size": [
           574759600,
           300144670,
           145960660,
           185535345,
           95043350,
           64388510,
           35397980,
           17152625,
           16840900,
           13309285,
           17348945,
           50057405,
           1864240
          ],
          "sizemode": "area",
          "sizeref": 1710189.4175,
          "symbol": "circle"
         },
         "mode": "markers",
         "name": "Universal Pictures",
         "orientation": "v",
         "showlegend": true,
         "type": "scatter",
         "x": [
          "2023-04-01T00:00:00",
          "2023-07-01T00:00:00",
          "2023-05-01T00:00:00",
          "2023-12-01T00:00:00",
          "2023-01-01T00:00:00",
          "2023-02-01T00:00:00",
          "2023-02-01T00:00:00",
          "2023-04-01T00:00:00",
          "2023-08-01T00:00:00",
          "2023-08-01T00:00:00",
          "2023-11-01T00:00:00",
          "2023-12-01T00:00:00",
          "2023-08-01T00:00:00"
         ],
         "xaxis": "x",
         "y": [
          574759600,
          300144670,
          145960660,
          185535345,
          95043350,
          64388510,
          35397980,
          17152625,
          16840900,
          13309285,
          17348945,
          50057405,
          1864240
         ],
         "yaxis": "y"
        },
        {
         "hovertemplate": "Distributor=Columbia Pictures<br>Release Date=%{x}<br>Total Gross=%{marker.size}<extra></extra>",
         "legendgroup": "Columbia Pictures",
         "marker": {
          "color": "#00cc96",
          "size": [
           381178195,
           64267657,
           20511938
          ],
          "sizemode": "area",
          "sizeref": 1710189.4175,
          "symbol": "circle"
         },
         "mode": "markers",
         "name": "Columbia Pictures",
         "orientation": "v",
         "showlegend": true,
         "type": "scatter",
         "x": [
          "2023-06-01T00:00:00",
          "2023-12-01T00:00:00",
          "2023-11-01T00:00:00"
         ],
         "xaxis": "x",
         "y": [
          381178195,
          64267657,
          20511938
         ],
         "yaxis": "y"
        },
        {
         "hovertemplate": "Distributor=Walt Disney Studios Motion Pictures<br>Release Date=%{x}<br>Total Gross=%{marker.size}<extra></extra>",
         "legendgroup": "Walt Disney Studios Motion Pictures",
         "marker": {
          "color": "#ab63fa",
          "size": [
           358995815,
           297895447,
           214504909,
           174116627,
           151692473,
           62291150,
           43244282,
           453829060,
           3541159,
           37968963
          ],
          "sizemode": "area",
          "sizeref": 1710189.4175,
          "symbol": "circle"
         },
         "mode": "markers",
         "name": "Walt Disney Studios Motion Pictures",
         "orientation": "v",
         "showlegend": true,
         "type": "scatter",
         "x": [
          "2023-05-01T00:00:00",
          "2023-05-01T00:00:00",
          "2023-02-01T00:00:00",
          "2023-06-01T00:00:00",
          "2023-06-01T00:00:00",
          "2023-07-01T00:00:00",
          "2023-06-01T00:00:00",
          "2023-11-01T00:00:00",
          "2023-04-01T00:00:00",
          "2023-11-01T00:00:00"
         ],
         "xaxis": "x",
         "y": [
          358995815,
          297895447,
          214504909,
          174116627,
          151692473,
          62291150,
          43244282,
          453829060,
          3541159,
          37968963
         ],
         "yaxis": "y"
        },
        {
         "hovertemplate": "Distributor=20th Century Studios<br>Release Date=%{x}<br>Total Gross=%{marker.size}<extra></extra>",
         "legendgroup": "20th Century Studios",
         "marker": {
          "color": "#FFA15A",
          "size": [
           684075767
          ],
          "sizemode": "area",
          "sizeref": 1710189.4175,
          "symbol": "circle"
         },
         "mode": "markers",
         "name": "20th Century Studios",
         "orientation": "v",
         "showlegend": true,
         "type": "scatter",
         "x": [
          "2023-12-01T00:00:00"
         ],
         "xaxis": "x",
         "y": [
          684075767
         ],
         "yaxis": "y"
        },
        {
         "hovertemplate": "Distributor=Lionsgate<br>Release Date=%{x}<br>Total Gross=%{marker.size}<extra></extra>",
         "legendgroup": "Lionsgate",
         "marker": {
          "color": "#19d3f3",
          "size": [
           187131806,
           52102987,
           32111181,
           20372406,
           17707207,
           12897789,
           12089391,
           7265622,
           6496125
          ],
          "sizemode": "area",
          "sizeref": 1710189.4175,
          "symbol": "circle"
         },
         "mode": "markers",
         "name": "Lionsgate",
         "orientation": "v",
         "showlegend": true,
         "type": "scatter",
         "x": [
          "2023-03-01T00:00:00",
          "2023-02-01T00:00:00",
          "2023-01-01T00:00:00",
          "2023-04-01T00:00:00",
          "2023-06-01T00:00:00",
          "2023-07-01T00:00:00",
          "2023-05-01T00:00:00",
          "2023-04-01T00:00:00",
          "2023-03-01T00:00:00"
         ],
         "xaxis": "x",
         "y": [
          187131806,
          52102987,
          32111181,
          20372406,
          17707207,
          12897789,
          12089391,
          7265622,
          6496125
         ],
         "yaxis": "y"
        },
        {
         "hovertemplate": "Distributor=Angel Studios<br>Release Date=%{x}<br>Total Gross=%{marker.size}<extra></extra>",
         "legendgroup": "Angel Studios",
         "marker": {
          "color": "#FF6692",
          "size": [
           180587629,
           12084084
          ],
          "sizemode": "area",
          "sizeref": 1710189.4175,
          "symbol": "circle"
         },
         "mode": "markers",
         "name": "Angel Studios",
         "orientation": "v",
         "showlegend": true,
         "type": "scatter",
         "x": [
          "2023-07-01T00:00:00",
          "2023-03-01T00:00:00"
         ],
         "xaxis": "x",
         "y": [
          180587629,
          12084084
         ],
         "yaxis": "y"
        },
        {
         "hovertemplate": "Distributor=Paramount Pictures<br>Release Date=%{x}<br>Total Gross=%{marker.size}<extra></extra>",
         "legendgroup": "Paramount Pictures",
         "marker": {
          "color": "#B6E880",
          "size": [
           168248955,
           157066392,
           108161389,
           99847538,
           93277026,
           39330588,
           15033795,
           15351455
          ],
          "sizemode": "area",
          "sizeref": 1710189.4175,
          "symbol": "circle"
         },
         "mode": "markers",
         "name": "Paramount Pictures",
         "orientation": "v",
         "showlegend": true,
         "type": "scatter",
         "x": [
          "2023-07-01T00:00:00",
          "2023-06-01T00:00:00",
          "2023-03-01T00:00:00",
          "2023-08-01T00:00:00",
          "2023-03-01T00:00:00",
          "2023-02-01T00:00:00",
          "2023-02-01T00:00:00",
          "2023-12-01T00:00:00"
         ],
         "xaxis": "x",
         "y": [
          168248955,
          157066392,
          108161389,
          99847538,
          93277026,
          39330588,
          15033795,
          15351455
         ],
         "yaxis": "y"
        },
        {
         "hovertemplate": "Distributor=United Artists Releasing<br>Release Date=%{x}<br>Total Gross=%{marker.size}<extra></extra>",
         "legendgroup": "United Artists Releasing",
         "marker": {
          "color": "#FF97FF",
          "size": [
           156248615,
           5456531,
           2210465
          ],
          "sizemode": "area",
          "sizeref": 1710189.4175,
          "symbol": "circle"
         },
         "mode": "markers",
         "name": "United Artists Releasing",
         "orientation": "v",
         "showlegend": true,
         "type": "scatter",
         "x": [
          "2023-03-01T00:00:00",
          "2023-12-01T00:00:00",
          "2023-03-01T00:00:00"
         ],
         "xaxis": "x",
         "y": [
          156248615,
          5456531,
          2210465
         ],
         "yaxis": "y"
        },
        {
         "hovertemplate": "Distributor=Screen Gems<br>Release Date=%{x}<br>Total Gross=%{marker.size}<extra></extra>",
         "legendgroup": "Screen Gems",
         "marker": {
          "color": "#FECB52",
          "size": [
           82042800,
           20009380,
           6230837
          ],
          "sizemode": "area",
          "sizeref": 1710189.4175,
          "symbol": "circle"
         },
         "mode": "markers",
         "name": "Screen Gems",
         "orientation": "v",
         "showlegend": true,
         "type": "scatter",
         "x": [
          "2023-07-01T00:00:00",
          "2023-04-01T00:00:00",
          "2023-05-01T00:00:00"
         ],
         "xaxis": "x",
         "y": [
          82042800,
          20009380,
          6230837
         ],
         "yaxis": "y"
        },
        {
         "hovertemplate": "Distributor=-<br>Release Date=%{x}<br>Total Gross=%{marker.size}<extra></extra>",
         "legendgroup": "-",
         "marker": {
          "color": "#636efa",
          "size": [
           52460106,
           535202
          ],
          "sizemode": "area",
          "sizeref": 1710189.4175,
          "symbol": "circle"
         },
         "mode": "markers",
         "name": "-",
         "orientation": "v",
         "showlegend": true,
         "type": "scatter",
         "x": [
          "2023-04-01T00:00:00",
          "2023-05-01T00:00:00"
         ],
         "xaxis": "x",
         "y": [
          52460106,
          535202
         ],
         "yaxis": "y"
        },
        {
         "hovertemplate": "Distributor=Sony Pictures Entertainment (SPE)<br>Release Date=%{x}<br>Total Gross=%{marker.size}<extra></extra>",
         "legendgroup": "Sony Pictures Entertainment (SPE)",
         "marker": {
          "color": "#EF553B",
          "size": [
           50452282,
           32502025,
           32062904,
           18541753,
           10458331,
           5426772,
           2104152,
           705355,
           335417,
           214470,
           46888441,
           161222
          ],
          "sizemode": "area",
          "sizeref": 1710189.4175,
          "symbol": "circle"
         },
         "mode": "markers",
         "name": "Sony Pictures Entertainment (SPE)",
         "orientation": "v",
         "showlegend": true,
         "type": "scatter",
         "x": [
          "2023-06-01T00:00:00",
          "2023-01-01T00:00:00",
          "2023-03-01T00:00:00",
          "2023-08-01T00:00:00",
          "2023-05-01T00:00:00",
          "2023-04-01T00:00:00",
          "2023-07-01T00:00:00",
          "2023-05-01T00:00:00",
          "2023-12-01T00:00:00",
          "2023-01-01T00:00:00",
          "2023-10-01T00:00:00",
          "2023-03-01T00:00:00"
         ],
         "xaxis": "x",
         "y": [
          50452282,
          32502025,
          32062904,
          18541753,
          10458331,
          5426772,
          2104152,
          705355,
          335417,
          214470,
          46888441,
          161222
         ],
         "yaxis": "y"
        },
        {
         "hovertemplate": "Distributor=A24<br>Release Date=%{x}<br>Total Gross=%{marker.size}<extra></extra>",
         "legendgroup": "A24",
         "marker": {
          "color": "#00cc96",
          "size": [
           41066389,
           17463630,
           10724951,
           77191785,
           8176562,
           4830788,
           1100113,
           754483,
           1658790,
           196920
          ],
          "sizemode": "area",
          "sizeref": 1710189.4175,
          "symbol": "circle"
         },
         "mode": "markers",
         "name": "A24",
         "orientation": "v",
         "showlegend": true,
         "type": "scatter",
         "x": [
          "2023-07-01T00:00:00",
          "2023-12-01T00:00:00",
          "2023-06-01T00:00:00",
          "2023-03-01T00:00:00",
          "2023-04-01T00:00:00",
          "2023-05-01T00:00:00",
          "2023-01-01T00:00:00",
          "2023-04-01T00:00:00",
          "2023-10-01T00:00:00",
          "2023-01-01T00:00:00"
         ],
         "xaxis": "x",
         "y": [
          41066389,
          17463630,
          10724951,
          77191785,
          8176562,
          4830788,
          1100113,
          754483,
          1658790,
          196920
         ],
         "yaxis": "y"
        },
        {
         "hovertemplate": "Distributor=Focus Features<br>Release Date=%{x}<br>Total Gross=%{marker.size}<extra></extra>",
         "legendgroup": "Focus Features",
         "marker": {
          "color": "#ab63fa",
          "size": [
           28049165,
           17556340,
           16271910,
           3400020,
           1545600,
           6773650,
           897190,
           556585,
           273860
          ],
          "sizemode": "area",
          "sizeref": 1710189.4175,
          "symbol": "circle"
         },
         "mode": "markers",
         "name": "Focus Features",
         "orientation": "v",
         "showlegend": true,
         "type": "scatter",
         "x": [
          "2023-06-01T00:00:00",
          "2023-05-01T00:00:00",
          "2023-03-01T00:00:00",
          "2023-03-01T00:00:00",
          "2023-04-01T00:00:00",
          "2023-10-01T00:00:00",
          "2023-03-01T00:00:00",
          "2023-02-01T00:00:00",
          "2023-06-01T00:00:00"
         ],
         "xaxis": "x",
         "y": [
          28049165,
          17556340,
          16271910,
          3400020,
          1545600,
          6773650,
          897190,
          556585,
          273860
         ],
         "yaxis": "y"
        },
        {
         "hovertemplate": "Distributor=Yash Raj Films USA Inc.<br>Release Date=%{x}<br>Total Gross=%{marker.size}<extra></extra>",
         "legendgroup": "Yash Raj Films USA Inc.",
         "marker": {
          "color": "#FFA15A",
          "size": [
           17487476,
           2503604
          ],
          "sizemode": "area",
          "sizeref": 1710189.4175,
          "symbol": "circle"
         },
         "mode": "markers",
         "name": "Yash Raj Films USA Inc.",
         "orientation": "v",
         "showlegend": true,
         "type": "scatter",
         "x": [
          "2023-01-01T00:00:00",
          "2023-03-01T00:00:00"
         ],
         "xaxis": "x",
         "y": [
          17487476,
          2503604
         ],
         "yaxis": "y"
        },
        {
         "hovertemplate": "Distributor=Metro-Goldwyn-Mayer (MGM)<br>Release Date=%{x}<br>Total Gross=%{marker.size}<extra></extra>",
         "legendgroup": "Metro-Goldwyn-Mayer (MGM)",
         "marker": {
          "color": "#19d3f3",
          "size": [
           16938039
          ],
          "sizemode": "area",
          "sizeref": 1710189.4175,
          "symbol": "circle"
         },
         "mode": "markers",
         "name": "Metro-Goldwyn-Mayer (MGM)",
         "orientation": "v",
         "showlegend": true,
         "type": "scatter",
         "x": [
          "2023-04-01T00:00:00"
         ],
         "xaxis": "x",
         "y": [
          16938039
         ],
         "yaxis": "y"
        },
        {
         "hovertemplate": "Distributor=DreamWorks<br>Release Date=%{x}<br>Total Gross=%{marker.size}<extra></extra>",
         "legendgroup": "DreamWorks",
         "marker": {
          "color": "#FF6692",
          "size": [
           15753600
          ],
          "sizemode": "area",
          "sizeref": 1710189.4175,
          "symbol": "circle"
         },
         "mode": "markers",
         "name": "DreamWorks",
         "orientation": "v",
         "showlegend": true,
         "type": "scatter",
         "x": [
          "2023-06-01T00:00:00"
         ],
         "xaxis": "x",
         "y": [
          15753600
         ],
         "yaxis": "y"
        },
        {
         "hovertemplate": "Distributor=Crunchyroll<br>Release Date=%{x}<br>Total Gross=%{marker.size}<extra></extra>",
         "legendgroup": "Crunchyroll",
         "marker": {
          "color": "#B6E880",
          "size": [
           10760901,
           10117806,
           1588491,
           309757
          ],
          "sizemode": "area",
          "sizeref": 1710189.4175,
          "symbol": "circle"
         },
         "mode": "markers",
         "name": "Crunchyroll",
         "orientation": "v",
         "showlegend": true,
         "type": "scatter",
         "x": [
          "2023-04-01T00:00:00",
          "2023-03-01T00:00:00",
          "2023-01-01T00:00:00",
          "2023-07-01T00:00:00"
         ],
         "xaxis": "x",
         "y": [
          10760901,
          10117806,
          1588491,
          309757
         ],
         "yaxis": "y"
        },
        {
         "hovertemplate": "Distributor=TriStar Pictures<br>Release Date=%{x}<br>Total Gross=%{marker.size}<extra></extra>",
         "legendgroup": "TriStar Pictures",
         "marker": {
          "color": "#FF97FF",
          "size": [
           23708080
          ],
          "sizemode": "area",
          "sizeref": 1710189.4175,
          "symbol": "circle"
         },
         "mode": "markers",
         "name": "TriStar Pictures",
         "orientation": "v",
         "showlegend": true,
         "type": "scatter",
         "x": [
          "2023-12-01T00:00:00"
         ],
         "xaxis": "x",
         "y": [
          23708080
         ],
         "yaxis": "y"
        },
        {
         "hovertemplate": "Distributor='-<br>Release Date=%{x}<br>Total Gross=%{marker.size}<extra></extra>",
         "legendgroup": "'-",
         "marker": {
          "color": "#FECB52",
          "size": [
           7259924,
           1443314,
           1090155,
           765218,
           750010,
           339946,
           335775,
           325583,
           320000,
           310746,
           308825,
           293496,
           221738,
           500082,
           193829,
           189579
          ],
          "sizemode": "area",
          "sizeref": 1710189.4175,
          "symbol": "circle"
         },
         "mode": "markers",
         "name": "'-",
         "orientation": "v",
         "showlegend": true,
         "type": "scatter",
         "x": [
          "2023-04-01T00:00:00",
          "2023-08-01T00:00:00",
          "2023-05-01T00:00:00",
          "2023-01-01T00:00:00",
          "2023-04-01T00:00:00",
          "2023-07-01T00:00:00",
          "2023-02-01T00:00:00",
          "2023-03-01T00:00:00",
          "2023-01-01T00:00:00",
          "2023-07-01T00:00:00",
          "2023-07-01T00:00:00",
          "2023-03-01T00:00:00",
          "2023-03-01T00:00:00",
          "2023-11-01T00:00:00",
          "2023-08-01T00:00:00",
          "2023-03-01T00:00:00"
         ],
         "xaxis": "x",
         "y": [
          7259924,
          1443314,
          1090155,
          765218,
          750010,
          339946,
          335775,
          325583,
          320000,
          310746,
          308825,
          293496,
          221738,
          500082,
          193829,
          189579
         ],
         "yaxis": "y"
        },
        {
         "hovertemplate": "Distributor=Trafalgar Releasing<br>Release Date=%{x}<br>Total Gross=%{marker.size}<extra></extra>",
         "legendgroup": "Trafalgar Releasing",
         "marker": {
          "color": "#636efa",
          "size": [
           8093270,
           1290000
          ],
          "sizemode": "area",
          "sizeref": 1710189.4175,
          "symbol": "circle"
         },
         "mode": "markers",
         "name": "Trafalgar Releasing",
         "orientation": "v",
         "showlegend": true,
         "type": "scatter",
         "x": [
          "2023-02-01T00:00:00",
          "2023-01-01T00:00:00"
         ],
         "xaxis": "x",
         "y": [
          8093270,
          1290000
         ],
         "yaxis": "y"
        },
        {
         "hovertemplate": "Distributor=Fathom Events<br>Release Date=%{x}<br>Total Gross=%{marker.size}<extra></extra>",
         "legendgroup": "Fathom Events",
         "marker": {
          "color": "#EF553B",
          "size": [
           5525069,
           3649422,
           3574915,
           2500574,
           1750639,
           1455081,
           1176085,
           757981,
           601490,
           577004,
           567448,
           447912,
           295539,
           197702
          ],
          "sizemode": "area",
          "sizeref": 1710189.4175,
          "symbol": "circle"
         },
         "mode": "markers",
         "name": "Fathom Events",
         "orientation": "v",
         "showlegend": true,
         "type": "scatter",
         "x": [
          "2023-02-01T00:00:00",
          "2023-01-01T00:00:00",
          "2023-04-01T00:00:00",
          "2023-03-01T00:00:00",
          "2023-02-01T00:00:00",
          "2023-04-01T00:00:00",
          "2023-04-01T00:00:00",
          "2023-05-01T00:00:00",
          "2023-01-01T00:00:00",
          "2023-03-01T00:00:00",
          "2023-05-01T00:00:00",
          "2023-05-01T00:00:00",
          "2023-04-01T00:00:00",
          "2023-02-01T00:00:00"
         ],
         "xaxis": "x",
         "y": [
          5525069,
          3649422,
          3574915,
          2500574,
          1750639,
          1455081,
          1176085,
          757981,
          601490,
          577004,
          567448,
          447912,
          295539,
          197702
         ],
         "yaxis": "y"
        },
        {
         "hovertemplate": "Distributor=Soli Deo Gloria Releasing<br>Release Date=%{x}<br>Total Gross=%{marker.size}<extra></extra>",
         "legendgroup": "Soli Deo Gloria Releasing",
         "marker": {
          "color": "#00cc96",
          "size": [
           5433685
          ],
          "sizemode": "area",
          "sizeref": 1710189.4175,
          "symbol": "circle"
         },
         "mode": "markers",
         "name": "Soli Deo Gloria Releasing",
         "orientation": "v",
         "showlegend": true,
         "type": "scatter",
         "x": [
          "2023-04-01T00:00:00"
         ],
         "xaxis": "x",
         "y": [
          5433685
         ],
         "yaxis": "y"
        },
        {
         "hovertemplate": "Distributor=Neon<br>Release Date=%{x}<br>Total Gross=%{marker.size}<extra></extra>",
         "legendgroup": "Neon",
         "marker": {
          "color": "#ab63fa",
          "size": [
           5078400,
           1500014,
           1046899,
           4608096,
           213953
          ],
          "sizemode": "area",
          "sizeref": 1710189.4175,
          "symbol": "circle"
         },
         "mode": "markers",
         "name": "Neon",
         "orientation": "v",
         "showlegend": true,
         "type": "scatter",
         "x": [
          "2023-01-01T00:00:00",
          "2023-02-01T00:00:00",
          "2023-12-01T00:00:00",
          "2023-10-01T00:00:00",
          "2023-01-01T00:00:00"
         ],
         "xaxis": "x",
         "y": [
          5078400,
          1500014,
          1046899,
          4608096,
          213953
         ],
         "yaxis": "y"
        },
        {
         "hovertemplate": "Distributor=Open Road Films (II)<br>Release Date=%{x}<br>Total Gross=%{marker.size}<extra></extra>",
         "legendgroup": "Open Road Films (II)",
         "marker": {
          "color": "#FFA15A",
          "size": [
           4813132,
           4350243
          ],
          "sizemode": "area",
          "sizeref": 1710189.4175,
          "symbol": "circle"
         },
         "mode": "markers",
         "name": "Open Road Films (II)",
         "orientation": "v",
         "showlegend": true,
         "type": "scatter",
         "x": [
          "2023-05-01T00:00:00",
          "2023-02-01T00:00:00"
         ],
         "xaxis": "x",
         "y": [
          4813132,
          4350243
         ],
         "yaxis": "y"
        },
        {
         "hovertemplate": "Distributor=Ketchup Entertainment<br>Release Date=%{x}<br>Total Gross=%{marker.size}<extra></extra>",
         "legendgroup": "Ketchup Entertainment",
         "marker": {
          "color": "#19d3f3",
          "size": [
           4500169
          ],
          "sizemode": "area",
          "sizeref": 1710189.4175,
          "symbol": "circle"
         },
         "mode": "markers",
         "name": "Ketchup Entertainment",
         "orientation": "v",
         "showlegend": true,
         "type": "scatter",
         "x": [
          "2023-05-01T00:00:00"
         ],
         "xaxis": "x",
         "y": [
          4500169
         ],
         "yaxis": "y"
        },
        {
         "hovertemplate": "Distributor=Viva Pictures<br>Release Date=%{x}<br>Total Gross=%{marker.size}<extra></extra>",
         "legendgroup": "Viva Pictures",
         "marker": {
          "color": "#FF6692",
          "size": [
           4303645,
           744169
          ],
          "sizemode": "area",
          "sizeref": 1710189.4175,
          "symbol": "circle"
         },
         "mode": "markers",
         "name": "Viva Pictures",
         "orientation": "v",
         "showlegend": true,
         "type": "scatter",
         "x": [
          "2023-02-01T00:00:00",
          "2023-05-01T00:00:00"
         ],
         "xaxis": "x",
         "y": [
          4303645,
          744169
         ],
         "yaxis": "y"
        },
        {
         "hovertemplate": "Distributor=Roadside Attractions<br>Release Date=%{x}<br>Total Gross=%{marker.size}<extra></extra>",
         "legendgroup": "Roadside Attractions",
         "marker": {
          "color": "#B6E880",
          "size": [
           3821285,
           2136832,
           1802442,
           855173,
           276672
          ],
          "sizemode": "area",
          "sizeref": 1710189.4175,
          "symbol": "circle"
         },
         "mode": "markers",
         "name": "Roadside Attractions",
         "orientation": "v",
         "showlegend": true,
         "type": "scatter",
         "x": [
          "2023-08-01T00:00:00",
          "2023-03-01T00:00:00",
          "2023-04-01T00:00:00",
          "2023-05-01T00:00:00",
          "2023-08-01T00:00:00"
         ],
         "xaxis": "x",
         "y": [
          3821285,
          2136832,
          1802442,
          855173,
          276672
         ],
         "yaxis": "y"
        },
        {
         "hovertemplate": "Distributor=Searchlight Pictures<br>Release Date=%{x}<br>Total Gross=%{marker.size}<extra></extra>",
         "legendgroup": "Searchlight Pictures",
         "marker": {
          "color": "#FF97FF",
          "size": [
           3644801,
           38501125,
           10582266,
           1177577
          ],
          "sizemode": "area",
          "sizeref": 1710189.4175,
          "symbol": "circle"
         },
         "mode": "markers",
         "name": "Searchlight Pictures",
         "orientation": "v",
         "showlegend": true,
         "type": "scatter",
         "x": [
          "2023-07-01T00:00:00",
          "2023-11-01T00:00:00",
          "2023-10-01T00:00:00",
          "2023-12-01T00:00:00"
         ],
         "xaxis": "x",
         "y": [
          3644801,
          38501125,
          10582266,
          1177577
         ],
         "yaxis": "y"
        },
        {
         "hovertemplate": "Distributor=Bleecker Street Media<br>Release Date=%{x}<br>Total Gross=%{marker.size}<extra></extra>",
         "legendgroup": "Bleecker Street Media",
         "marker": {
          "color": "#FECB52",
          "size": [
           3496761,
           1856809,
           1775876,
           1097067,
           161290
          ],
          "sizemode": "area",
          "sizeref": 1710189.4175,
          "symbol": "circle"
         },
         "mode": "markers",
         "name": "Bleecker Street Media",
         "orientation": "v",
         "showlegend": true,
         "type": "scatter",
         "x": [
          "2023-04-01T00:00:00",
          "2023-08-01T00:00:00",
          "2023-08-01T00:00:00",
          "2023-02-01T00:00:00",
          "2023-05-01T00:00:00"
         ],
         "xaxis": "x",
         "y": [
          3496761,
          1856809,
          1775876,
          1097067,
          161290
         ],
         "yaxis": "y"
        },
        {
         "hovertemplate": "Distributor=Well Go USA Entertainment<br>Release Date=%{x}<br>Total Gross=%{marker.size}<extra></extra>",
         "legendgroup": "Well Go USA Entertainment",
         "marker": {
          "color": "#636efa",
          "size": [
           5023132,
           803189,
           277011
          ],
          "sizemode": "area",
          "sizeref": 1710189.4175,
          "symbol": "circle"
         },
         "mode": "markers",
         "name": "Well Go USA Entertainment",
         "orientation": "v",
         "showlegend": true,
         "type": "scatter",
         "x": [
          "2023-01-01T00:00:00",
          "2023-02-01T00:00:00",
          "2023-04-01T00:00:00"
         ],
         "xaxis": "x",
         "y": [
          5023132,
          803189,
          277011
         ],
         "yaxis": "y"
        },
        {
         "hovertemplate": "Distributor=ShortsTV<br>Release Date=%{x}<br>Total Gross=%{marker.size}<extra></extra>",
         "legendgroup": "ShortsTV",
         "marker": {
          "color": "#EF553B",
          "size": [
           3025631
          ],
          "sizemode": "area",
          "sizeref": 1710189.4175,
          "symbol": "circle"
         },
         "mode": "markers",
         "name": "ShortsTV",
         "orientation": "v",
         "showlegend": true,
         "type": "scatter",
         "x": [
          "2023-02-01T00:00:00"
         ],
         "xaxis": "x",
         "y": [
          3025631
         ],
         "yaxis": "y"
        },
        {
         "hovertemplate": "Distributor=Sony Pictures Classics<br>Release Date=%{x}<br>Total Gross=%{marker.size}<extra></extra>",
         "legendgroup": "Sony Pictures Classics",
         "marker": {
          "color": "#00cc96",
          "size": [
           3038113,
           798774,
           653780,
           451549,
           449650
          ],
          "sizemode": "area",
          "sizeref": 1710189.4175,
          "symbol": "circle"
         },
         "mode": "markers",
         "name": "Sony Pictures Classics",
         "orientation": "v",
         "showlegend": true,
         "type": "scatter",
         "x": [
          "2023-12-01T00:00:00",
          "2023-02-01T00:00:00",
          "2023-08-01T00:00:00",
          "2023-02-01T00:00:00",
          "2023-01-01T00:00:00"
         ],
         "xaxis": "x",
         "y": [
          3038113,
          798774,
          653780,
          451549,
          449650
         ],
         "yaxis": "y"
        },
        {
         "hovertemplate": "Distributor=Briarcliff Entertainment<br>Release Date=%{x}<br>Total Gross=%{marker.size}<extra></extra>",
         "legendgroup": "Briarcliff Entertainment",
         "marker": {
          "color": "#ab63fa",
          "size": [
           2515612,
           541633
          ],
          "sizemode": "area",
          "sizeref": 1710189.4175,
          "symbol": "circle"
         },
         "mode": "markers",
         "name": "Briarcliff Entertainment",
         "orientation": "v",
         "showlegend": true,
         "type": "scatter",
         "x": [
          "2023-08-01T00:00:00",
          "2023-04-01T00:00:00"
         ],
         "xaxis": "x",
         "y": [
          2515612,
          541633
         ],
         "yaxis": "y"
        },
        {
         "hovertemplate": "Distributor=IFC Films<br>Release Date=%{x}<br>Total Gross=%{marker.size}<extra></extra>",
         "legendgroup": "IFC Films",
         "marker": {
          "color": "#FFA15A",
          "size": [
           2052272,
           1476597,
           1188032,
           811739,
           705767,
           538551
          ],
          "sizemode": "area",
          "sizeref": 1710189.4175,
          "symbol": "circle"
         },
         "mode": "markers",
         "name": "IFC Films",
         "orientation": "v",
         "showlegend": true,
         "type": "scatter",
         "x": [
          "2023-01-01T00:00:00",
          "2023-05-01T00:00:00",
          "2023-03-01T00:00:00",
          "2023-04-01T00:00:00",
          "2023-12-01T00:00:00",
          "2023-02-01T00:00:00"
         ],
         "xaxis": "x",
         "y": [
          2052272,
          1476597,
          1188032,
          811739,
          705767,
          538551
         ],
         "yaxis": "y"
        },
        {
         "hovertemplate": "Distributor=Hidden Empire Film Group (HEFG)<br>Release Date=%{x}<br>Total Gross=%{marker.size}<extra></extra>",
         "legendgroup": "Hidden Empire Film Group (HEFG)",
         "marker": {
          "color": "#19d3f3",
          "size": [
           2090261
          ],
          "sizemode": "area",
          "sizeref": 1710189.4175,
          "symbol": "circle"
         },
         "mode": "markers",
         "name": "Hidden Empire Film Group (HEFG)",
         "orientation": "v",
         "showlegend": true,
         "type": "scatter",
         "x": [
          "2023-01-01T00:00:00"
         ],
         "xaxis": "x",
         "y": [
          2090261
         ],
         "yaxis": "y"
        },
        {
         "hovertemplate": "Distributor=CMC Pictures<br>Release Date=%{x}<br>Total Gross=%{marker.size}<extra></extra>",
         "legendgroup": "CMC Pictures",
         "marker": {
          "color": "#FF6692",
          "size": [
           1721446
          ],
          "sizemode": "area",
          "sizeref": 1710189.4175,
          "symbol": "circle"
         },
         "mode": "markers",
         "name": "CMC Pictures",
         "orientation": "v",
         "showlegend": true,
         "type": "scatter",
         "x": [
          "2023-07-01T00:00:00"
         ],
         "xaxis": "x",
         "y": [
          1721446
         ],
         "yaxis": "y"
        },
        {
         "hovertemplate": "Distributor=Vertical Entertainment<br>Release Date=%{x}<br>Total Gross=%{marker.size}<extra></extra>",
         "legendgroup": "Vertical Entertainment",
         "marker": {
          "color": "#B6E880",
          "size": [
           1293722
          ],
          "sizemode": "area",
          "sizeref": 1710189.4175,
          "symbol": "circle"
         },
         "mode": "markers",
         "name": "Vertical Entertainment",
         "orientation": "v",
         "showlegend": true,
         "type": "scatter",
         "x": [
          "2023-01-01T00:00:00"
         ],
         "xaxis": "x",
         "y": [
          1293722
         ],
         "yaxis": "y"
        },
        {
         "hovertemplate": "Distributor=GKIDS<br>Release Date=%{x}<br>Total Gross=%{marker.size}<extra></extra>",
         "legendgroup": "GKIDS",
         "marker": {
          "color": "#FF97FF",
          "size": [
           1256517
          ],
          "sizemode": "area",
          "sizeref": 1710189.4175,
          "symbol": "circle"
         },
         "mode": "markers",
         "name": "GKIDS",
         "orientation": "v",
         "showlegend": true,
         "type": "scatter",
         "x": [
          "2023-07-01T00:00:00"
         ],
         "xaxis": "x",
         "y": [
          1256517
         ],
         "yaxis": "y"
        },
        {
         "hovertemplate": "Distributor=Capelight Pictures<br>Release Date=%{x}<br>Total Gross=%{marker.size}<extra></extra>",
         "legendgroup": "Capelight Pictures",
         "marker": {
          "color": "#FECB52",
          "size": [
           909411
          ],
          "sizemode": "area",
          "sizeref": 1710189.4175,
          "symbol": "circle"
         },
         "mode": "markers",
         "name": "Capelight Pictures",
         "orientation": "v",
         "showlegend": true,
         "type": "scatter",
         "x": [
          "2023-06-01T00:00:00"
         ],
         "xaxis": "x",
         "y": [
          909411
         ],
         "yaxis": "y"
        },
        {
         "hovertemplate": "Distributor=Magnolia Pictures<br>Release Date=%{x}<br>Total Gross=%{marker.size}<extra></extra>",
         "legendgroup": "Magnolia Pictures",
         "marker": {
          "color": "#636efa",
          "size": [
           667114
          ],
          "sizemode": "area",
          "sizeref": 1710189.4175,
          "symbol": "circle"
         },
         "mode": "markers",
         "name": "Magnolia Pictures",
         "orientation": "v",
         "showlegend": true,
         "type": "scatter",
         "x": [
          "2023-05-01T00:00:00"
         ],
         "xaxis": "x",
         "y": [
          667114
         ],
         "yaxis": "y"
        },
        {
         "hovertemplate": "Distributor=Sideshow Releasing<br>Release Date=%{x}<br>Total Gross=%{marker.size}<extra></extra>",
         "legendgroup": "Sideshow Releasing",
         "marker": {
          "color": "#EF553B",
          "size": [
           1068782,
           204620
          ],
          "sizemode": "area",
          "sizeref": 1710189.4175,
          "symbol": "circle"
         },
         "mode": "markers",
         "name": "Sideshow Releasing",
         "orientation": "v",
         "showlegend": true,
         "type": "scatter",
         "x": [
          "2023-11-01T00:00:00",
          "2023-07-01T00:00:00"
         ],
         "xaxis": "x",
         "y": [
          1068782,
          204620
         ],
         "yaxis": "y"
        },
        {
         "hovertemplate": "Distributor=Orion Pictures<br>Release Date=%{x}<br>Total Gross=%{marker.size}<extra></extra>",
         "legendgroup": "Orion Pictures",
         "marker": {
          "color": "#00cc96",
          "size": [
           533978
          ],
          "sizemode": "area",
          "sizeref": 1710189.4175,
          "symbol": "circle"
         },
         "mode": "markers",
         "name": "Orion Pictures",
         "orientation": "v",
         "showlegend": true,
         "type": "scatter",
         "x": [
          "2023-08-01T00:00:00"
         ],
         "xaxis": "x",
         "y": [
          533978
         ],
         "yaxis": "y"
        },
        {
         "hovertemplate": "Distributor=Atlas Distribution Company<br>Release Date=%{x}<br>Total Gross=%{marker.size}<extra></extra>",
         "legendgroup": "Atlas Distribution Company",
         "marker": {
          "color": "#ab63fa",
          "size": [
           412550
          ],
          "sizemode": "area",
          "sizeref": 1710189.4175,
          "symbol": "circle"
         },
         "mode": "markers",
         "name": "Atlas Distribution Company",
         "orientation": "v",
         "showlegend": true,
         "type": "scatter",
         "x": [
          "2023-07-01T00:00:00"
         ],
         "xaxis": "x",
         "y": [
          412550
         ],
         "yaxis": "y"
        },
        {
         "hovertemplate": "Distributor=Blue Fox Entertainment<br>Release Date=%{x}<br>Total Gross=%{marker.size}<extra></extra>",
         "legendgroup": "Blue Fox Entertainment",
         "marker": {
          "color": "#FFA15A",
          "size": [
           379890,
           288414
          ],
          "sizemode": "area",
          "sizeref": 1710189.4175,
          "symbol": "circle"
         },
         "mode": "markers",
         "name": "Blue Fox Entertainment",
         "orientation": "v",
         "showlegend": true,
         "type": "scatter",
         "x": [
          "2023-06-01T00:00:00",
          "2023-03-01T00:00:00"
         ],
         "xaxis": "x",
         "y": [
          379890,
          288414
         ],
         "yaxis": "y"
        },
        {
         "hovertemplate": "Distributor=Oscilloscope<br>Release Date=%{x}<br>Total Gross=%{marker.size}<extra></extra>",
         "legendgroup": "Oscilloscope",
         "marker": {
          "color": "#19d3f3",
          "size": [
           327584,
           302550
          ],
          "sizemode": "area",
          "sizeref": 1710189.4175,
          "symbol": "circle"
         },
         "mode": "markers",
         "name": "Oscilloscope",
         "orientation": "v",
         "showlegend": true,
         "type": "scatter",
         "x": [
          "2023-08-01T00:00:00",
          "2023-04-01T00:00:00"
         ],
         "xaxis": "x",
         "y": [
          327584,
          302550
         ],
         "yaxis": "y"
        },
        {
         "hovertemplate": "Distributor=Purdie Distribution<br>Release Date=%{x}<br>Total Gross=%{marker.size}<extra></extra>",
         "legendgroup": "Purdie Distribution",
         "marker": {
          "color": "#FF6692",
          "size": [
           340017
          ],
          "sizemode": "area",
          "sizeref": 1710189.4175,
          "symbol": "circle"
         },
         "mode": "markers",
         "name": "Purdie Distribution",
         "orientation": "v",
         "showlegend": true,
         "type": "scatter",
         "x": [
          "2023-07-01T00:00:00"
         ],
         "xaxis": "x",
         "y": [
          340017
         ],
         "yaxis": "y"
        },
        {
         "hovertemplate": "Distributor=Picturehouse<br>Release Date=%{x}<br>Total Gross=%{marker.size}<extra></extra>",
         "legendgroup": "Picturehouse",
         "marker": {
          "color": "#B6E880",
          "size": [
           326184
          ],
          "sizemode": "area",
          "sizeref": 1710189.4175,
          "symbol": "circle"
         },
         "mode": "markers",
         "name": "Picturehouse",
         "orientation": "v",
         "showlegend": true,
         "type": "scatter",
         "x": [
          "2023-04-01T00:00:00"
         ],
         "xaxis": "x",
         "y": [
          326184
         ],
         "yaxis": "y"
        },
        {
         "hovertemplate": "Distributor=MUBI<br>Release Date=%{x}<br>Total Gross=%{marker.size}<extra></extra>",
         "legendgroup": "MUBI",
         "marker": {
          "color": "#FF97FF",
          "size": [
           415827
          ],
          "sizemode": "area",
          "sizeref": 1710189.4175,
          "symbol": "circle"
         },
         "mode": "markers",
         "name": "MUBI",
         "orientation": "v",
         "showlegend": true,
         "type": "scatter",
         "x": [
          "2023-08-01T00:00:00"
         ],
         "xaxis": "x",
         "y": [
          415827
         ],
         "yaxis": "y"
        },
        {
         "hovertemplate": "Distributor=Variance Films<br>Release Date=%{x}<br>Total Gross=%{marker.size}<extra></extra>",
         "legendgroup": "Variance Films",
         "marker": {
          "color": "#FECB52",
          "size": [
           302456,
           256566
          ],
          "sizemode": "area",
          "sizeref": 1710189.4175,
          "symbol": "circle"
         },
         "mode": "markers",
         "name": "Variance Films",
         "orientation": "v",
         "showlegend": true,
         "type": "scatter",
         "x": [
          "2023-04-01T00:00:00",
          "2023-03-01T00:00:00"
         ],
         "xaxis": "x",
         "y": [
          302456,
          256566
         ],
         "yaxis": "y"
        },
        {
         "hovertemplate": "Distributor=Kino Lorber<br>Release Date=%{x}<br>Total Gross=%{marker.size}<extra></extra>",
         "legendgroup": "Kino Lorber",
         "marker": {
          "color": "#636efa",
          "size": [
           180135
          ],
          "sizemode": "area",
          "sizeref": 1710189.4175,
          "symbol": "circle"
         },
         "mode": "markers",
         "name": "Kino Lorber",
         "orientation": "v",
         "showlegend": true,
         "type": "scatter",
         "x": [
          "2023-01-01T00:00:00"
         ],
         "xaxis": "x",
         "y": [
          180135
         ],
         "yaxis": "y"
        },
        {
         "hovertemplate": "Distributor=Rialto Pictures<br>Release Date=%{x}<br>Total Gross=%{marker.size}<extra></extra>",
         "legendgroup": "Rialto Pictures",
         "marker": {
          "color": "#EF553B",
          "size": [
           173816
          ],
          "sizemode": "area",
          "sizeref": 1710189.4175,
          "symbol": "circle"
         },
         "mode": "markers",
         "name": "Rialto Pictures",
         "orientation": "v",
         "showlegend": true,
         "type": "scatter",
         "x": [
          "2023-06-01T00:00:00"
         ],
         "xaxis": "x",
         "y": [
          173816
         ],
         "yaxis": "y"
        },
        {
         "hovertemplate": "Distributor=Quiver Distribution<br>Release Date=%{x}<br>Total Gross=%{marker.size}<extra></extra>",
         "legendgroup": "Quiver Distribution",
         "marker": {
          "color": "#00cc96",
          "size": [
           168109
          ],
          "sizemode": "area",
          "sizeref": 1710189.4175,
          "symbol": "circle"
         },
         "mode": "markers",
         "name": "Quiver Distribution",
         "orientation": "v",
         "showlegend": true,
         "type": "scatter",
         "x": [
          "2023-05-01T00:00:00"
         ],
         "xaxis": "x",
         "y": [
          168109
         ],
         "yaxis": "y"
        }
       ],
       "layout": {
        "legend": {
         "itemsizing": "constant",
         "title": {
          "text": "Distributor"
         },
         "tracegroupgap": 0
        },
        "template": {
         "data": {
          "bar": [
           {
            "error_x": {
             "color": "#2a3f5f"
            },
            "error_y": {
             "color": "#2a3f5f"
            },
            "marker": {
             "line": {
              "color": "#E5ECF6",
              "width": 0.5
             },
             "pattern": {
              "fillmode": "overlay",
              "size": 10,
              "solidity": 0.2
             }
            },
            "type": "bar"
           }
          ],
          "barpolar": [
           {
            "marker": {
             "line": {
              "color": "#E5ECF6",
              "width": 0.5
             },
             "pattern": {
              "fillmode": "overlay",
              "size": 10,
              "solidity": 0.2
             }
            },
            "type": "barpolar"
           }
          ],
          "carpet": [
           {
            "aaxis": {
             "endlinecolor": "#2a3f5f",
             "gridcolor": "white",
             "linecolor": "white",
             "minorgridcolor": "white",
             "startlinecolor": "#2a3f5f"
            },
            "baxis": {
             "endlinecolor": "#2a3f5f",
             "gridcolor": "white",
             "linecolor": "white",
             "minorgridcolor": "white",
             "startlinecolor": "#2a3f5f"
            },
            "type": "carpet"
           }
          ],
          "choropleth": [
           {
            "colorbar": {
             "outlinewidth": 0,
             "ticks": ""
            },
            "type": "choropleth"
           }
          ],
          "contour": [
           {
            "colorbar": {
             "outlinewidth": 0,
             "ticks": ""
            },
            "colorscale": [
             [
              0,
              "#0d0887"
             ],
             [
              0.1111111111111111,
              "#46039f"
             ],
             [
              0.2222222222222222,
              "#7201a8"
             ],
             [
              0.3333333333333333,
              "#9c179e"
             ],
             [
              0.4444444444444444,
              "#bd3786"
             ],
             [
              0.5555555555555556,
              "#d8576b"
             ],
             [
              0.6666666666666666,
              "#ed7953"
             ],
             [
              0.7777777777777778,
              "#fb9f3a"
             ],
             [
              0.8888888888888888,
              "#fdca26"
             ],
             [
              1,
              "#f0f921"
             ]
            ],
            "type": "contour"
           }
          ],
          "contourcarpet": [
           {
            "colorbar": {
             "outlinewidth": 0,
             "ticks": ""
            },
            "type": "contourcarpet"
           }
          ],
          "heatmap": [
           {
            "colorbar": {
             "outlinewidth": 0,
             "ticks": ""
            },
            "colorscale": [
             [
              0,
              "#0d0887"
             ],
             [
              0.1111111111111111,
              "#46039f"
             ],
             [
              0.2222222222222222,
              "#7201a8"
             ],
             [
              0.3333333333333333,
              "#9c179e"
             ],
             [
              0.4444444444444444,
              "#bd3786"
             ],
             [
              0.5555555555555556,
              "#d8576b"
             ],
             [
              0.6666666666666666,
              "#ed7953"
             ],
             [
              0.7777777777777778,
              "#fb9f3a"
             ],
             [
              0.8888888888888888,
              "#fdca26"
             ],
             [
              1,
              "#f0f921"
             ]
            ],
            "type": "heatmap"
           }
          ],
          "heatmapgl": [
           {
            "colorbar": {
             "outlinewidth": 0,
             "ticks": ""
            },
            "colorscale": [
             [
              0,
              "#0d0887"
             ],
             [
              0.1111111111111111,
              "#46039f"
             ],
             [
              0.2222222222222222,
              "#7201a8"
             ],
             [
              0.3333333333333333,
              "#9c179e"
             ],
             [
              0.4444444444444444,
              "#bd3786"
             ],
             [
              0.5555555555555556,
              "#d8576b"
             ],
             [
              0.6666666666666666,
              "#ed7953"
             ],
             [
              0.7777777777777778,
              "#fb9f3a"
             ],
             [
              0.8888888888888888,
              "#fdca26"
             ],
             [
              1,
              "#f0f921"
             ]
            ],
            "type": "heatmapgl"
           }
          ],
          "histogram": [
           {
            "marker": {
             "pattern": {
              "fillmode": "overlay",
              "size": 10,
              "solidity": 0.2
             }
            },
            "type": "histogram"
           }
          ],
          "histogram2d": [
           {
            "colorbar": {
             "outlinewidth": 0,
             "ticks": ""
            },
            "colorscale": [
             [
              0,
              "#0d0887"
             ],
             [
              0.1111111111111111,
              "#46039f"
             ],
             [
              0.2222222222222222,
              "#7201a8"
             ],
             [
              0.3333333333333333,
              "#9c179e"
             ],
             [
              0.4444444444444444,
              "#bd3786"
             ],
             [
              0.5555555555555556,
              "#d8576b"
             ],
             [
              0.6666666666666666,
              "#ed7953"
             ],
             [
              0.7777777777777778,
              "#fb9f3a"
             ],
             [
              0.8888888888888888,
              "#fdca26"
             ],
             [
              1,
              "#f0f921"
             ]
            ],
            "type": "histogram2d"
           }
          ],
          "histogram2dcontour": [
           {
            "colorbar": {
             "outlinewidth": 0,
             "ticks": ""
            },
            "colorscale": [
             [
              0,
              "#0d0887"
             ],
             [
              0.1111111111111111,
              "#46039f"
             ],
             [
              0.2222222222222222,
              "#7201a8"
             ],
             [
              0.3333333333333333,
              "#9c179e"
             ],
             [
              0.4444444444444444,
              "#bd3786"
             ],
             [
              0.5555555555555556,
              "#d8576b"
             ],
             [
              0.6666666666666666,
              "#ed7953"
             ],
             [
              0.7777777777777778,
              "#fb9f3a"
             ],
             [
              0.8888888888888888,
              "#fdca26"
             ],
             [
              1,
              "#f0f921"
             ]
            ],
            "type": "histogram2dcontour"
           }
          ],
          "mesh3d": [
           {
            "colorbar": {
             "outlinewidth": 0,
             "ticks": ""
            },
            "type": "mesh3d"
           }
          ],
          "parcoords": [
           {
            "line": {
             "colorbar": {
              "outlinewidth": 0,
              "ticks": ""
             }
            },
            "type": "parcoords"
           }
          ],
          "pie": [
           {
            "automargin": true,
            "type": "pie"
           }
          ],
          "scatter": [
           {
            "fillpattern": {
             "fillmode": "overlay",
             "size": 10,
             "solidity": 0.2
            },
            "type": "scatter"
           }
          ],
          "scatter3d": [
           {
            "line": {
             "colorbar": {
              "outlinewidth": 0,
              "ticks": ""
             }
            },
            "marker": {
             "colorbar": {
              "outlinewidth": 0,
              "ticks": ""
             }
            },
            "type": "scatter3d"
           }
          ],
          "scattercarpet": [
           {
            "marker": {
             "colorbar": {
              "outlinewidth": 0,
              "ticks": ""
             }
            },
            "type": "scattercarpet"
           }
          ],
          "scattergeo": [
           {
            "marker": {
             "colorbar": {
              "outlinewidth": 0,
              "ticks": ""
             }
            },
            "type": "scattergeo"
           }
          ],
          "scattergl": [
           {
            "marker": {
             "colorbar": {
              "outlinewidth": 0,
              "ticks": ""
             }
            },
            "type": "scattergl"
           }
          ],
          "scattermapbox": [
           {
            "marker": {
             "colorbar": {
              "outlinewidth": 0,
              "ticks": ""
             }
            },
            "type": "scattermapbox"
           }
          ],
          "scatterpolar": [
           {
            "marker": {
             "colorbar": {
              "outlinewidth": 0,
              "ticks": ""
             }
            },
            "type": "scatterpolar"
           }
          ],
          "scatterpolargl": [
           {
            "marker": {
             "colorbar": {
              "outlinewidth": 0,
              "ticks": ""
             }
            },
            "type": "scatterpolargl"
           }
          ],
          "scatterternary": [
           {
            "marker": {
             "colorbar": {
              "outlinewidth": 0,
              "ticks": ""
             }
            },
            "type": "scatterternary"
           }
          ],
          "surface": [
           {
            "colorbar": {
             "outlinewidth": 0,
             "ticks": ""
            },
            "colorscale": [
             [
              0,
              "#0d0887"
             ],
             [
              0.1111111111111111,
              "#46039f"
             ],
             [
              0.2222222222222222,
              "#7201a8"
             ],
             [
              0.3333333333333333,
              "#9c179e"
             ],
             [
              0.4444444444444444,
              "#bd3786"
             ],
             [
              0.5555555555555556,
              "#d8576b"
             ],
             [
              0.6666666666666666,
              "#ed7953"
             ],
             [
              0.7777777777777778,
              "#fb9f3a"
             ],
             [
              0.8888888888888888,
              "#fdca26"
             ],
             [
              1,
              "#f0f921"
             ]
            ],
            "type": "surface"
           }
          ],
          "table": [
           {
            "cells": {
             "fill": {
              "color": "#EBF0F8"
             },
             "line": {
              "color": "white"
             }
            },
            "header": {
             "fill": {
              "color": "#C8D4E3"
             },
             "line": {
              "color": "white"
             }
            },
            "type": "table"
           }
          ]
         },
         "layout": {
          "annotationdefaults": {
           "arrowcolor": "#2a3f5f",
           "arrowhead": 0,
           "arrowwidth": 1
          },
          "autotypenumbers": "strict",
          "coloraxis": {
           "colorbar": {
            "outlinewidth": 0,
            "ticks": ""
           }
          },
          "colorscale": {
           "diverging": [
            [
             0,
             "#8e0152"
            ],
            [
             0.1,
             "#c51b7d"
            ],
            [
             0.2,
             "#de77ae"
            ],
            [
             0.3,
             "#f1b6da"
            ],
            [
             0.4,
             "#fde0ef"
            ],
            [
             0.5,
             "#f7f7f7"
            ],
            [
             0.6,
             "#e6f5d0"
            ],
            [
             0.7,
             "#b8e186"
            ],
            [
             0.8,
             "#7fbc41"
            ],
            [
             0.9,
             "#4d9221"
            ],
            [
             1,
             "#276419"
            ]
           ],
           "sequential": [
            [
             0,
             "#0d0887"
            ],
            [
             0.1111111111111111,
             "#46039f"
            ],
            [
             0.2222222222222222,
             "#7201a8"
            ],
            [
             0.3333333333333333,
             "#9c179e"
            ],
            [
             0.4444444444444444,
             "#bd3786"
            ],
            [
             0.5555555555555556,
             "#d8576b"
            ],
            [
             0.6666666666666666,
             "#ed7953"
            ],
            [
             0.7777777777777778,
             "#fb9f3a"
            ],
            [
             0.8888888888888888,
             "#fdca26"
            ],
            [
             1,
             "#f0f921"
            ]
           ],
           "sequentialminus": [
            [
             0,
             "#0d0887"
            ],
            [
             0.1111111111111111,
             "#46039f"
            ],
            [
             0.2222222222222222,
             "#7201a8"
            ],
            [
             0.3333333333333333,
             "#9c179e"
            ],
            [
             0.4444444444444444,
             "#bd3786"
            ],
            [
             0.5555555555555556,
             "#d8576b"
            ],
            [
             0.6666666666666666,
             "#ed7953"
            ],
            [
             0.7777777777777778,
             "#fb9f3a"
            ],
            [
             0.8888888888888888,
             "#fdca26"
            ],
            [
             1,
             "#f0f921"
            ]
           ]
          },
          "colorway": [
           "#636efa",
           "#EF553B",
           "#00cc96",
           "#ab63fa",
           "#FFA15A",
           "#19d3f3",
           "#FF6692",
           "#B6E880",
           "#FF97FF",
           "#FECB52"
          ],
          "font": {
           "color": "#2a3f5f"
          },
          "geo": {
           "bgcolor": "white",
           "lakecolor": "white",
           "landcolor": "#E5ECF6",
           "showlakes": true,
           "showland": true,
           "subunitcolor": "white"
          },
          "hoverlabel": {
           "align": "left"
          },
          "hovermode": "closest",
          "mapbox": {
           "style": "light"
          },
          "paper_bgcolor": "white",
          "plot_bgcolor": "#E5ECF6",
          "polar": {
           "angularaxis": {
            "gridcolor": "white",
            "linecolor": "white",
            "ticks": ""
           },
           "bgcolor": "#E5ECF6",
           "radialaxis": {
            "gridcolor": "white",
            "linecolor": "white",
            "ticks": ""
           }
          },
          "scene": {
           "xaxis": {
            "backgroundcolor": "#E5ECF6",
            "gridcolor": "white",
            "gridwidth": 2,
            "linecolor": "white",
            "showbackground": true,
            "ticks": "",
            "zerolinecolor": "white"
           },
           "yaxis": {
            "backgroundcolor": "#E5ECF6",
            "gridcolor": "white",
            "gridwidth": 2,
            "linecolor": "white",
            "showbackground": true,
            "ticks": "",
            "zerolinecolor": "white"
           },
           "zaxis": {
            "backgroundcolor": "#E5ECF6",
            "gridcolor": "white",
            "gridwidth": 2,
            "linecolor": "white",
            "showbackground": true,
            "ticks": "",
            "zerolinecolor": "white"
           }
          },
          "shapedefaults": {
           "line": {
            "color": "#2a3f5f"
           }
          },
          "ternary": {
           "aaxis": {
            "gridcolor": "white",
            "linecolor": "white",
            "ticks": ""
           },
           "baxis": {
            "gridcolor": "white",
            "linecolor": "white",
            "ticks": ""
           },
           "bgcolor": "#E5ECF6",
           "caxis": {
            "gridcolor": "white",
            "linecolor": "white",
            "ticks": ""
           }
          },
          "title": {
           "x": 0.05
          },
          "xaxis": {
           "automargin": true,
           "gridcolor": "white",
           "linecolor": "white",
           "ticks": "",
           "title": {
            "standoff": 15
           },
           "zerolinecolor": "white",
           "zerolinewidth": 2
          },
          "yaxis": {
           "automargin": true,
           "gridcolor": "white",
           "linecolor": "white",
           "ticks": "",
           "title": {
            "standoff": 15
           },
           "zerolinecolor": "white",
           "zerolinewidth": 2
          }
         }
        },
        "title": {
         "text": "Total Revenue by Release Month",
         "x": 0.5
        },
        "xaxis": {
         "anchor": "y",
         "domain": [
          0,
          1
         ],
         "title": {
          "text": "Release Date"
         }
        },
        "yaxis": {
         "anchor": "x",
         "domain": [
          0,
          1
         ],
         "title": {
          "text": "Total Gross"
         }
        }
       }
      }
     },
     "metadata": {},
     "output_type": "display_data"
    }
   ],
   "source": [
    "fig = px.scatter(data_frame=multivar , x='release date' , y='total gross' , color='distributor' , size='total gross'  ,title='Total Revenue by Release Month',\n",
    "labels={'release date' : 'Release Date' , 'distributor' : 'Distributor' , 'total gross' : 'Total Gross'})\n",
    "\n",
    "fig.update_layout(title_x=0.5)\n",
    "fig.show()"
   ]
  },
  {
   "cell_type": "markdown",
   "metadata": {},
   "source": [
    "# Chart 6: Number of Movies by Release Month"
   ]
  },
  {
   "cell_type": "code",
   "execution_count": 29,
   "metadata": {},
   "outputs": [],
   "source": [
    "from collections import Counter"
   ]
  },
  {
   "cell_type": "code",
   "execution_count": 30,
   "metadata": {},
   "outputs": [
    {
     "data": {
      "text/html": [
       "<div>\n",
       "<style scoped>\n",
       "    .dataframe tbody tr th:only-of-type {\n",
       "        vertical-align: middle;\n",
       "    }\n",
       "\n",
       "    .dataframe tbody tr th {\n",
       "        vertical-align: top;\n",
       "    }\n",
       "\n",
       "    .dataframe thead th {\n",
       "        text-align: right;\n",
       "    }\n",
       "</style>\n",
       "<table border=\"1\" class=\"dataframe\">\n",
       "  <thead>\n",
       "    <tr style=\"text-align: right;\">\n",
       "      <th></th>\n",
       "      <th>title</th>\n",
       "    </tr>\n",
       "    <tr>\n",
       "      <th>release date</th>\n",
       "      <th></th>\n",
       "    </tr>\n",
       "  </thead>\n",
       "  <tbody>\n",
       "    <tr>\n",
       "      <th>2023-07-21</th>\n",
       "      <td>Barbie</td>\n",
       "    </tr>\n",
       "    <tr>\n",
       "      <th>2023-04-05</th>\n",
       "      <td>The Super Mario Bros. Movie</td>\n",
       "    </tr>\n",
       "    <tr>\n",
       "      <th>2023-06-02</th>\n",
       "      <td>Spider-Man: Across the Spider-Verse</td>\n",
       "    </tr>\n",
       "    <tr>\n",
       "      <th>2023-05-05</th>\n",
       "      <td>Guardians of the Galaxy Vol. 3</td>\n",
       "    </tr>\n",
       "    <tr>\n",
       "      <th>2023-07-21</th>\n",
       "      <td>Oppenheimer</td>\n",
       "    </tr>\n",
       "  </tbody>\n",
       "</table>\n",
       "</div>"
      ],
      "text/plain": [
       "                                            title\n",
       "release date                                     \n",
       "2023-07-21                                 Barbie\n",
       "2023-04-05            The Super Mario Bros. Movie\n",
       "2023-06-02    Spider-Man: Across the Spider-Verse\n",
       "2023-05-05         Guardians of the Galaxy Vol. 3\n",
       "2023-07-21                            Oppenheimer"
      ]
     },
     "execution_count": 30,
     "metadata": {},
     "output_type": "execute_result"
    }
   ],
   "source": [
    "bivar = df[[ 'release date','title']]\n",
    "bivar = bivar.set_index('release date')\n",
    "bivar.head()"
   ]
  },
  {
   "cell_type": "code",
   "execution_count": 31,
   "metadata": {},
   "outputs": [],
   "source": [
    "df['release date'] = pd.to_datetime(df['release date'])\n",
    "df.set_index('release date', inplace=True)"
   ]
  },
  {
   "cell_type": "code",
   "execution_count": 32,
   "metadata": {},
   "outputs": [
    {
     "data": {
      "text/plain": [
       "release date\n",
       "2023-01-31    22\n",
       "2023-02-28    23\n",
       "2023-03-31    26\n",
       "2023-04-30    29\n",
       "2023-05-31    22\n",
       "Freq: M, Name: title, dtype: int64"
      ]
     },
     "execution_count": 32,
     "metadata": {},
     "output_type": "execute_result"
    }
   ],
   "source": [
    "bivar = df['title'].resample(rule='1M').nunique()\n",
    "bivar.head()"
   ]
  },
  {
   "cell_type": "code",
   "execution_count": 33,
   "metadata": {},
   "outputs": [
    {
     "name": "stderr",
     "output_type": "stream",
     "text": [
      "c:\\Users\\pc\\AppData\\Local\\Programs\\Python\\Python311\\Lib\\site-packages\\_plotly_utils\\basevalidators.py:105: FutureWarning:\n",
      "\n",
      "The behavior of DatetimeProperties.to_pydatetime is deprecated, in a future version this will return a Series containing python datetime objects instead of an ndarray. To retain the old behavior, call `np.array` on the result\n",
      "\n"
     ]
    },
    {
     "data": {
      "application/vnd.plotly.v1+json": {
       "config": {
        "plotlyServerURL": "https://plot.ly"
       },
       "data": [
        {
         "alignmentgroup": "True",
         "hovertemplate": "variable=title<br>release date=%{x}<br>value=%{y}<extra></extra>",
         "legendgroup": "title",
         "marker": {
          "color": "#636efa",
          "pattern": {
           "shape": ""
          }
         },
         "name": "title",
         "offsetgroup": "title",
         "orientation": "v",
         "showlegend": true,
         "textposition": "auto",
         "type": "bar",
         "x": [
          "2023-01-31T00:00:00",
          "2023-02-28T00:00:00",
          "2023-03-31T00:00:00",
          "2023-04-30T00:00:00",
          "2023-05-31T00:00:00",
          "2023-06-30T00:00:00",
          "2023-07-31T00:00:00",
          "2023-08-31T00:00:00",
          "2023-09-30T00:00:00",
          "2023-10-31T00:00:00",
          "2023-11-30T00:00:00",
          "2023-12-31T00:00:00"
         ],
         "xaxis": "x",
         "y": [
          22,
          23,
          26,
          29,
          22,
          15,
          19,
          18,
          0,
          5,
          7,
          13
         ],
         "yaxis": "y"
        }
       ],
       "layout": {
        "barmode": "relative",
        "legend": {
         "title": {
          "text": "variable"
         },
         "tracegroupgap": 0
        },
        "margin": {
         "t": 60
        },
        "template": {
         "data": {
          "bar": [
           {
            "error_x": {
             "color": "#2a3f5f"
            },
            "error_y": {
             "color": "#2a3f5f"
            },
            "marker": {
             "line": {
              "color": "#E5ECF6",
              "width": 0.5
             },
             "pattern": {
              "fillmode": "overlay",
              "size": 10,
              "solidity": 0.2
             }
            },
            "type": "bar"
           }
          ],
          "barpolar": [
           {
            "marker": {
             "line": {
              "color": "#E5ECF6",
              "width": 0.5
             },
             "pattern": {
              "fillmode": "overlay",
              "size": 10,
              "solidity": 0.2
             }
            },
            "type": "barpolar"
           }
          ],
          "carpet": [
           {
            "aaxis": {
             "endlinecolor": "#2a3f5f",
             "gridcolor": "white",
             "linecolor": "white",
             "minorgridcolor": "white",
             "startlinecolor": "#2a3f5f"
            },
            "baxis": {
             "endlinecolor": "#2a3f5f",
             "gridcolor": "white",
             "linecolor": "white",
             "minorgridcolor": "white",
             "startlinecolor": "#2a3f5f"
            },
            "type": "carpet"
           }
          ],
          "choropleth": [
           {
            "colorbar": {
             "outlinewidth": 0,
             "ticks": ""
            },
            "type": "choropleth"
           }
          ],
          "contour": [
           {
            "colorbar": {
             "outlinewidth": 0,
             "ticks": ""
            },
            "colorscale": [
             [
              0,
              "#0d0887"
             ],
             [
              0.1111111111111111,
              "#46039f"
             ],
             [
              0.2222222222222222,
              "#7201a8"
             ],
             [
              0.3333333333333333,
              "#9c179e"
             ],
             [
              0.4444444444444444,
              "#bd3786"
             ],
             [
              0.5555555555555556,
              "#d8576b"
             ],
             [
              0.6666666666666666,
              "#ed7953"
             ],
             [
              0.7777777777777778,
              "#fb9f3a"
             ],
             [
              0.8888888888888888,
              "#fdca26"
             ],
             [
              1,
              "#f0f921"
             ]
            ],
            "type": "contour"
           }
          ],
          "contourcarpet": [
           {
            "colorbar": {
             "outlinewidth": 0,
             "ticks": ""
            },
            "type": "contourcarpet"
           }
          ],
          "heatmap": [
           {
            "colorbar": {
             "outlinewidth": 0,
             "ticks": ""
            },
            "colorscale": [
             [
              0,
              "#0d0887"
             ],
             [
              0.1111111111111111,
              "#46039f"
             ],
             [
              0.2222222222222222,
              "#7201a8"
             ],
             [
              0.3333333333333333,
              "#9c179e"
             ],
             [
              0.4444444444444444,
              "#bd3786"
             ],
             [
              0.5555555555555556,
              "#d8576b"
             ],
             [
              0.6666666666666666,
              "#ed7953"
             ],
             [
              0.7777777777777778,
              "#fb9f3a"
             ],
             [
              0.8888888888888888,
              "#fdca26"
             ],
             [
              1,
              "#f0f921"
             ]
            ],
            "type": "heatmap"
           }
          ],
          "heatmapgl": [
           {
            "colorbar": {
             "outlinewidth": 0,
             "ticks": ""
            },
            "colorscale": [
             [
              0,
              "#0d0887"
             ],
             [
              0.1111111111111111,
              "#46039f"
             ],
             [
              0.2222222222222222,
              "#7201a8"
             ],
             [
              0.3333333333333333,
              "#9c179e"
             ],
             [
              0.4444444444444444,
              "#bd3786"
             ],
             [
              0.5555555555555556,
              "#d8576b"
             ],
             [
              0.6666666666666666,
              "#ed7953"
             ],
             [
              0.7777777777777778,
              "#fb9f3a"
             ],
             [
              0.8888888888888888,
              "#fdca26"
             ],
             [
              1,
              "#f0f921"
             ]
            ],
            "type": "heatmapgl"
           }
          ],
          "histogram": [
           {
            "marker": {
             "pattern": {
              "fillmode": "overlay",
              "size": 10,
              "solidity": 0.2
             }
            },
            "type": "histogram"
           }
          ],
          "histogram2d": [
           {
            "colorbar": {
             "outlinewidth": 0,
             "ticks": ""
            },
            "colorscale": [
             [
              0,
              "#0d0887"
             ],
             [
              0.1111111111111111,
              "#46039f"
             ],
             [
              0.2222222222222222,
              "#7201a8"
             ],
             [
              0.3333333333333333,
              "#9c179e"
             ],
             [
              0.4444444444444444,
              "#bd3786"
             ],
             [
              0.5555555555555556,
              "#d8576b"
             ],
             [
              0.6666666666666666,
              "#ed7953"
             ],
             [
              0.7777777777777778,
              "#fb9f3a"
             ],
             [
              0.8888888888888888,
              "#fdca26"
             ],
             [
              1,
              "#f0f921"
             ]
            ],
            "type": "histogram2d"
           }
          ],
          "histogram2dcontour": [
           {
            "colorbar": {
             "outlinewidth": 0,
             "ticks": ""
            },
            "colorscale": [
             [
              0,
              "#0d0887"
             ],
             [
              0.1111111111111111,
              "#46039f"
             ],
             [
              0.2222222222222222,
              "#7201a8"
             ],
             [
              0.3333333333333333,
              "#9c179e"
             ],
             [
              0.4444444444444444,
              "#bd3786"
             ],
             [
              0.5555555555555556,
              "#d8576b"
             ],
             [
              0.6666666666666666,
              "#ed7953"
             ],
             [
              0.7777777777777778,
              "#fb9f3a"
             ],
             [
              0.8888888888888888,
              "#fdca26"
             ],
             [
              1,
              "#f0f921"
             ]
            ],
            "type": "histogram2dcontour"
           }
          ],
          "mesh3d": [
           {
            "colorbar": {
             "outlinewidth": 0,
             "ticks": ""
            },
            "type": "mesh3d"
           }
          ],
          "parcoords": [
           {
            "line": {
             "colorbar": {
              "outlinewidth": 0,
              "ticks": ""
             }
            },
            "type": "parcoords"
           }
          ],
          "pie": [
           {
            "automargin": true,
            "type": "pie"
           }
          ],
          "scatter": [
           {
            "fillpattern": {
             "fillmode": "overlay",
             "size": 10,
             "solidity": 0.2
            },
            "type": "scatter"
           }
          ],
          "scatter3d": [
           {
            "line": {
             "colorbar": {
              "outlinewidth": 0,
              "ticks": ""
             }
            },
            "marker": {
             "colorbar": {
              "outlinewidth": 0,
              "ticks": ""
             }
            },
            "type": "scatter3d"
           }
          ],
          "scattercarpet": [
           {
            "marker": {
             "colorbar": {
              "outlinewidth": 0,
              "ticks": ""
             }
            },
            "type": "scattercarpet"
           }
          ],
          "scattergeo": [
           {
            "marker": {
             "colorbar": {
              "outlinewidth": 0,
              "ticks": ""
             }
            },
            "type": "scattergeo"
           }
          ],
          "scattergl": [
           {
            "marker": {
             "colorbar": {
              "outlinewidth": 0,
              "ticks": ""
             }
            },
            "type": "scattergl"
           }
          ],
          "scattermapbox": [
           {
            "marker": {
             "colorbar": {
              "outlinewidth": 0,
              "ticks": ""
             }
            },
            "type": "scattermapbox"
           }
          ],
          "scatterpolar": [
           {
            "marker": {
             "colorbar": {
              "outlinewidth": 0,
              "ticks": ""
             }
            },
            "type": "scatterpolar"
           }
          ],
          "scatterpolargl": [
           {
            "marker": {
             "colorbar": {
              "outlinewidth": 0,
              "ticks": ""
             }
            },
            "type": "scatterpolargl"
           }
          ],
          "scatterternary": [
           {
            "marker": {
             "colorbar": {
              "outlinewidth": 0,
              "ticks": ""
             }
            },
            "type": "scatterternary"
           }
          ],
          "surface": [
           {
            "colorbar": {
             "outlinewidth": 0,
             "ticks": ""
            },
            "colorscale": [
             [
              0,
              "#0d0887"
             ],
             [
              0.1111111111111111,
              "#46039f"
             ],
             [
              0.2222222222222222,
              "#7201a8"
             ],
             [
              0.3333333333333333,
              "#9c179e"
             ],
             [
              0.4444444444444444,
              "#bd3786"
             ],
             [
              0.5555555555555556,
              "#d8576b"
             ],
             [
              0.6666666666666666,
              "#ed7953"
             ],
             [
              0.7777777777777778,
              "#fb9f3a"
             ],
             [
              0.8888888888888888,
              "#fdca26"
             ],
             [
              1,
              "#f0f921"
             ]
            ],
            "type": "surface"
           }
          ],
          "table": [
           {
            "cells": {
             "fill": {
              "color": "#EBF0F8"
             },
             "line": {
              "color": "white"
             }
            },
            "header": {
             "fill": {
              "color": "#C8D4E3"
             },
             "line": {
              "color": "white"
             }
            },
            "type": "table"
           }
          ]
         },
         "layout": {
          "annotationdefaults": {
           "arrowcolor": "#2a3f5f",
           "arrowhead": 0,
           "arrowwidth": 1
          },
          "autotypenumbers": "strict",
          "coloraxis": {
           "colorbar": {
            "outlinewidth": 0,
            "ticks": ""
           }
          },
          "colorscale": {
           "diverging": [
            [
             0,
             "#8e0152"
            ],
            [
             0.1,
             "#c51b7d"
            ],
            [
             0.2,
             "#de77ae"
            ],
            [
             0.3,
             "#f1b6da"
            ],
            [
             0.4,
             "#fde0ef"
            ],
            [
             0.5,
             "#f7f7f7"
            ],
            [
             0.6,
             "#e6f5d0"
            ],
            [
             0.7,
             "#b8e186"
            ],
            [
             0.8,
             "#7fbc41"
            ],
            [
             0.9,
             "#4d9221"
            ],
            [
             1,
             "#276419"
            ]
           ],
           "sequential": [
            [
             0,
             "#0d0887"
            ],
            [
             0.1111111111111111,
             "#46039f"
            ],
            [
             0.2222222222222222,
             "#7201a8"
            ],
            [
             0.3333333333333333,
             "#9c179e"
            ],
            [
             0.4444444444444444,
             "#bd3786"
            ],
            [
             0.5555555555555556,
             "#d8576b"
            ],
            [
             0.6666666666666666,
             "#ed7953"
            ],
            [
             0.7777777777777778,
             "#fb9f3a"
            ],
            [
             0.8888888888888888,
             "#fdca26"
            ],
            [
             1,
             "#f0f921"
            ]
           ],
           "sequentialminus": [
            [
             0,
             "#0d0887"
            ],
            [
             0.1111111111111111,
             "#46039f"
            ],
            [
             0.2222222222222222,
             "#7201a8"
            ],
            [
             0.3333333333333333,
             "#9c179e"
            ],
            [
             0.4444444444444444,
             "#bd3786"
            ],
            [
             0.5555555555555556,
             "#d8576b"
            ],
            [
             0.6666666666666666,
             "#ed7953"
            ],
            [
             0.7777777777777778,
             "#fb9f3a"
            ],
            [
             0.8888888888888888,
             "#fdca26"
            ],
            [
             1,
             "#f0f921"
            ]
           ]
          },
          "colorway": [
           "#636efa",
           "#EF553B",
           "#00cc96",
           "#ab63fa",
           "#FFA15A",
           "#19d3f3",
           "#FF6692",
           "#B6E880",
           "#FF97FF",
           "#FECB52"
          ],
          "font": {
           "color": "#2a3f5f"
          },
          "geo": {
           "bgcolor": "white",
           "lakecolor": "white",
           "landcolor": "#E5ECF6",
           "showlakes": true,
           "showland": true,
           "subunitcolor": "white"
          },
          "hoverlabel": {
           "align": "left"
          },
          "hovermode": "closest",
          "mapbox": {
           "style": "light"
          },
          "paper_bgcolor": "white",
          "plot_bgcolor": "#E5ECF6",
          "polar": {
           "angularaxis": {
            "gridcolor": "white",
            "linecolor": "white",
            "ticks": ""
           },
           "bgcolor": "#E5ECF6",
           "radialaxis": {
            "gridcolor": "white",
            "linecolor": "white",
            "ticks": ""
           }
          },
          "scene": {
           "xaxis": {
            "backgroundcolor": "#E5ECF6",
            "gridcolor": "white",
            "gridwidth": 2,
            "linecolor": "white",
            "showbackground": true,
            "ticks": "",
            "zerolinecolor": "white"
           },
           "yaxis": {
            "backgroundcolor": "#E5ECF6",
            "gridcolor": "white",
            "gridwidth": 2,
            "linecolor": "white",
            "showbackground": true,
            "ticks": "",
            "zerolinecolor": "white"
           },
           "zaxis": {
            "backgroundcolor": "#E5ECF6",
            "gridcolor": "white",
            "gridwidth": 2,
            "linecolor": "white",
            "showbackground": true,
            "ticks": "",
            "zerolinecolor": "white"
           }
          },
          "shapedefaults": {
           "line": {
            "color": "#2a3f5f"
           }
          },
          "ternary": {
           "aaxis": {
            "gridcolor": "white",
            "linecolor": "white",
            "ticks": ""
           },
           "baxis": {
            "gridcolor": "white",
            "linecolor": "white",
            "ticks": ""
           },
           "bgcolor": "#E5ECF6",
           "caxis": {
            "gridcolor": "white",
            "linecolor": "white",
            "ticks": ""
           }
          },
          "title": {
           "x": 0.05
          },
          "xaxis": {
           "automargin": true,
           "gridcolor": "white",
           "linecolor": "white",
           "ticks": "",
           "title": {
            "standoff": 15
           },
           "zerolinecolor": "white",
           "zerolinewidth": 2
          },
          "yaxis": {
           "automargin": true,
           "gridcolor": "white",
           "linecolor": "white",
           "ticks": "",
           "title": {
            "standoff": 15
           },
           "zerolinecolor": "white",
           "zerolinewidth": 2
          }
         }
        },
        "xaxis": {
         "anchor": "y",
         "domain": [
          0,
          1
         ],
         "title": {
          "text": "release date"
         }
        },
        "yaxis": {
         "anchor": "x",
         "domain": [
          0,
          1
         ],
         "title": {
          "text": "value"
         }
        }
       }
      }
     },
     "metadata": {},
     "output_type": "display_data"
    }
   ],
   "source": [
    "px.bar(data_frame=bivar)"
   ]
  },
  {
   "cell_type": "code",
   "execution_count": 34,
   "metadata": {},
   "outputs": [
    {
     "name": "stderr",
     "output_type": "stream",
     "text": [
      "c:\\Users\\pc\\AppData\\Local\\Programs\\Python\\Python311\\Lib\\site-packages\\_plotly_utils\\basevalidators.py:105: FutureWarning:\n",
      "\n",
      "The behavior of DatetimeProperties.to_pydatetime is deprecated, in a future version this will return a Series containing python datetime objects instead of an ndarray. To retain the old behavior, call `np.array` on the result\n",
      "\n"
     ]
    },
    {
     "data": {
      "application/vnd.plotly.v1+json": {
       "config": {
        "plotlyServerURL": "https://plot.ly"
       },
       "data": [
        {
         "hovertemplate": "variable=title<br>release date=%{x}<br>value=%{y}<extra></extra>",
         "legendgroup": "title",
         "line": {
          "color": "#636efa",
          "dash": "solid"
         },
         "marker": {
          "symbol": "circle"
         },
         "mode": "lines",
         "name": "title",
         "orientation": "v",
         "showlegend": true,
         "type": "scatter",
         "x": [
          "2023-01-31T00:00:00",
          "2023-02-28T00:00:00",
          "2023-03-31T00:00:00",
          "2023-04-30T00:00:00",
          "2023-05-31T00:00:00",
          "2023-06-30T00:00:00",
          "2023-07-31T00:00:00",
          "2023-08-31T00:00:00",
          "2023-09-30T00:00:00",
          "2023-10-31T00:00:00",
          "2023-11-30T00:00:00",
          "2023-12-31T00:00:00"
         ],
         "xaxis": "x",
         "y": [
          22,
          23,
          26,
          29,
          22,
          15,
          19,
          18,
          0,
          5,
          7,
          13
         ],
         "yaxis": "y"
        }
       ],
       "layout": {
        "legend": {
         "title": {
          "text": "variable"
         },
         "tracegroupgap": 0
        },
        "margin": {
         "t": 60
        },
        "template": {
         "data": {
          "bar": [
           {
            "error_x": {
             "color": "#2a3f5f"
            },
            "error_y": {
             "color": "#2a3f5f"
            },
            "marker": {
             "line": {
              "color": "#E5ECF6",
              "width": 0.5
             },
             "pattern": {
              "fillmode": "overlay",
              "size": 10,
              "solidity": 0.2
             }
            },
            "type": "bar"
           }
          ],
          "barpolar": [
           {
            "marker": {
             "line": {
              "color": "#E5ECF6",
              "width": 0.5
             },
             "pattern": {
              "fillmode": "overlay",
              "size": 10,
              "solidity": 0.2
             }
            },
            "type": "barpolar"
           }
          ],
          "carpet": [
           {
            "aaxis": {
             "endlinecolor": "#2a3f5f",
             "gridcolor": "white",
             "linecolor": "white",
             "minorgridcolor": "white",
             "startlinecolor": "#2a3f5f"
            },
            "baxis": {
             "endlinecolor": "#2a3f5f",
             "gridcolor": "white",
             "linecolor": "white",
             "minorgridcolor": "white",
             "startlinecolor": "#2a3f5f"
            },
            "type": "carpet"
           }
          ],
          "choropleth": [
           {
            "colorbar": {
             "outlinewidth": 0,
             "ticks": ""
            },
            "type": "choropleth"
           }
          ],
          "contour": [
           {
            "colorbar": {
             "outlinewidth": 0,
             "ticks": ""
            },
            "colorscale": [
             [
              0,
              "#0d0887"
             ],
             [
              0.1111111111111111,
              "#46039f"
             ],
             [
              0.2222222222222222,
              "#7201a8"
             ],
             [
              0.3333333333333333,
              "#9c179e"
             ],
             [
              0.4444444444444444,
              "#bd3786"
             ],
             [
              0.5555555555555556,
              "#d8576b"
             ],
             [
              0.6666666666666666,
              "#ed7953"
             ],
             [
              0.7777777777777778,
              "#fb9f3a"
             ],
             [
              0.8888888888888888,
              "#fdca26"
             ],
             [
              1,
              "#f0f921"
             ]
            ],
            "type": "contour"
           }
          ],
          "contourcarpet": [
           {
            "colorbar": {
             "outlinewidth": 0,
             "ticks": ""
            },
            "type": "contourcarpet"
           }
          ],
          "heatmap": [
           {
            "colorbar": {
             "outlinewidth": 0,
             "ticks": ""
            },
            "colorscale": [
             [
              0,
              "#0d0887"
             ],
             [
              0.1111111111111111,
              "#46039f"
             ],
             [
              0.2222222222222222,
              "#7201a8"
             ],
             [
              0.3333333333333333,
              "#9c179e"
             ],
             [
              0.4444444444444444,
              "#bd3786"
             ],
             [
              0.5555555555555556,
              "#d8576b"
             ],
             [
              0.6666666666666666,
              "#ed7953"
             ],
             [
              0.7777777777777778,
              "#fb9f3a"
             ],
             [
              0.8888888888888888,
              "#fdca26"
             ],
             [
              1,
              "#f0f921"
             ]
            ],
            "type": "heatmap"
           }
          ],
          "heatmapgl": [
           {
            "colorbar": {
             "outlinewidth": 0,
             "ticks": ""
            },
            "colorscale": [
             [
              0,
              "#0d0887"
             ],
             [
              0.1111111111111111,
              "#46039f"
             ],
             [
              0.2222222222222222,
              "#7201a8"
             ],
             [
              0.3333333333333333,
              "#9c179e"
             ],
             [
              0.4444444444444444,
              "#bd3786"
             ],
             [
              0.5555555555555556,
              "#d8576b"
             ],
             [
              0.6666666666666666,
              "#ed7953"
             ],
             [
              0.7777777777777778,
              "#fb9f3a"
             ],
             [
              0.8888888888888888,
              "#fdca26"
             ],
             [
              1,
              "#f0f921"
             ]
            ],
            "type": "heatmapgl"
           }
          ],
          "histogram": [
           {
            "marker": {
             "pattern": {
              "fillmode": "overlay",
              "size": 10,
              "solidity": 0.2
             }
            },
            "type": "histogram"
           }
          ],
          "histogram2d": [
           {
            "colorbar": {
             "outlinewidth": 0,
             "ticks": ""
            },
            "colorscale": [
             [
              0,
              "#0d0887"
             ],
             [
              0.1111111111111111,
              "#46039f"
             ],
             [
              0.2222222222222222,
              "#7201a8"
             ],
             [
              0.3333333333333333,
              "#9c179e"
             ],
             [
              0.4444444444444444,
              "#bd3786"
             ],
             [
              0.5555555555555556,
              "#d8576b"
             ],
             [
              0.6666666666666666,
              "#ed7953"
             ],
             [
              0.7777777777777778,
              "#fb9f3a"
             ],
             [
              0.8888888888888888,
              "#fdca26"
             ],
             [
              1,
              "#f0f921"
             ]
            ],
            "type": "histogram2d"
           }
          ],
          "histogram2dcontour": [
           {
            "colorbar": {
             "outlinewidth": 0,
             "ticks": ""
            },
            "colorscale": [
             [
              0,
              "#0d0887"
             ],
             [
              0.1111111111111111,
              "#46039f"
             ],
             [
              0.2222222222222222,
              "#7201a8"
             ],
             [
              0.3333333333333333,
              "#9c179e"
             ],
             [
              0.4444444444444444,
              "#bd3786"
             ],
             [
              0.5555555555555556,
              "#d8576b"
             ],
             [
              0.6666666666666666,
              "#ed7953"
             ],
             [
              0.7777777777777778,
              "#fb9f3a"
             ],
             [
              0.8888888888888888,
              "#fdca26"
             ],
             [
              1,
              "#f0f921"
             ]
            ],
            "type": "histogram2dcontour"
           }
          ],
          "mesh3d": [
           {
            "colorbar": {
             "outlinewidth": 0,
             "ticks": ""
            },
            "type": "mesh3d"
           }
          ],
          "parcoords": [
           {
            "line": {
             "colorbar": {
              "outlinewidth": 0,
              "ticks": ""
             }
            },
            "type": "parcoords"
           }
          ],
          "pie": [
           {
            "automargin": true,
            "type": "pie"
           }
          ],
          "scatter": [
           {
            "fillpattern": {
             "fillmode": "overlay",
             "size": 10,
             "solidity": 0.2
            },
            "type": "scatter"
           }
          ],
          "scatter3d": [
           {
            "line": {
             "colorbar": {
              "outlinewidth": 0,
              "ticks": ""
             }
            },
            "marker": {
             "colorbar": {
              "outlinewidth": 0,
              "ticks": ""
             }
            },
            "type": "scatter3d"
           }
          ],
          "scattercarpet": [
           {
            "marker": {
             "colorbar": {
              "outlinewidth": 0,
              "ticks": ""
             }
            },
            "type": "scattercarpet"
           }
          ],
          "scattergeo": [
           {
            "marker": {
             "colorbar": {
              "outlinewidth": 0,
              "ticks": ""
             }
            },
            "type": "scattergeo"
           }
          ],
          "scattergl": [
           {
            "marker": {
             "colorbar": {
              "outlinewidth": 0,
              "ticks": ""
             }
            },
            "type": "scattergl"
           }
          ],
          "scattermapbox": [
           {
            "marker": {
             "colorbar": {
              "outlinewidth": 0,
              "ticks": ""
             }
            },
            "type": "scattermapbox"
           }
          ],
          "scatterpolar": [
           {
            "marker": {
             "colorbar": {
              "outlinewidth": 0,
              "ticks": ""
             }
            },
            "type": "scatterpolar"
           }
          ],
          "scatterpolargl": [
           {
            "marker": {
             "colorbar": {
              "outlinewidth": 0,
              "ticks": ""
             }
            },
            "type": "scatterpolargl"
           }
          ],
          "scatterternary": [
           {
            "marker": {
             "colorbar": {
              "outlinewidth": 0,
              "ticks": ""
             }
            },
            "type": "scatterternary"
           }
          ],
          "surface": [
           {
            "colorbar": {
             "outlinewidth": 0,
             "ticks": ""
            },
            "colorscale": [
             [
              0,
              "#0d0887"
             ],
             [
              0.1111111111111111,
              "#46039f"
             ],
             [
              0.2222222222222222,
              "#7201a8"
             ],
             [
              0.3333333333333333,
              "#9c179e"
             ],
             [
              0.4444444444444444,
              "#bd3786"
             ],
             [
              0.5555555555555556,
              "#d8576b"
             ],
             [
              0.6666666666666666,
              "#ed7953"
             ],
             [
              0.7777777777777778,
              "#fb9f3a"
             ],
             [
              0.8888888888888888,
              "#fdca26"
             ],
             [
              1,
              "#f0f921"
             ]
            ],
            "type": "surface"
           }
          ],
          "table": [
           {
            "cells": {
             "fill": {
              "color": "#EBF0F8"
             },
             "line": {
              "color": "white"
             }
            },
            "header": {
             "fill": {
              "color": "#C8D4E3"
             },
             "line": {
              "color": "white"
             }
            },
            "type": "table"
           }
          ]
         },
         "layout": {
          "annotationdefaults": {
           "arrowcolor": "#2a3f5f",
           "arrowhead": 0,
           "arrowwidth": 1
          },
          "autotypenumbers": "strict",
          "coloraxis": {
           "colorbar": {
            "outlinewidth": 0,
            "ticks": ""
           }
          },
          "colorscale": {
           "diverging": [
            [
             0,
             "#8e0152"
            ],
            [
             0.1,
             "#c51b7d"
            ],
            [
             0.2,
             "#de77ae"
            ],
            [
             0.3,
             "#f1b6da"
            ],
            [
             0.4,
             "#fde0ef"
            ],
            [
             0.5,
             "#f7f7f7"
            ],
            [
             0.6,
             "#e6f5d0"
            ],
            [
             0.7,
             "#b8e186"
            ],
            [
             0.8,
             "#7fbc41"
            ],
            [
             0.9,
             "#4d9221"
            ],
            [
             1,
             "#276419"
            ]
           ],
           "sequential": [
            [
             0,
             "#0d0887"
            ],
            [
             0.1111111111111111,
             "#46039f"
            ],
            [
             0.2222222222222222,
             "#7201a8"
            ],
            [
             0.3333333333333333,
             "#9c179e"
            ],
            [
             0.4444444444444444,
             "#bd3786"
            ],
            [
             0.5555555555555556,
             "#d8576b"
            ],
            [
             0.6666666666666666,
             "#ed7953"
            ],
            [
             0.7777777777777778,
             "#fb9f3a"
            ],
            [
             0.8888888888888888,
             "#fdca26"
            ],
            [
             1,
             "#f0f921"
            ]
           ],
           "sequentialminus": [
            [
             0,
             "#0d0887"
            ],
            [
             0.1111111111111111,
             "#46039f"
            ],
            [
             0.2222222222222222,
             "#7201a8"
            ],
            [
             0.3333333333333333,
             "#9c179e"
            ],
            [
             0.4444444444444444,
             "#bd3786"
            ],
            [
             0.5555555555555556,
             "#d8576b"
            ],
            [
             0.6666666666666666,
             "#ed7953"
            ],
            [
             0.7777777777777778,
             "#fb9f3a"
            ],
            [
             0.8888888888888888,
             "#fdca26"
            ],
            [
             1,
             "#f0f921"
            ]
           ]
          },
          "colorway": [
           "#636efa",
           "#EF553B",
           "#00cc96",
           "#ab63fa",
           "#FFA15A",
           "#19d3f3",
           "#FF6692",
           "#B6E880",
           "#FF97FF",
           "#FECB52"
          ],
          "font": {
           "color": "#2a3f5f"
          },
          "geo": {
           "bgcolor": "white",
           "lakecolor": "white",
           "landcolor": "#E5ECF6",
           "showlakes": true,
           "showland": true,
           "subunitcolor": "white"
          },
          "hoverlabel": {
           "align": "left"
          },
          "hovermode": "closest",
          "mapbox": {
           "style": "light"
          },
          "paper_bgcolor": "white",
          "plot_bgcolor": "#E5ECF6",
          "polar": {
           "angularaxis": {
            "gridcolor": "white",
            "linecolor": "white",
            "ticks": ""
           },
           "bgcolor": "#E5ECF6",
           "radialaxis": {
            "gridcolor": "white",
            "linecolor": "white",
            "ticks": ""
           }
          },
          "scene": {
           "xaxis": {
            "backgroundcolor": "#E5ECF6",
            "gridcolor": "white",
            "gridwidth": 2,
            "linecolor": "white",
            "showbackground": true,
            "ticks": "",
            "zerolinecolor": "white"
           },
           "yaxis": {
            "backgroundcolor": "#E5ECF6",
            "gridcolor": "white",
            "gridwidth": 2,
            "linecolor": "white",
            "showbackground": true,
            "ticks": "",
            "zerolinecolor": "white"
           },
           "zaxis": {
            "backgroundcolor": "#E5ECF6",
            "gridcolor": "white",
            "gridwidth": 2,
            "linecolor": "white",
            "showbackground": true,
            "ticks": "",
            "zerolinecolor": "white"
           }
          },
          "shapedefaults": {
           "line": {
            "color": "#2a3f5f"
           }
          },
          "ternary": {
           "aaxis": {
            "gridcolor": "white",
            "linecolor": "white",
            "ticks": ""
           },
           "baxis": {
            "gridcolor": "white",
            "linecolor": "white",
            "ticks": ""
           },
           "bgcolor": "#E5ECF6",
           "caxis": {
            "gridcolor": "white",
            "linecolor": "white",
            "ticks": ""
           }
          },
          "title": {
           "x": 0.05
          },
          "xaxis": {
           "automargin": true,
           "gridcolor": "white",
           "linecolor": "white",
           "ticks": "",
           "title": {
            "standoff": 15
           },
           "zerolinecolor": "white",
           "zerolinewidth": 2
          },
          "yaxis": {
           "automargin": true,
           "gridcolor": "white",
           "linecolor": "white",
           "ticks": "",
           "title": {
            "standoff": 15
           },
           "zerolinecolor": "white",
           "zerolinewidth": 2
          }
         }
        },
        "xaxis": {
         "anchor": "y",
         "domain": [
          0,
          1
         ],
         "title": {
          "text": "release date"
         }
        },
        "yaxis": {
         "anchor": "x",
         "domain": [
          0,
          1
         ],
         "title": {
          "text": "value"
         }
        }
       }
      }
     },
     "metadata": {},
     "output_type": "display_data"
    }
   ],
   "source": [
    "px.line(data_frame=bivar)"
   ]
  },
  {
   "cell_type": "code",
   "execution_count": 35,
   "metadata": {},
   "outputs": [],
   "source": [
    "#bivar['release date'] = bivar['release date'].astype('datetime64[ns]')"
   ]
  },
  {
   "cell_type": "code",
   "execution_count": 36,
   "metadata": {},
   "outputs": [],
   "source": [
    "#bivar['release date'] = bivar['release date'].dt.to_timestamp()"
   ]
  },
  {
   "cell_type": "code",
   "execution_count": 37,
   "metadata": {},
   "outputs": [],
   "source": [
    "#bivar['release date'] = bivar['release date'].dt.to_period('M')"
   ]
  },
  {
   "cell_type": "code",
   "execution_count": 38,
   "metadata": {},
   "outputs": [],
   "source": [
    "#bivar.head()"
   ]
  },
  {
   "cell_type": "code",
   "execution_count": 39,
   "metadata": {},
   "outputs": [],
   "source": [
    "#bivar.groupby('title')['release date']"
   ]
  }
 ],
 "metadata": {
  "kernelspec": {
   "display_name": "Python 3",
   "language": "python",
   "name": "python3"
  },
  "language_info": {
   "codemirror_mode": {
    "name": "ipython",
    "version": 3
   },
   "file_extension": ".py",
   "mimetype": "text/x-python",
   "name": "python",
   "nbconvert_exporter": "python",
   "pygments_lexer": "ipython3",
   "version": "3.11.5"
  },
  "orig_nbformat": 4
 },
 "nbformat": 4,
 "nbformat_minor": 2
}
